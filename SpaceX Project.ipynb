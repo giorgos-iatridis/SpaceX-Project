{
 "cells": [
  {
   "cell_type": "markdown",
   "id": "aa393710-d37b-4359-af65-088b091a1958",
   "metadata": {},
   "source": [
    "# SpaceX Falcon 9 first stage Landing Prediction"
   ]
  },
  {
   "cell_type": "markdown",
   "id": "507a69af-67ad-40b8-8260-54b1ff30bf0c",
   "metadata": {
    "jp-MarkdownHeadingCollapsed": true
   },
   "source": [
    "## 1. Project Overview"
   ]
  },
  {
   "cell_type": "markdown",
   "id": "a6bd958c-f760-448b-8409-9cf3f199ee58",
   "metadata": {
    "jp-MarkdownHeadingCollapsed": true
   },
   "source": [
    "## 2. Data Collection"
   ]
  },
  {
   "cell_type": "markdown",
   "id": "75f0af7a-a87f-409d-b017-0a016c3a326b",
   "metadata": {
    "jp-MarkdownHeadingCollapsed": true
   },
   "source": [
    "### 2.1 SpaceX API (up to 2022)"
   ]
  },
  {
   "cell_type": "code",
   "execution_count": 15,
   "id": "785a8693-b1ae-4e01-a75e-5ae4f77761ce",
   "metadata": {},
   "outputs": [],
   "source": [
    "# Required libraries\n",
    "import requests\n",
    "import pandas as pd\n",
    "import numpy as np\n",
    "import seaborn as sns\n",
    "import matplotlib.pyplot as plt\n",
    "import joblib"
   ]
  },
  {
   "cell_type": "code",
   "execution_count": 68,
   "id": "5bcaae6d-b0de-45e0-9538-72d8d9ad0197",
   "metadata": {
    "scrolled": true
   },
   "outputs": [],
   "source": [
    "# Data Collection from API\n",
    "spacex_url=\"https://api.spacexdata.com/v4/launches/\"\n",
    "response = requests.get(spacex_url)\n",
    "data = response.json()\n",
    "\n",
    "pd.set_option('display.max_columns', None)\n",
    "pd.set_option('display.max_colwidth', None)\n",
    "\n",
    "data = pd.DataFrame(data)"
   ]
  },
  {
   "cell_type": "code",
   "execution_count": 69,
   "id": "6d14d5e1-38ed-4522-a86c-0f30c51a9d20",
   "metadata": {},
   "outputs": [
    {
     "data": {
      "text/html": [
       "<div>\n",
       "<style scoped>\n",
       "    .dataframe tbody tr th:only-of-type {\n",
       "        vertical-align: middle;\n",
       "    }\n",
       "\n",
       "    .dataframe tbody tr th {\n",
       "        vertical-align: top;\n",
       "    }\n",
       "\n",
       "    .dataframe thead th {\n",
       "        text-align: right;\n",
       "    }\n",
       "</style>\n",
       "<table border=\"1\" class=\"dataframe\">\n",
       "  <thead>\n",
       "    <tr style=\"text-align: right;\">\n",
       "      <th></th>\n",
       "      <th>fairings</th>\n",
       "      <th>links</th>\n",
       "      <th>static_fire_date_utc</th>\n",
       "      <th>static_fire_date_unix</th>\n",
       "      <th>net</th>\n",
       "      <th>window</th>\n",
       "      <th>rocket</th>\n",
       "      <th>success</th>\n",
       "      <th>failures</th>\n",
       "      <th>details</th>\n",
       "      <th>crew</th>\n",
       "      <th>ships</th>\n",
       "      <th>capsules</th>\n",
       "      <th>payloads</th>\n",
       "      <th>launchpad</th>\n",
       "      <th>flight_number</th>\n",
       "      <th>name</th>\n",
       "      <th>date_utc</th>\n",
       "      <th>date_unix</th>\n",
       "      <th>date_local</th>\n",
       "      <th>date_precision</th>\n",
       "      <th>upcoming</th>\n",
       "      <th>cores</th>\n",
       "      <th>auto_update</th>\n",
       "      <th>tbd</th>\n",
       "      <th>launch_library_id</th>\n",
       "      <th>id</th>\n",
       "    </tr>\n",
       "  </thead>\n",
       "  <tbody>\n",
       "    <tr>\n",
       "      <th>0</th>\n",
       "      <td>{'reused': False, 'recovery_attempt': False, 'recovered': False, 'ships': []}</td>\n",
       "      <td>{'patch': {'small': 'https://images2.imgbox.com/94/f2/NN6Ph45r_o.png', 'large': 'https://images2.imgbox.com/5b/02/QcxHUb5V_o.png'}, 'reddit': {'campaign': None, 'launch': None, 'media': None, 'recovery': None}, 'flickr': {'small': [], 'original': []}, 'presskit': None, 'webcast': 'https://www.youtube.com/watch?v=0a_00nJ_Y88', 'youtube_id': '0a_00nJ_Y88', 'article': 'https://www.space.com/2196-spacex-inaugural-falcon-1-rocket-lost-launch.html', 'wikipedia': 'https://en.wikipedia.org/wiki/DemoSat'}</td>\n",
       "      <td>2006-03-17T00:00:00.000Z</td>\n",
       "      <td>1.142554e+09</td>\n",
       "      <td>False</td>\n",
       "      <td>0.0</td>\n",
       "      <td>5e9d0d95eda69955f709d1eb</td>\n",
       "      <td>False</td>\n",
       "      <td>[{'time': 33, 'altitude': None, 'reason': 'merlin engine failure'}]</td>\n",
       "      <td>Engine failure at 33 seconds and loss of vehicle</td>\n",
       "      <td>[]</td>\n",
       "      <td>[]</td>\n",
       "      <td>[]</td>\n",
       "      <td>[5eb0e4b5b6c3bb0006eeb1e1]</td>\n",
       "      <td>5e9e4502f5090995de566f86</td>\n",
       "      <td>1</td>\n",
       "      <td>FalconSat</td>\n",
       "      <td>2006-03-24T22:30:00.000Z</td>\n",
       "      <td>1143239400</td>\n",
       "      <td>2006-03-25T10:30:00+12:00</td>\n",
       "      <td>hour</td>\n",
       "      <td>False</td>\n",
       "      <td>[{'core': '5e9e289df35918033d3b2623', 'flight': 1, 'gridfins': False, 'legs': False, 'reused': False, 'landing_attempt': False, 'landing_success': None, 'landing_type': None, 'landpad': None}]</td>\n",
       "      <td>True</td>\n",
       "      <td>False</td>\n",
       "      <td>None</td>\n",
       "      <td>5eb87cd9ffd86e000604b32a</td>\n",
       "    </tr>\n",
       "    <tr>\n",
       "      <th>1</th>\n",
       "      <td>{'reused': False, 'recovery_attempt': False, 'recovered': False, 'ships': []}</td>\n",
       "      <td>{'patch': {'small': 'https://images2.imgbox.com/f9/4a/ZboXReNb_o.png', 'large': 'https://images2.imgbox.com/80/a2/bkWotCIS_o.png'}, 'reddit': {'campaign': None, 'launch': None, 'media': None, 'recovery': None}, 'flickr': {'small': [], 'original': []}, 'presskit': None, 'webcast': 'https://www.youtube.com/watch?v=Lk4zQ2wP-Nc', 'youtube_id': 'Lk4zQ2wP-Nc', 'article': 'https://www.space.com/3590-spacex-falcon-1-rocket-fails-reach-orbit.html', 'wikipedia': 'https://en.wikipedia.org/wiki/DemoSat'}</td>\n",
       "      <td>None</td>\n",
       "      <td>NaN</td>\n",
       "      <td>False</td>\n",
       "      <td>0.0</td>\n",
       "      <td>5e9d0d95eda69955f709d1eb</td>\n",
       "      <td>False</td>\n",
       "      <td>[{'time': 301, 'altitude': 289, 'reason': 'harmonic oscillation leading to premature engine shutdown'}]</td>\n",
       "      <td>Successful first stage burn and transition to second stage, maximum altitude 289 km, Premature engine shutdown at T+7 min 30 s, Failed to reach orbit, Failed to recover first stage</td>\n",
       "      <td>[]</td>\n",
       "      <td>[]</td>\n",
       "      <td>[]</td>\n",
       "      <td>[5eb0e4b6b6c3bb0006eeb1e2]</td>\n",
       "      <td>5e9e4502f5090995de566f86</td>\n",
       "      <td>2</td>\n",
       "      <td>DemoSat</td>\n",
       "      <td>2007-03-21T01:10:00.000Z</td>\n",
       "      <td>1174439400</td>\n",
       "      <td>2007-03-21T13:10:00+12:00</td>\n",
       "      <td>hour</td>\n",
       "      <td>False</td>\n",
       "      <td>[{'core': '5e9e289ef35918416a3b2624', 'flight': 1, 'gridfins': False, 'legs': False, 'reused': False, 'landing_attempt': False, 'landing_success': None, 'landing_type': None, 'landpad': None}]</td>\n",
       "      <td>True</td>\n",
       "      <td>False</td>\n",
       "      <td>None</td>\n",
       "      <td>5eb87cdaffd86e000604b32b</td>\n",
       "    </tr>\n",
       "    <tr>\n",
       "      <th>2</th>\n",
       "      <td>{'reused': False, 'recovery_attempt': False, 'recovered': False, 'ships': []}</td>\n",
       "      <td>{'patch': {'small': 'https://images2.imgbox.com/6c/cb/na1tzhHs_o.png', 'large': 'https://images2.imgbox.com/4a/80/k1oAkY0k_o.png'}, 'reddit': {'campaign': None, 'launch': None, 'media': None, 'recovery': None}, 'flickr': {'small': [], 'original': []}, 'presskit': None, 'webcast': 'https://www.youtube.com/watch?v=v0w9p3U8860', 'youtube_id': 'v0w9p3U8860', 'article': 'http://www.spacex.com/news/2013/02/11/falcon-1-flight-3-mission-summary', 'wikipedia': 'https://en.wikipedia.org/wiki/Trailblazer_(satellite)'}</td>\n",
       "      <td>None</td>\n",
       "      <td>NaN</td>\n",
       "      <td>False</td>\n",
       "      <td>0.0</td>\n",
       "      <td>5e9d0d95eda69955f709d1eb</td>\n",
       "      <td>False</td>\n",
       "      <td>[{'time': 140, 'altitude': 35, 'reason': 'residual stage-1 thrust led to collision between stage 1 and stage 2'}]</td>\n",
       "      <td>Residual stage 1 thrust led to collision between stage 1 and stage 2</td>\n",
       "      <td>[]</td>\n",
       "      <td>[]</td>\n",
       "      <td>[]</td>\n",
       "      <td>[5eb0e4b6b6c3bb0006eeb1e3, 5eb0e4b6b6c3bb0006eeb1e4]</td>\n",
       "      <td>5e9e4502f5090995de566f86</td>\n",
       "      <td>3</td>\n",
       "      <td>Trailblazer</td>\n",
       "      <td>2008-08-03T03:34:00.000Z</td>\n",
       "      <td>1217734440</td>\n",
       "      <td>2008-08-03T15:34:00+12:00</td>\n",
       "      <td>hour</td>\n",
       "      <td>False</td>\n",
       "      <td>[{'core': '5e9e289ef3591814873b2625', 'flight': 1, 'gridfins': False, 'legs': False, 'reused': False, 'landing_attempt': False, 'landing_success': None, 'landing_type': None, 'landpad': None}]</td>\n",
       "      <td>True</td>\n",
       "      <td>False</td>\n",
       "      <td>None</td>\n",
       "      <td>5eb87cdbffd86e000604b32c</td>\n",
       "    </tr>\n",
       "    <tr>\n",
       "      <th>3</th>\n",
       "      <td>{'reused': False, 'recovery_attempt': False, 'recovered': False, 'ships': []}</td>\n",
       "      <td>{'patch': {'small': 'https://images2.imgbox.com/95/39/sRqN7rsv_o.png', 'large': 'https://images2.imgbox.com/a3/99/qswRYzE8_o.png'}, 'reddit': {'campaign': None, 'launch': None, 'media': None, 'recovery': None}, 'flickr': {'small': [], 'original': []}, 'presskit': None, 'webcast': 'https://www.youtube.com/watch?v=dLQ2tZEH6G0', 'youtube_id': 'dLQ2tZEH6G0', 'article': 'https://en.wikipedia.org/wiki/Ratsat', 'wikipedia': 'https://en.wikipedia.org/wiki/Ratsat'}</td>\n",
       "      <td>2008-09-20T00:00:00.000Z</td>\n",
       "      <td>1.221869e+09</td>\n",
       "      <td>False</td>\n",
       "      <td>0.0</td>\n",
       "      <td>5e9d0d95eda69955f709d1eb</td>\n",
       "      <td>True</td>\n",
       "      <td>[]</td>\n",
       "      <td>Ratsat was carried to orbit on the first successful orbital launch of any privately funded and developed, liquid-propelled carrier rocket, the SpaceX Falcon 1</td>\n",
       "      <td>[]</td>\n",
       "      <td>[]</td>\n",
       "      <td>[]</td>\n",
       "      <td>[5eb0e4b7b6c3bb0006eeb1e5]</td>\n",
       "      <td>5e9e4502f5090995de566f86</td>\n",
       "      <td>4</td>\n",
       "      <td>RatSat</td>\n",
       "      <td>2008-09-28T23:15:00.000Z</td>\n",
       "      <td>1222643700</td>\n",
       "      <td>2008-09-28T11:15:00+12:00</td>\n",
       "      <td>hour</td>\n",
       "      <td>False</td>\n",
       "      <td>[{'core': '5e9e289ef3591855dc3b2626', 'flight': 1, 'gridfins': False, 'legs': False, 'reused': False, 'landing_attempt': False, 'landing_success': None, 'landing_type': None, 'landpad': None}]</td>\n",
       "      <td>True</td>\n",
       "      <td>False</td>\n",
       "      <td>None</td>\n",
       "      <td>5eb87cdbffd86e000604b32d</td>\n",
       "    </tr>\n",
       "    <tr>\n",
       "      <th>4</th>\n",
       "      <td>{'reused': False, 'recovery_attempt': False, 'recovered': False, 'ships': []}</td>\n",
       "      <td>{'patch': {'small': 'https://images2.imgbox.com/ab/5a/Pequxd5d_o.png', 'large': 'https://images2.imgbox.com/92/e4/7Cf6MLY0_o.png'}, 'reddit': {'campaign': None, 'launch': None, 'media': None, 'recovery': None}, 'flickr': {'small': [], 'original': []}, 'presskit': 'http://www.spacex.com/press/2012/12/19/spacexs-falcon-1-successfully-delivers-razaksat-satellite-orbit', 'webcast': 'https://www.youtube.com/watch?v=yTaIDooc8Og', 'youtube_id': 'yTaIDooc8Og', 'article': 'http://www.spacex.com/news/2013/02/12/falcon-1-flight-5', 'wikipedia': 'https://en.wikipedia.org/wiki/RazakSAT'}</td>\n",
       "      <td>None</td>\n",
       "      <td>NaN</td>\n",
       "      <td>False</td>\n",
       "      <td>0.0</td>\n",
       "      <td>5e9d0d95eda69955f709d1eb</td>\n",
       "      <td>True</td>\n",
       "      <td>[]</td>\n",
       "      <td>None</td>\n",
       "      <td>[]</td>\n",
       "      <td>[]</td>\n",
       "      <td>[]</td>\n",
       "      <td>[5eb0e4b7b6c3bb0006eeb1e6]</td>\n",
       "      <td>5e9e4502f5090995de566f86</td>\n",
       "      <td>5</td>\n",
       "      <td>RazakSat</td>\n",
       "      <td>2009-07-13T03:35:00.000Z</td>\n",
       "      <td>1247456100</td>\n",
       "      <td>2009-07-13T15:35:00+12:00</td>\n",
       "      <td>hour</td>\n",
       "      <td>False</td>\n",
       "      <td>[{'core': '5e9e289ef359184f103b2627', 'flight': 1, 'gridfins': False, 'legs': False, 'reused': False, 'landing_attempt': False, 'landing_success': None, 'landing_type': None, 'landpad': None}]</td>\n",
       "      <td>True</td>\n",
       "      <td>False</td>\n",
       "      <td>None</td>\n",
       "      <td>5eb87cdcffd86e000604b32e</td>\n",
       "    </tr>\n",
       "  </tbody>\n",
       "</table>\n",
       "</div>"
      ],
      "text/plain": [
       "                                                                        fairings  \\\n",
       "0  {'reused': False, 'recovery_attempt': False, 'recovered': False, 'ships': []}   \n",
       "1  {'reused': False, 'recovery_attempt': False, 'recovered': False, 'ships': []}   \n",
       "2  {'reused': False, 'recovery_attempt': False, 'recovered': False, 'ships': []}   \n",
       "3  {'reused': False, 'recovery_attempt': False, 'recovered': False, 'ships': []}   \n",
       "4  {'reused': False, 'recovery_attempt': False, 'recovered': False, 'ships': []}   \n",
       "\n",
       "                                                                                                                                                                                                                                                                                                                                                                                                                                                                                                                                                                                                   links  \\\n",
       "0                                                                                  {'patch': {'small': 'https://images2.imgbox.com/94/f2/NN6Ph45r_o.png', 'large': 'https://images2.imgbox.com/5b/02/QcxHUb5V_o.png'}, 'reddit': {'campaign': None, 'launch': None, 'media': None, 'recovery': None}, 'flickr': {'small': [], 'original': []}, 'presskit': None, 'webcast': 'https://www.youtube.com/watch?v=0a_00nJ_Y88', 'youtube_id': '0a_00nJ_Y88', 'article': 'https://www.space.com/2196-spacex-inaugural-falcon-1-rocket-lost-launch.html', 'wikipedia': 'https://en.wikipedia.org/wiki/DemoSat'}   \n",
       "1                                                                                      {'patch': {'small': 'https://images2.imgbox.com/f9/4a/ZboXReNb_o.png', 'large': 'https://images2.imgbox.com/80/a2/bkWotCIS_o.png'}, 'reddit': {'campaign': None, 'launch': None, 'media': None, 'recovery': None}, 'flickr': {'small': [], 'original': []}, 'presskit': None, 'webcast': 'https://www.youtube.com/watch?v=Lk4zQ2wP-Nc', 'youtube_id': 'Lk4zQ2wP-Nc', 'article': 'https://www.space.com/3590-spacex-falcon-1-rocket-fails-reach-orbit.html', 'wikipedia': 'https://en.wikipedia.org/wiki/DemoSat'}   \n",
       "2                                                                       {'patch': {'small': 'https://images2.imgbox.com/6c/cb/na1tzhHs_o.png', 'large': 'https://images2.imgbox.com/4a/80/k1oAkY0k_o.png'}, 'reddit': {'campaign': None, 'launch': None, 'media': None, 'recovery': None}, 'flickr': {'small': [], 'original': []}, 'presskit': None, 'webcast': 'https://www.youtube.com/watch?v=v0w9p3U8860', 'youtube_id': 'v0w9p3U8860', 'article': 'http://www.spacex.com/news/2013/02/11/falcon-1-flight-3-mission-summary', 'wikipedia': 'https://en.wikipedia.org/wiki/Trailblazer_(satellite)'}   \n",
       "3                                                                                                                           {'patch': {'small': 'https://images2.imgbox.com/95/39/sRqN7rsv_o.png', 'large': 'https://images2.imgbox.com/a3/99/qswRYzE8_o.png'}, 'reddit': {'campaign': None, 'launch': None, 'media': None, 'recovery': None}, 'flickr': {'small': [], 'original': []}, 'presskit': None, 'webcast': 'https://www.youtube.com/watch?v=dLQ2tZEH6G0', 'youtube_id': 'dLQ2tZEH6G0', 'article': 'https://en.wikipedia.org/wiki/Ratsat', 'wikipedia': 'https://en.wikipedia.org/wiki/Ratsat'}   \n",
       "4  {'patch': {'small': 'https://images2.imgbox.com/ab/5a/Pequxd5d_o.png', 'large': 'https://images2.imgbox.com/92/e4/7Cf6MLY0_o.png'}, 'reddit': {'campaign': None, 'launch': None, 'media': None, 'recovery': None}, 'flickr': {'small': [], 'original': []}, 'presskit': 'http://www.spacex.com/press/2012/12/19/spacexs-falcon-1-successfully-delivers-razaksat-satellite-orbit', 'webcast': 'https://www.youtube.com/watch?v=yTaIDooc8Og', 'youtube_id': 'yTaIDooc8Og', 'article': 'http://www.spacex.com/news/2013/02/12/falcon-1-flight-5', 'wikipedia': 'https://en.wikipedia.org/wiki/RazakSAT'}   \n",
       "\n",
       "       static_fire_date_utc  static_fire_date_unix    net  window  \\\n",
       "0  2006-03-17T00:00:00.000Z           1.142554e+09  False     0.0   \n",
       "1                      None                    NaN  False     0.0   \n",
       "2                      None                    NaN  False     0.0   \n",
       "3  2008-09-20T00:00:00.000Z           1.221869e+09  False     0.0   \n",
       "4                      None                    NaN  False     0.0   \n",
       "\n",
       "                     rocket success  \\\n",
       "0  5e9d0d95eda69955f709d1eb   False   \n",
       "1  5e9d0d95eda69955f709d1eb   False   \n",
       "2  5e9d0d95eda69955f709d1eb   False   \n",
       "3  5e9d0d95eda69955f709d1eb    True   \n",
       "4  5e9d0d95eda69955f709d1eb    True   \n",
       "\n",
       "                                                                                                            failures  \\\n",
       "0                                                [{'time': 33, 'altitude': None, 'reason': 'merlin engine failure'}]   \n",
       "1            [{'time': 301, 'altitude': 289, 'reason': 'harmonic oscillation leading to premature engine shutdown'}]   \n",
       "2  [{'time': 140, 'altitude': 35, 'reason': 'residual stage-1 thrust led to collision between stage 1 and stage 2'}]   \n",
       "3                                                                                                                 []   \n",
       "4                                                                                                                 []   \n",
       "\n",
       "                                                                                                                                                                                details  \\\n",
       "0                                                                                                                                      Engine failure at 33 seconds and loss of vehicle   \n",
       "1  Successful first stage burn and transition to second stage, maximum altitude 289 km, Premature engine shutdown at T+7 min 30 s, Failed to reach orbit, Failed to recover first stage   \n",
       "2                                                                                                                  Residual stage 1 thrust led to collision between stage 1 and stage 2   \n",
       "3                        Ratsat was carried to orbit on the first successful orbital launch of any privately funded and developed, liquid-propelled carrier rocket, the SpaceX Falcon 1   \n",
       "4                                                                                                                                                                                  None   \n",
       "\n",
       "  crew ships capsules                                              payloads  \\\n",
       "0   []    []       []                            [5eb0e4b5b6c3bb0006eeb1e1]   \n",
       "1   []    []       []                            [5eb0e4b6b6c3bb0006eeb1e2]   \n",
       "2   []    []       []  [5eb0e4b6b6c3bb0006eeb1e3, 5eb0e4b6b6c3bb0006eeb1e4]   \n",
       "3   []    []       []                            [5eb0e4b7b6c3bb0006eeb1e5]   \n",
       "4   []    []       []                            [5eb0e4b7b6c3bb0006eeb1e6]   \n",
       "\n",
       "                  launchpad  flight_number         name  \\\n",
       "0  5e9e4502f5090995de566f86              1    FalconSat   \n",
       "1  5e9e4502f5090995de566f86              2      DemoSat   \n",
       "2  5e9e4502f5090995de566f86              3  Trailblazer   \n",
       "3  5e9e4502f5090995de566f86              4       RatSat   \n",
       "4  5e9e4502f5090995de566f86              5     RazakSat   \n",
       "\n",
       "                   date_utc   date_unix                 date_local  \\\n",
       "0  2006-03-24T22:30:00.000Z  1143239400  2006-03-25T10:30:00+12:00   \n",
       "1  2007-03-21T01:10:00.000Z  1174439400  2007-03-21T13:10:00+12:00   \n",
       "2  2008-08-03T03:34:00.000Z  1217734440  2008-08-03T15:34:00+12:00   \n",
       "3  2008-09-28T23:15:00.000Z  1222643700  2008-09-28T11:15:00+12:00   \n",
       "4  2009-07-13T03:35:00.000Z  1247456100  2009-07-13T15:35:00+12:00   \n",
       "\n",
       "  date_precision  upcoming  \\\n",
       "0           hour     False   \n",
       "1           hour     False   \n",
       "2           hour     False   \n",
       "3           hour     False   \n",
       "4           hour     False   \n",
       "\n",
       "                                                                                                                                                                                              cores  \\\n",
       "0  [{'core': '5e9e289df35918033d3b2623', 'flight': 1, 'gridfins': False, 'legs': False, 'reused': False, 'landing_attempt': False, 'landing_success': None, 'landing_type': None, 'landpad': None}]   \n",
       "1  [{'core': '5e9e289ef35918416a3b2624', 'flight': 1, 'gridfins': False, 'legs': False, 'reused': False, 'landing_attempt': False, 'landing_success': None, 'landing_type': None, 'landpad': None}]   \n",
       "2  [{'core': '5e9e289ef3591814873b2625', 'flight': 1, 'gridfins': False, 'legs': False, 'reused': False, 'landing_attempt': False, 'landing_success': None, 'landing_type': None, 'landpad': None}]   \n",
       "3  [{'core': '5e9e289ef3591855dc3b2626', 'flight': 1, 'gridfins': False, 'legs': False, 'reused': False, 'landing_attempt': False, 'landing_success': None, 'landing_type': None, 'landpad': None}]   \n",
       "4  [{'core': '5e9e289ef359184f103b2627', 'flight': 1, 'gridfins': False, 'legs': False, 'reused': False, 'landing_attempt': False, 'landing_success': None, 'landing_type': None, 'landpad': None}]   \n",
       "\n",
       "   auto_update    tbd launch_library_id                        id  \n",
       "0         True  False              None  5eb87cd9ffd86e000604b32a  \n",
       "1         True  False              None  5eb87cdaffd86e000604b32b  \n",
       "2         True  False              None  5eb87cdbffd86e000604b32c  \n",
       "3         True  False              None  5eb87cdbffd86e000604b32d  \n",
       "4         True  False              None  5eb87cdcffd86e000604b32e  "
      ]
     },
     "execution_count": 69,
     "metadata": {},
     "output_type": "execute_result"
    }
   ],
   "source": [
    "data.head()"
   ]
  },
  {
   "cell_type": "code",
   "execution_count": 70,
   "id": "0de26859-8cd7-49ac-a1ef-349df518284e",
   "metadata": {},
   "outputs": [
    {
     "data": {
      "text/plain": [
       "(205, 27)"
      ]
     },
     "execution_count": 70,
     "metadata": {},
     "output_type": "execute_result"
    }
   ],
   "source": [
    "data.shape"
   ]
  },
  {
   "cell_type": "code",
   "execution_count": 71,
   "id": "caa9da0a-88af-48d1-88f7-52fd81bb01fc",
   "metadata": {},
   "outputs": [
    {
     "data": {
      "text/plain": [
       "Index(['fairings', 'links', 'static_fire_date_utc', 'static_fire_date_unix',\n",
       "       'net', 'window', 'rocket', 'success', 'failures', 'details', 'crew',\n",
       "       'ships', 'capsules', 'payloads', 'launchpad', 'flight_number', 'name',\n",
       "       'date_utc', 'date_unix', 'date_local', 'date_precision', 'upcoming',\n",
       "       'cores', 'auto_update', 'tbd', 'launch_library_id', 'id'],\n",
       "      dtype='object')"
      ]
     },
     "execution_count": 71,
     "metadata": {},
     "output_type": "execute_result"
    }
   ],
   "source": [
    "data.columns"
   ]
  },
  {
   "cell_type": "code",
   "execution_count": 72,
   "id": "23f34fa3-849d-4a70-8d55-6f32802f729c",
   "metadata": {},
   "outputs": [],
   "source": [
    "# Important functions to extract features from the data\n",
    "def get_BoosterVersion(data):\n",
    "    for x in data['rocket']:\n",
    "        if x:\n",
    "            response = requests.get(\"https://api.spacexdata.com/v4/rockets/\"+str(x)).json()\n",
    "            BoosterVersion.append(response['name'])\n",
    "\n",
    "def get_LaunchSite(data):\n",
    "    for x in data['launchpad']:\n",
    "        if x:\n",
    "            response = requests.get(\"https://api.spacexdata.com/v4/launchpads/\"+str(x)).json()\n",
    "            Longitude.append(response['longitude'])\n",
    "            Latitude.append(response['latitude'])\n",
    "            LaunchSite.append(response['name'])\n",
    "\n",
    "def get_Payloads(data):\n",
    "    for x in data['payloads']:\n",
    "        if x:\n",
    "            response = requests.get(\"https://api.spacexdata.com/v4/payloads/\"+x).json()\n",
    "            Payload_Kg.append(response['mass_kg'])\n",
    "            Orbit.append(response['orbit'])\n",
    "\n",
    "def get_Core(data):\n",
    "    for x in data['cores']:\n",
    "        if x['core']!= None:\n",
    "            response = requests.get(\"https://api.spacexdata.com/v4/cores/\"+x['core']).json()\n",
    "            Block.append(response['block'])\n",
    "            Serial.append(response['serial'])\n",
    "            \n",
    "        else:\n",
    "            Block.append(None)\n",
    "            Serial.append(None)\n",
    "        Gridfins.append(x['gridfins'])\n",
    "        Legs.append(x['legs'])\n",
    "        Reused.append(x['reused'])\n",
    "        LandingAttempt.append(x['landing_attempt'])\n",
    "        LandingType.append(x['landing_type'])\n",
    "        SuccessLanding.append(str(x['landing_success']))\n",
    "        Landpad.append(x['landpad'])\n",
    "\n",
    "# Features's lists that are going to be the columns of our dataframe\n",
    "BoosterVersion = []\n",
    "Block = []\n",
    "Longitude =[]\n",
    "Latitude = []\n",
    "LaunchSite = []\n",
    "Payload_Kg = []\n",
    "Orbit = []\n",
    "Serial = []\n",
    "SuccessLanding = []\n",
    "Landpad = []\n",
    "Gridfins = []\n",
    "Legs = []\n",
    "Reused = []\n",
    "LandingAttempt = []\n",
    "LandingType = []"
   ]
  },
  {
   "cell_type": "code",
   "execution_count": 73,
   "id": "bc507e74-1d0f-4cf4-9d0b-361ea65c60ad",
   "metadata": {},
   "outputs": [
    {
     "data": {
      "text/html": [
       "<div>\n",
       "<style scoped>\n",
       "    .dataframe tbody tr th:only-of-type {\n",
       "        vertical-align: middle;\n",
       "    }\n",
       "\n",
       "    .dataframe tbody tr th {\n",
       "        vertical-align: top;\n",
       "    }\n",
       "\n",
       "    .dataframe thead th {\n",
       "        text-align: right;\n",
       "    }\n",
       "</style>\n",
       "<table border=\"1\" class=\"dataframe\">\n",
       "  <thead>\n",
       "    <tr style=\"text-align: right;\">\n",
       "      <th></th>\n",
       "      <th>fairings</th>\n",
       "      <th>links</th>\n",
       "      <th>static_fire_date_utc</th>\n",
       "      <th>static_fire_date_unix</th>\n",
       "      <th>net</th>\n",
       "      <th>window</th>\n",
       "      <th>rocket</th>\n",
       "      <th>success</th>\n",
       "      <th>failures</th>\n",
       "      <th>details</th>\n",
       "      <th>crew</th>\n",
       "      <th>ships</th>\n",
       "      <th>capsules</th>\n",
       "      <th>payloads</th>\n",
       "      <th>launchpad</th>\n",
       "      <th>flight_number</th>\n",
       "      <th>name</th>\n",
       "      <th>date_utc</th>\n",
       "      <th>date_unix</th>\n",
       "      <th>date_local</th>\n",
       "      <th>date_precision</th>\n",
       "      <th>upcoming</th>\n",
       "      <th>cores</th>\n",
       "      <th>auto_update</th>\n",
       "      <th>tbd</th>\n",
       "      <th>launch_library_id</th>\n",
       "      <th>id</th>\n",
       "      <th>Date</th>\n",
       "    </tr>\n",
       "  </thead>\n",
       "  <tbody>\n",
       "    <tr>\n",
       "      <th>0</th>\n",
       "      <td>{'reused': False, 'recovery_attempt': False, 'recovered': False, 'ships': []}</td>\n",
       "      <td>{'patch': {'small': 'https://images2.imgbox.com/94/f2/NN6Ph45r_o.png', 'large': 'https://images2.imgbox.com/5b/02/QcxHUb5V_o.png'}, 'reddit': {'campaign': None, 'launch': None, 'media': None, 'recovery': None}, 'flickr': {'small': [], 'original': []}, 'presskit': None, 'webcast': 'https://www.youtube.com/watch?v=0a_00nJ_Y88', 'youtube_id': '0a_00nJ_Y88', 'article': 'https://www.space.com/2196-spacex-inaugural-falcon-1-rocket-lost-launch.html', 'wikipedia': 'https://en.wikipedia.org/wiki/DemoSat'}</td>\n",
       "      <td>2006-03-17T00:00:00.000Z</td>\n",
       "      <td>1.142554e+09</td>\n",
       "      <td>False</td>\n",
       "      <td>0.0</td>\n",
       "      <td>5e9d0d95eda69955f709d1eb</td>\n",
       "      <td>False</td>\n",
       "      <td>[{'time': 33, 'altitude': None, 'reason': 'merlin engine failure'}]</td>\n",
       "      <td>Engine failure at 33 seconds and loss of vehicle</td>\n",
       "      <td>[]</td>\n",
       "      <td>[]</td>\n",
       "      <td>[]</td>\n",
       "      <td>5eb0e4b5b6c3bb0006eeb1e1</td>\n",
       "      <td>5e9e4502f5090995de566f86</td>\n",
       "      <td>1</td>\n",
       "      <td>FalconSat</td>\n",
       "      <td>2006-03-24T22:30:00.000Z</td>\n",
       "      <td>1143239400</td>\n",
       "      <td>2006-03-25T10:30:00+12:00</td>\n",
       "      <td>hour</td>\n",
       "      <td>False</td>\n",
       "      <td>{'core': '5e9e289df35918033d3b2623', 'flight': 1, 'gridfins': False, 'legs': False, 'reused': False, 'landing_attempt': False, 'landing_success': None, 'landing_type': None, 'landpad': None}</td>\n",
       "      <td>True</td>\n",
       "      <td>False</td>\n",
       "      <td>None</td>\n",
       "      <td>5eb87cd9ffd86e000604b32a</td>\n",
       "      <td>2006-03-24</td>\n",
       "    </tr>\n",
       "    <tr>\n",
       "      <th>1</th>\n",
       "      <td>{'reused': False, 'recovery_attempt': False, 'recovered': False, 'ships': []}</td>\n",
       "      <td>{'patch': {'small': 'https://images2.imgbox.com/f9/4a/ZboXReNb_o.png', 'large': 'https://images2.imgbox.com/80/a2/bkWotCIS_o.png'}, 'reddit': {'campaign': None, 'launch': None, 'media': None, 'recovery': None}, 'flickr': {'small': [], 'original': []}, 'presskit': None, 'webcast': 'https://www.youtube.com/watch?v=Lk4zQ2wP-Nc', 'youtube_id': 'Lk4zQ2wP-Nc', 'article': 'https://www.space.com/3590-spacex-falcon-1-rocket-fails-reach-orbit.html', 'wikipedia': 'https://en.wikipedia.org/wiki/DemoSat'}</td>\n",
       "      <td>None</td>\n",
       "      <td>NaN</td>\n",
       "      <td>False</td>\n",
       "      <td>0.0</td>\n",
       "      <td>5e9d0d95eda69955f709d1eb</td>\n",
       "      <td>False</td>\n",
       "      <td>[{'time': 301, 'altitude': 289, 'reason': 'harmonic oscillation leading to premature engine shutdown'}]</td>\n",
       "      <td>Successful first stage burn and transition to second stage, maximum altitude 289 km, Premature engine shutdown at T+7 min 30 s, Failed to reach orbit, Failed to recover first stage</td>\n",
       "      <td>[]</td>\n",
       "      <td>[]</td>\n",
       "      <td>[]</td>\n",
       "      <td>5eb0e4b6b6c3bb0006eeb1e2</td>\n",
       "      <td>5e9e4502f5090995de566f86</td>\n",
       "      <td>2</td>\n",
       "      <td>DemoSat</td>\n",
       "      <td>2007-03-21T01:10:00.000Z</td>\n",
       "      <td>1174439400</td>\n",
       "      <td>2007-03-21T13:10:00+12:00</td>\n",
       "      <td>hour</td>\n",
       "      <td>False</td>\n",
       "      <td>{'core': '5e9e289ef35918416a3b2624', 'flight': 1, 'gridfins': False, 'legs': False, 'reused': False, 'landing_attempt': False, 'landing_success': None, 'landing_type': None, 'landpad': None}</td>\n",
       "      <td>True</td>\n",
       "      <td>False</td>\n",
       "      <td>None</td>\n",
       "      <td>5eb87cdaffd86e000604b32b</td>\n",
       "      <td>2007-03-21</td>\n",
       "    </tr>\n",
       "    <tr>\n",
       "      <th>3</th>\n",
       "      <td>{'reused': False, 'recovery_attempt': False, 'recovered': False, 'ships': []}</td>\n",
       "      <td>{'patch': {'small': 'https://images2.imgbox.com/95/39/sRqN7rsv_o.png', 'large': 'https://images2.imgbox.com/a3/99/qswRYzE8_o.png'}, 'reddit': {'campaign': None, 'launch': None, 'media': None, 'recovery': None}, 'flickr': {'small': [], 'original': []}, 'presskit': None, 'webcast': 'https://www.youtube.com/watch?v=dLQ2tZEH6G0', 'youtube_id': 'dLQ2tZEH6G0', 'article': 'https://en.wikipedia.org/wiki/Ratsat', 'wikipedia': 'https://en.wikipedia.org/wiki/Ratsat'}</td>\n",
       "      <td>2008-09-20T00:00:00.000Z</td>\n",
       "      <td>1.221869e+09</td>\n",
       "      <td>False</td>\n",
       "      <td>0.0</td>\n",
       "      <td>5e9d0d95eda69955f709d1eb</td>\n",
       "      <td>True</td>\n",
       "      <td>[]</td>\n",
       "      <td>Ratsat was carried to orbit on the first successful orbital launch of any privately funded and developed, liquid-propelled carrier rocket, the SpaceX Falcon 1</td>\n",
       "      <td>[]</td>\n",
       "      <td>[]</td>\n",
       "      <td>[]</td>\n",
       "      <td>5eb0e4b7b6c3bb0006eeb1e5</td>\n",
       "      <td>5e9e4502f5090995de566f86</td>\n",
       "      <td>4</td>\n",
       "      <td>RatSat</td>\n",
       "      <td>2008-09-28T23:15:00.000Z</td>\n",
       "      <td>1222643700</td>\n",
       "      <td>2008-09-28T11:15:00+12:00</td>\n",
       "      <td>hour</td>\n",
       "      <td>False</td>\n",
       "      <td>{'core': '5e9e289ef3591855dc3b2626', 'flight': 1, 'gridfins': False, 'legs': False, 'reused': False, 'landing_attempt': False, 'landing_success': None, 'landing_type': None, 'landpad': None}</td>\n",
       "      <td>True</td>\n",
       "      <td>False</td>\n",
       "      <td>None</td>\n",
       "      <td>5eb87cdbffd86e000604b32d</td>\n",
       "      <td>2008-09-28</td>\n",
       "    </tr>\n",
       "    <tr>\n",
       "      <th>4</th>\n",
       "      <td>{'reused': False, 'recovery_attempt': False, 'recovered': False, 'ships': []}</td>\n",
       "      <td>{'patch': {'small': 'https://images2.imgbox.com/ab/5a/Pequxd5d_o.png', 'large': 'https://images2.imgbox.com/92/e4/7Cf6MLY0_o.png'}, 'reddit': {'campaign': None, 'launch': None, 'media': None, 'recovery': None}, 'flickr': {'small': [], 'original': []}, 'presskit': 'http://www.spacex.com/press/2012/12/19/spacexs-falcon-1-successfully-delivers-razaksat-satellite-orbit', 'webcast': 'https://www.youtube.com/watch?v=yTaIDooc8Og', 'youtube_id': 'yTaIDooc8Og', 'article': 'http://www.spacex.com/news/2013/02/12/falcon-1-flight-5', 'wikipedia': 'https://en.wikipedia.org/wiki/RazakSAT'}</td>\n",
       "      <td>None</td>\n",
       "      <td>NaN</td>\n",
       "      <td>False</td>\n",
       "      <td>0.0</td>\n",
       "      <td>5e9d0d95eda69955f709d1eb</td>\n",
       "      <td>True</td>\n",
       "      <td>[]</td>\n",
       "      <td>None</td>\n",
       "      <td>[]</td>\n",
       "      <td>[]</td>\n",
       "      <td>[]</td>\n",
       "      <td>5eb0e4b7b6c3bb0006eeb1e6</td>\n",
       "      <td>5e9e4502f5090995de566f86</td>\n",
       "      <td>5</td>\n",
       "      <td>RazakSat</td>\n",
       "      <td>2009-07-13T03:35:00.000Z</td>\n",
       "      <td>1247456100</td>\n",
       "      <td>2009-07-13T15:35:00+12:00</td>\n",
       "      <td>hour</td>\n",
       "      <td>False</td>\n",
       "      <td>{'core': '5e9e289ef359184f103b2627', 'flight': 1, 'gridfins': False, 'legs': False, 'reused': False, 'landing_attempt': False, 'landing_success': None, 'landing_type': None, 'landpad': None}</td>\n",
       "      <td>True</td>\n",
       "      <td>False</td>\n",
       "      <td>None</td>\n",
       "      <td>5eb87cdcffd86e000604b32e</td>\n",
       "      <td>2009-07-13</td>\n",
       "    </tr>\n",
       "    <tr>\n",
       "      <th>5</th>\n",
       "      <td>{'reused': None, 'recovery_attempt': None, 'recovered': None, 'ships': []}</td>\n",
       "      <td>{'patch': {'small': 'https://images2.imgbox.com/73/7f/u7BKqv2C_o.png', 'large': 'https://images2.imgbox.com/66/b4/8KZsjbt4_o.png'}, 'reddit': {'campaign': None, 'launch': None, 'media': None, 'recovery': None}, 'flickr': {'small': [], 'original': []}, 'presskit': 'http://forum.nasaspaceflight.com/index.php?action=dlattach;topic=21869.0;attach=230821', 'webcast': 'https://www.youtube.com/watch?v=nxSxgBKlYws', 'youtube_id': 'nxSxgBKlYws', 'article': 'http://www.spacex.com/news/2013/02/12/falcon-9-flight-1', 'wikipedia': 'https://en.wikipedia.org/wiki/Dragon_Spacecraft_Qualification_Unit'}</td>\n",
       "      <td>2010-03-13T00:00:00.000Z</td>\n",
       "      <td>1.268438e+09</td>\n",
       "      <td>False</td>\n",
       "      <td>0.0</td>\n",
       "      <td>5e9d0d95eda69973a809d1ec</td>\n",
       "      <td>True</td>\n",
       "      <td>[]</td>\n",
       "      <td>None</td>\n",
       "      <td>[]</td>\n",
       "      <td>[]</td>\n",
       "      <td>[]</td>\n",
       "      <td>5eb0e4b7b6c3bb0006eeb1e7</td>\n",
       "      <td>5e9e4501f509094ba4566f84</td>\n",
       "      <td>6</td>\n",
       "      <td>Falcon 9 Test Flight</td>\n",
       "      <td>2010-06-04T18:45:00.000Z</td>\n",
       "      <td>1275677100</td>\n",
       "      <td>2010-06-04T14:45:00-04:00</td>\n",
       "      <td>hour</td>\n",
       "      <td>False</td>\n",
       "      <td>{'core': '5e9e289ef359185f2b3b2628', 'flight': 1, 'gridfins': False, 'legs': False, 'reused': False, 'landing_attempt': False, 'landing_success': None, 'landing_type': None, 'landpad': None}</td>\n",
       "      <td>True</td>\n",
       "      <td>False</td>\n",
       "      <td>None</td>\n",
       "      <td>5eb87cddffd86e000604b32f</td>\n",
       "      <td>2010-06-04</td>\n",
       "    </tr>\n",
       "  </tbody>\n",
       "</table>\n",
       "</div>"
      ],
      "text/plain": [
       "                                                                        fairings  \\\n",
       "0  {'reused': False, 'recovery_attempt': False, 'recovered': False, 'ships': []}   \n",
       "1  {'reused': False, 'recovery_attempt': False, 'recovered': False, 'ships': []}   \n",
       "3  {'reused': False, 'recovery_attempt': False, 'recovered': False, 'ships': []}   \n",
       "4  {'reused': False, 'recovery_attempt': False, 'recovered': False, 'ships': []}   \n",
       "5     {'reused': None, 'recovery_attempt': None, 'recovered': None, 'ships': []}   \n",
       "\n",
       "                                                                                                                                                                                                                                                                                                                                                                                                                                                                                                                                                                                                               links  \\\n",
       "0                                                                                              {'patch': {'small': 'https://images2.imgbox.com/94/f2/NN6Ph45r_o.png', 'large': 'https://images2.imgbox.com/5b/02/QcxHUb5V_o.png'}, 'reddit': {'campaign': None, 'launch': None, 'media': None, 'recovery': None}, 'flickr': {'small': [], 'original': []}, 'presskit': None, 'webcast': 'https://www.youtube.com/watch?v=0a_00nJ_Y88', 'youtube_id': '0a_00nJ_Y88', 'article': 'https://www.space.com/2196-spacex-inaugural-falcon-1-rocket-lost-launch.html', 'wikipedia': 'https://en.wikipedia.org/wiki/DemoSat'}   \n",
       "1                                                                                                  {'patch': {'small': 'https://images2.imgbox.com/f9/4a/ZboXReNb_o.png', 'large': 'https://images2.imgbox.com/80/a2/bkWotCIS_o.png'}, 'reddit': {'campaign': None, 'launch': None, 'media': None, 'recovery': None}, 'flickr': {'small': [], 'original': []}, 'presskit': None, 'webcast': 'https://www.youtube.com/watch?v=Lk4zQ2wP-Nc', 'youtube_id': 'Lk4zQ2wP-Nc', 'article': 'https://www.space.com/3590-spacex-falcon-1-rocket-fails-reach-orbit.html', 'wikipedia': 'https://en.wikipedia.org/wiki/DemoSat'}   \n",
       "3                                                                                                                                       {'patch': {'small': 'https://images2.imgbox.com/95/39/sRqN7rsv_o.png', 'large': 'https://images2.imgbox.com/a3/99/qswRYzE8_o.png'}, 'reddit': {'campaign': None, 'launch': None, 'media': None, 'recovery': None}, 'flickr': {'small': [], 'original': []}, 'presskit': None, 'webcast': 'https://www.youtube.com/watch?v=dLQ2tZEH6G0', 'youtube_id': 'dLQ2tZEH6G0', 'article': 'https://en.wikipedia.org/wiki/Ratsat', 'wikipedia': 'https://en.wikipedia.org/wiki/Ratsat'}   \n",
       "4              {'patch': {'small': 'https://images2.imgbox.com/ab/5a/Pequxd5d_o.png', 'large': 'https://images2.imgbox.com/92/e4/7Cf6MLY0_o.png'}, 'reddit': {'campaign': None, 'launch': None, 'media': None, 'recovery': None}, 'flickr': {'small': [], 'original': []}, 'presskit': 'http://www.spacex.com/press/2012/12/19/spacexs-falcon-1-successfully-delivers-razaksat-satellite-orbit', 'webcast': 'https://www.youtube.com/watch?v=yTaIDooc8Og', 'youtube_id': 'yTaIDooc8Og', 'article': 'http://www.spacex.com/news/2013/02/12/falcon-1-flight-5', 'wikipedia': 'https://en.wikipedia.org/wiki/RazakSAT'}   \n",
       "5  {'patch': {'small': 'https://images2.imgbox.com/73/7f/u7BKqv2C_o.png', 'large': 'https://images2.imgbox.com/66/b4/8KZsjbt4_o.png'}, 'reddit': {'campaign': None, 'launch': None, 'media': None, 'recovery': None}, 'flickr': {'small': [], 'original': []}, 'presskit': 'http://forum.nasaspaceflight.com/index.php?action=dlattach;topic=21869.0;attach=230821', 'webcast': 'https://www.youtube.com/watch?v=nxSxgBKlYws', 'youtube_id': 'nxSxgBKlYws', 'article': 'http://www.spacex.com/news/2013/02/12/falcon-9-flight-1', 'wikipedia': 'https://en.wikipedia.org/wiki/Dragon_Spacecraft_Qualification_Unit'}   \n",
       "\n",
       "       static_fire_date_utc  static_fire_date_unix    net  window  \\\n",
       "0  2006-03-17T00:00:00.000Z           1.142554e+09  False     0.0   \n",
       "1                      None                    NaN  False     0.0   \n",
       "3  2008-09-20T00:00:00.000Z           1.221869e+09  False     0.0   \n",
       "4                      None                    NaN  False     0.0   \n",
       "5  2010-03-13T00:00:00.000Z           1.268438e+09  False     0.0   \n",
       "\n",
       "                     rocket success  \\\n",
       "0  5e9d0d95eda69955f709d1eb   False   \n",
       "1  5e9d0d95eda69955f709d1eb   False   \n",
       "3  5e9d0d95eda69955f709d1eb    True   \n",
       "4  5e9d0d95eda69955f709d1eb    True   \n",
       "5  5e9d0d95eda69973a809d1ec    True   \n",
       "\n",
       "                                                                                                  failures  \\\n",
       "0                                      [{'time': 33, 'altitude': None, 'reason': 'merlin engine failure'}]   \n",
       "1  [{'time': 301, 'altitude': 289, 'reason': 'harmonic oscillation leading to premature engine shutdown'}]   \n",
       "3                                                                                                       []   \n",
       "4                                                                                                       []   \n",
       "5                                                                                                       []   \n",
       "\n",
       "                                                                                                                                                                                details  \\\n",
       "0                                                                                                                                      Engine failure at 33 seconds and loss of vehicle   \n",
       "1  Successful first stage burn and transition to second stage, maximum altitude 289 km, Premature engine shutdown at T+7 min 30 s, Failed to reach orbit, Failed to recover first stage   \n",
       "3                        Ratsat was carried to orbit on the first successful orbital launch of any privately funded and developed, liquid-propelled carrier rocket, the SpaceX Falcon 1   \n",
       "4                                                                                                                                                                                  None   \n",
       "5                                                                                                                                                                                  None   \n",
       "\n",
       "  crew ships capsules                  payloads                 launchpad  \\\n",
       "0   []    []       []  5eb0e4b5b6c3bb0006eeb1e1  5e9e4502f5090995de566f86   \n",
       "1   []    []       []  5eb0e4b6b6c3bb0006eeb1e2  5e9e4502f5090995de566f86   \n",
       "3   []    []       []  5eb0e4b7b6c3bb0006eeb1e5  5e9e4502f5090995de566f86   \n",
       "4   []    []       []  5eb0e4b7b6c3bb0006eeb1e6  5e9e4502f5090995de566f86   \n",
       "5   []    []       []  5eb0e4b7b6c3bb0006eeb1e7  5e9e4501f509094ba4566f84   \n",
       "\n",
       "   flight_number                  name                  date_utc   date_unix  \\\n",
       "0              1             FalconSat  2006-03-24T22:30:00.000Z  1143239400   \n",
       "1              2               DemoSat  2007-03-21T01:10:00.000Z  1174439400   \n",
       "3              4                RatSat  2008-09-28T23:15:00.000Z  1222643700   \n",
       "4              5              RazakSat  2009-07-13T03:35:00.000Z  1247456100   \n",
       "5              6  Falcon 9 Test Flight  2010-06-04T18:45:00.000Z  1275677100   \n",
       "\n",
       "                  date_local date_precision  upcoming  \\\n",
       "0  2006-03-25T10:30:00+12:00           hour     False   \n",
       "1  2007-03-21T13:10:00+12:00           hour     False   \n",
       "3  2008-09-28T11:15:00+12:00           hour     False   \n",
       "4  2009-07-13T15:35:00+12:00           hour     False   \n",
       "5  2010-06-04T14:45:00-04:00           hour     False   \n",
       "\n",
       "                                                                                                                                                                                            cores  \\\n",
       "0  {'core': '5e9e289df35918033d3b2623', 'flight': 1, 'gridfins': False, 'legs': False, 'reused': False, 'landing_attempt': False, 'landing_success': None, 'landing_type': None, 'landpad': None}   \n",
       "1  {'core': '5e9e289ef35918416a3b2624', 'flight': 1, 'gridfins': False, 'legs': False, 'reused': False, 'landing_attempt': False, 'landing_success': None, 'landing_type': None, 'landpad': None}   \n",
       "3  {'core': '5e9e289ef3591855dc3b2626', 'flight': 1, 'gridfins': False, 'legs': False, 'reused': False, 'landing_attempt': False, 'landing_success': None, 'landing_type': None, 'landpad': None}   \n",
       "4  {'core': '5e9e289ef359184f103b2627', 'flight': 1, 'gridfins': False, 'legs': False, 'reused': False, 'landing_attempt': False, 'landing_success': None, 'landing_type': None, 'landpad': None}   \n",
       "5  {'core': '5e9e289ef359185f2b3b2628', 'flight': 1, 'gridfins': False, 'legs': False, 'reused': False, 'landing_attempt': False, 'landing_success': None, 'landing_type': None, 'landpad': None}   \n",
       "\n",
       "   auto_update    tbd launch_library_id                        id        Date  \n",
       "0         True  False              None  5eb87cd9ffd86e000604b32a  2006-03-24  \n",
       "1         True  False              None  5eb87cdaffd86e000604b32b  2007-03-21  \n",
       "3         True  False              None  5eb87cdbffd86e000604b32d  2008-09-28  \n",
       "4         True  False              None  5eb87cdcffd86e000604b32e  2009-07-13  \n",
       "5         True  False              None  5eb87cddffd86e000604b32f  2010-06-04  "
      ]
     },
     "execution_count": 73,
     "metadata": {},
     "output_type": "execute_result"
    }
   ],
   "source": [
    "# We keep the rockets that have single boosters\n",
    "df = data[data['cores'].map(len)==1].copy()\n",
    "df = data[data['payloads'].map(len)==1].copy()\n",
    "\n",
    "# Since payloads and cores are lists of size 1 we will also extract the single value in the list and replace the feature.\n",
    "df['cores'] = df['cores'].map(lambda x: x[0])\n",
    "df['payloads'] = df['payloads'].map(lambda x: x[0])\n",
    "\n",
    "df['Date'] = pd.to_datetime(df['date_utc']).dt.date\n",
    "df.head()"
   ]
  },
  {
   "cell_type": "code",
   "execution_count": 74,
   "id": "849de5f8-f7b1-4b9d-8c1e-15e723bf8cfb",
   "metadata": {},
   "outputs": [],
   "source": [
    "# Implement of the functions to the dataframe df\n",
    "get_BoosterVersion(df)\n",
    "get_Core(df)\n",
    "get_LaunchSite(df)\n",
    "get_Payloads(df)"
   ]
  },
  {
   "cell_type": "code",
   "execution_count": 75,
   "id": "8be05e0e-bd95-4d00-851d-e54aa58ded2d",
   "metadata": {},
   "outputs": [],
   "source": [
    "# A dictionory that corresponds the values of its feature with a proper name\n",
    "data_dict = {\n",
    "    \"Date\" : list(df['Date']),\n",
    "    \"Booster Version\" : BoosterVersion,\n",
    "    \"Block\" : Block,\n",
    "    \"Serial\" : Serial,\n",
    "    \"Gridfins\": Gridfins,\n",
    "    \"Legs\": Legs,\n",
    "    \"Reused\": Reused,\n",
    "    \"Longitude\" : Longitude,\n",
    "    \"Latitude\" : Latitude,\n",
    "    \"Launch Site\" : LaunchSite,\n",
    "    \"Payload (Kg)\" : Payload_Kg,\n",
    "    \"Orbit\" : Orbit,\n",
    "    \"Landpad\" : Landpad,\n",
    "    \"Landing Type\": LandingType,\n",
    "    \"Landing Attempt\": LandingAttempt,\n",
    "    \"Landing Success\": SuccessLanding\n",
    "}"
   ]
  },
  {
   "cell_type": "code",
   "execution_count": 22,
   "id": "fb469368-8792-4221-80a2-9aafb08ca164",
   "metadata": {},
   "outputs": [],
   "source": [
    "# Convert the dictionary to a dataframe\n",
    "spacex_api_22 = pd.DataFrame(data_dict)"
   ]
  },
  {
   "cell_type": "code",
   "execution_count": 23,
   "id": "86f08709-a01d-4f0d-8665-49bd8b7badd6",
   "metadata": {},
   "outputs": [
    {
     "data": {
      "text/html": [
       "<div>\n",
       "<style scoped>\n",
       "    .dataframe tbody tr th:only-of-type {\n",
       "        vertical-align: middle;\n",
       "    }\n",
       "\n",
       "    .dataframe tbody tr th {\n",
       "        vertical-align: top;\n",
       "    }\n",
       "\n",
       "    .dataframe thead th {\n",
       "        text-align: right;\n",
       "    }\n",
       "</style>\n",
       "<table border=\"1\" class=\"dataframe\">\n",
       "  <thead>\n",
       "    <tr style=\"text-align: right;\">\n",
       "      <th></th>\n",
       "      <th>Date</th>\n",
       "      <th>Booster Version</th>\n",
       "      <th>Block</th>\n",
       "      <th>Serial</th>\n",
       "      <th>Gridfins</th>\n",
       "      <th>Legs</th>\n",
       "      <th>Reused</th>\n",
       "      <th>Longitude</th>\n",
       "      <th>Latitude</th>\n",
       "      <th>Launch Site</th>\n",
       "      <th>Payload (Kg)</th>\n",
       "      <th>Orbit</th>\n",
       "      <th>Landpad</th>\n",
       "      <th>Landing Type</th>\n",
       "      <th>Landing Attempt</th>\n",
       "      <th>Landing Success</th>\n",
       "    </tr>\n",
       "  </thead>\n",
       "  <tbody>\n",
       "    <tr>\n",
       "      <th>0</th>\n",
       "      <td>2006-03-24</td>\n",
       "      <td>Falcon 1</td>\n",
       "      <td>NaN</td>\n",
       "      <td>Merlin1A</td>\n",
       "      <td>False</td>\n",
       "      <td>False</td>\n",
       "      <td>False</td>\n",
       "      <td>167.743129</td>\n",
       "      <td>9.047721</td>\n",
       "      <td>Kwajalein Atoll</td>\n",
       "      <td>20.0</td>\n",
       "      <td>LEO</td>\n",
       "      <td>None</td>\n",
       "      <td>None</td>\n",
       "      <td>False</td>\n",
       "      <td>None</td>\n",
       "    </tr>\n",
       "    <tr>\n",
       "      <th>1</th>\n",
       "      <td>2007-03-21</td>\n",
       "      <td>Falcon 1</td>\n",
       "      <td>NaN</td>\n",
       "      <td>Merlin2A</td>\n",
       "      <td>False</td>\n",
       "      <td>False</td>\n",
       "      <td>False</td>\n",
       "      <td>167.743129</td>\n",
       "      <td>9.047721</td>\n",
       "      <td>Kwajalein Atoll</td>\n",
       "      <td>NaN</td>\n",
       "      <td>LEO</td>\n",
       "      <td>None</td>\n",
       "      <td>None</td>\n",
       "      <td>False</td>\n",
       "      <td>None</td>\n",
       "    </tr>\n",
       "    <tr>\n",
       "      <th>2</th>\n",
       "      <td>2008-09-28</td>\n",
       "      <td>Falcon 1</td>\n",
       "      <td>NaN</td>\n",
       "      <td>Merlin2C</td>\n",
       "      <td>False</td>\n",
       "      <td>False</td>\n",
       "      <td>False</td>\n",
       "      <td>167.743129</td>\n",
       "      <td>9.047721</td>\n",
       "      <td>Kwajalein Atoll</td>\n",
       "      <td>165.0</td>\n",
       "      <td>LEO</td>\n",
       "      <td>None</td>\n",
       "      <td>None</td>\n",
       "      <td>False</td>\n",
       "      <td>None</td>\n",
       "    </tr>\n",
       "    <tr>\n",
       "      <th>3</th>\n",
       "      <td>2009-07-13</td>\n",
       "      <td>Falcon 1</td>\n",
       "      <td>NaN</td>\n",
       "      <td>Merlin3C</td>\n",
       "      <td>False</td>\n",
       "      <td>False</td>\n",
       "      <td>False</td>\n",
       "      <td>167.743129</td>\n",
       "      <td>9.047721</td>\n",
       "      <td>Kwajalein Atoll</td>\n",
       "      <td>200.0</td>\n",
       "      <td>LEO</td>\n",
       "      <td>None</td>\n",
       "      <td>None</td>\n",
       "      <td>False</td>\n",
       "      <td>None</td>\n",
       "    </tr>\n",
       "    <tr>\n",
       "      <th>4</th>\n",
       "      <td>2010-06-04</td>\n",
       "      <td>Falcon 9</td>\n",
       "      <td>1.0</td>\n",
       "      <td>B0003</td>\n",
       "      <td>False</td>\n",
       "      <td>False</td>\n",
       "      <td>False</td>\n",
       "      <td>-80.577366</td>\n",
       "      <td>28.561857</td>\n",
       "      <td>CCSFS SLC 40</td>\n",
       "      <td>NaN</td>\n",
       "      <td>LEO</td>\n",
       "      <td>None</td>\n",
       "      <td>None</td>\n",
       "      <td>False</td>\n",
       "      <td>None</td>\n",
       "    </tr>\n",
       "  </tbody>\n",
       "</table>\n",
       "</div>"
      ],
      "text/plain": [
       "         Date Booster Version  Block    Serial Gridfins   Legs Reused  \\\n",
       "0  2006-03-24        Falcon 1    NaN  Merlin1A    False  False  False   \n",
       "1  2007-03-21        Falcon 1    NaN  Merlin2A    False  False  False   \n",
       "2  2008-09-28        Falcon 1    NaN  Merlin2C    False  False  False   \n",
       "3  2009-07-13        Falcon 1    NaN  Merlin3C    False  False  False   \n",
       "4  2010-06-04        Falcon 9    1.0     B0003    False  False  False   \n",
       "\n",
       "    Longitude   Latitude      Launch Site  Payload (Kg) Orbit Landpad  \\\n",
       "0  167.743129   9.047721  Kwajalein Atoll          20.0   LEO    None   \n",
       "1  167.743129   9.047721  Kwajalein Atoll           NaN   LEO    None   \n",
       "2  167.743129   9.047721  Kwajalein Atoll         165.0   LEO    None   \n",
       "3  167.743129   9.047721  Kwajalein Atoll         200.0   LEO    None   \n",
       "4  -80.577366  28.561857     CCSFS SLC 40           NaN   LEO    None   \n",
       "\n",
       "  Landing Type Landing Attempt Landing Success  \n",
       "0         None           False            None  \n",
       "1         None           False            None  \n",
       "2         None           False            None  \n",
       "3         None           False            None  \n",
       "4         None           False            None  "
      ]
     },
     "execution_count": 23,
     "metadata": {},
     "output_type": "execute_result"
    }
   ],
   "source": [
    "spacex_api_22.head()"
   ]
  },
  {
   "cell_type": "code",
   "execution_count": 24,
   "id": "1e72898d-aa3c-4621-a703-e593f3d3b6e3",
   "metadata": {},
   "outputs": [
    {
     "data": {
      "text/html": [
       "<div>\n",
       "<style scoped>\n",
       "    .dataframe tbody tr th:only-of-type {\n",
       "        vertical-align: middle;\n",
       "    }\n",
       "\n",
       "    .dataframe tbody tr th {\n",
       "        vertical-align: top;\n",
       "    }\n",
       "\n",
       "    .dataframe thead th {\n",
       "        text-align: right;\n",
       "    }\n",
       "</style>\n",
       "<table border=\"1\" class=\"dataframe\">\n",
       "  <thead>\n",
       "    <tr style=\"text-align: right;\">\n",
       "      <th></th>\n",
       "      <th>Date</th>\n",
       "      <th>Booster Version</th>\n",
       "      <th>Block</th>\n",
       "      <th>Serial</th>\n",
       "      <th>Gridfins</th>\n",
       "      <th>Legs</th>\n",
       "      <th>Reused</th>\n",
       "      <th>Longitude</th>\n",
       "      <th>Latitude</th>\n",
       "      <th>Launch Site</th>\n",
       "      <th>Payload (Kg)</th>\n",
       "      <th>Orbit</th>\n",
       "      <th>Landpad</th>\n",
       "      <th>Landing Type</th>\n",
       "      <th>Landing Attempt</th>\n",
       "      <th>Landing Success</th>\n",
       "    </tr>\n",
       "  </thead>\n",
       "  <tbody>\n",
       "    <tr>\n",
       "      <th>175</th>\n",
       "      <td>2022-10-20</td>\n",
       "      <td>Falcon 9</td>\n",
       "      <td>NaN</td>\n",
       "      <td>None</td>\n",
       "      <td>None</td>\n",
       "      <td>None</td>\n",
       "      <td>None</td>\n",
       "      <td>-80.577366</td>\n",
       "      <td>28.561857</td>\n",
       "      <td>CCSFS SLC 40</td>\n",
       "      <td>13260.0</td>\n",
       "      <td>VLEO</td>\n",
       "      <td>None</td>\n",
       "      <td>None</td>\n",
       "      <td>None</td>\n",
       "      <td>None</td>\n",
       "    </tr>\n",
       "    <tr>\n",
       "      <th>176</th>\n",
       "      <td>2022-11-01</td>\n",
       "      <td>Falcon 9</td>\n",
       "      <td>NaN</td>\n",
       "      <td>None</td>\n",
       "      <td>None</td>\n",
       "      <td>None</td>\n",
       "      <td>None</td>\n",
       "      <td>-80.577366</td>\n",
       "      <td>28.561857</td>\n",
       "      <td>CCSFS SLC 40</td>\n",
       "      <td>5100.0</td>\n",
       "      <td>MEO</td>\n",
       "      <td>None</td>\n",
       "      <td>None</td>\n",
       "      <td>None</td>\n",
       "      <td>None</td>\n",
       "    </tr>\n",
       "    <tr>\n",
       "      <th>177</th>\n",
       "      <td>2022-12-01</td>\n",
       "      <td>Falcon 9</td>\n",
       "      <td>NaN</td>\n",
       "      <td>None</td>\n",
       "      <td>None</td>\n",
       "      <td>None</td>\n",
       "      <td>None</td>\n",
       "      <td>-120.610829</td>\n",
       "      <td>34.632093</td>\n",
       "      <td>VAFB SLC 4E</td>\n",
       "      <td>NaN</td>\n",
       "      <td>PO</td>\n",
       "      <td>None</td>\n",
       "      <td>None</td>\n",
       "      <td>None</td>\n",
       "      <td>None</td>\n",
       "    </tr>\n",
       "    <tr>\n",
       "      <th>178</th>\n",
       "      <td>2022-12-01</td>\n",
       "      <td>Falcon 9</td>\n",
       "      <td>NaN</td>\n",
       "      <td>None</td>\n",
       "      <td>None</td>\n",
       "      <td>None</td>\n",
       "      <td>None</td>\n",
       "      <td>-80.577366</td>\n",
       "      <td>28.561857</td>\n",
       "      <td>CCSFS SLC 40</td>\n",
       "      <td>NaN</td>\n",
       "      <td>SSO</td>\n",
       "      <td>None</td>\n",
       "      <td>None</td>\n",
       "      <td>None</td>\n",
       "      <td>None</td>\n",
       "    </tr>\n",
       "    <tr>\n",
       "      <th>179</th>\n",
       "      <td>2022-12-01</td>\n",
       "      <td>Falcon 9</td>\n",
       "      <td>NaN</td>\n",
       "      <td>None</td>\n",
       "      <td>None</td>\n",
       "      <td>None</td>\n",
       "      <td>None</td>\n",
       "      <td>-80.577366</td>\n",
       "      <td>28.561857</td>\n",
       "      <td>CCSFS SLC 40</td>\n",
       "      <td>5100.0</td>\n",
       "      <td>MEO</td>\n",
       "      <td>None</td>\n",
       "      <td>None</td>\n",
       "      <td>None</td>\n",
       "      <td>None</td>\n",
       "    </tr>\n",
       "  </tbody>\n",
       "</table>\n",
       "</div>"
      ],
      "text/plain": [
       "           Date Booster Version  Block Serial Gridfins  Legs Reused  \\\n",
       "175  2022-10-20        Falcon 9    NaN   None     None  None   None   \n",
       "176  2022-11-01        Falcon 9    NaN   None     None  None   None   \n",
       "177  2022-12-01        Falcon 9    NaN   None     None  None   None   \n",
       "178  2022-12-01        Falcon 9    NaN   None     None  None   None   \n",
       "179  2022-12-01        Falcon 9    NaN   None     None  None   None   \n",
       "\n",
       "      Longitude   Latitude   Launch Site  Payload (Kg) Orbit Landpad  \\\n",
       "175  -80.577366  28.561857  CCSFS SLC 40       13260.0  VLEO    None   \n",
       "176  -80.577366  28.561857  CCSFS SLC 40        5100.0   MEO    None   \n",
       "177 -120.610829  34.632093   VAFB SLC 4E           NaN    PO    None   \n",
       "178  -80.577366  28.561857  CCSFS SLC 40           NaN   SSO    None   \n",
       "179  -80.577366  28.561857  CCSFS SLC 40        5100.0   MEO    None   \n",
       "\n",
       "    Landing Type Landing Attempt Landing Success  \n",
       "175         None            None            None  \n",
       "176         None            None            None  \n",
       "177         None            None            None  \n",
       "178         None            None            None  \n",
       "179         None            None            None  "
      ]
     },
     "execution_count": 24,
     "metadata": {},
     "output_type": "execute_result"
    }
   ],
   "source": [
    "spacex_api_22.tail()"
   ]
  },
  {
   "cell_type": "markdown",
   "id": "615d79f6-e6f5-4cca-81d7-9f97330f1818",
   "metadata": {
    "jp-MarkdownHeadingCollapsed": true
   },
   "source": [
    "### 2.2 Data Collection From Wikipedia"
   ]
  },
  {
   "cell_type": "markdown",
   "id": "e87e278b-6a1e-4146-abd4-470b67c3bb60",
   "metadata": {},
   "source": [
    "SpaceX's API is giving us some useful data, however the data is not updated. So, we will use a second way to collect data from 2022 until 2025. We are going to collect it from Wikipedia."
   ]
  },
  {
   "cell_type": "code",
   "execution_count": 14,
   "id": "dc7f8826-3414-4bbf-86bc-49b01fdc3671",
   "metadata": {},
   "outputs": [
    {
     "data": {
      "text/html": [
       "<div>\n",
       "<style scoped>\n",
       "    .dataframe tbody tr th:only-of-type {\n",
       "        vertical-align: middle;\n",
       "    }\n",
       "\n",
       "    .dataframe tbody tr th {\n",
       "        vertical-align: top;\n",
       "    }\n",
       "\n",
       "    .dataframe thead th {\n",
       "        text-align: right;\n",
       "    }\n",
       "</style>\n",
       "<table border=\"1\" class=\"dataframe\">\n",
       "  <thead>\n",
       "    <tr style=\"text-align: right;\">\n",
       "      <th></th>\n",
       "      <th>Flight No.</th>\n",
       "      <th>Date and time (UTC)</th>\n",
       "      <th>Version, booster[f]</th>\n",
       "      <th>Launch site</th>\n",
       "      <th>Payload[g]</th>\n",
       "      <th>Payload mass</th>\n",
       "      <th>Orbit</th>\n",
       "      <th>Customer</th>\n",
       "      <th>Launch outcome</th>\n",
       "      <th>Booster landing</th>\n",
       "    </tr>\n",
       "  </thead>\n",
       "  <tbody>\n",
       "    <tr>\n",
       "      <th>0</th>\n",
       "      <td>195</td>\n",
       "      <td>January 3, 2023 14:56[17]</td>\n",
       "      <td>F9 B5 B1060.15</td>\n",
       "      <td>Cape Canaveral, SLC‑40</td>\n",
       "      <td>Transporter-6 (115 payload smallsat rideshare)</td>\n",
       "      <td>Unknown[h]</td>\n",
       "      <td>SSO</td>\n",
       "      <td>Various</td>\n",
       "      <td>Success</td>\n",
       "      <td>Success (LZ‑1)</td>\n",
       "    </tr>\n",
       "    <tr>\n",
       "      <th>1</th>\n",
       "      <td>195</td>\n",
       "      <td>Dedicated SmallSat Rideshare mission to Sun-sy...</td>\n",
       "      <td>Dedicated SmallSat Rideshare mission to Sun-sy...</td>\n",
       "      <td>Dedicated SmallSat Rideshare mission to Sun-sy...</td>\n",
       "      <td>Dedicated SmallSat Rideshare mission to Sun-sy...</td>\n",
       "      <td>Dedicated SmallSat Rideshare mission to Sun-sy...</td>\n",
       "      <td>Dedicated SmallSat Rideshare mission to Sun-sy...</td>\n",
       "      <td>Dedicated SmallSat Rideshare mission to Sun-sy...</td>\n",
       "      <td>Dedicated SmallSat Rideshare mission to Sun-sy...</td>\n",
       "      <td>Dedicated SmallSat Rideshare mission to Sun-sy...</td>\n",
       "    </tr>\n",
       "    <tr>\n",
       "      <th>2</th>\n",
       "      <td>196</td>\n",
       "      <td>January 10, 2023 04:50[23]</td>\n",
       "      <td>F9 B5 B1076.2</td>\n",
       "      <td>Cape Canaveral, SLC‑40</td>\n",
       "      <td>OneWeb 16 (40 satellites)</td>\n",
       "      <td>6,000 kg (13,000 lb)</td>\n",
       "      <td>Polar LEO</td>\n",
       "      <td>OneWeb</td>\n",
       "      <td>Success</td>\n",
       "      <td>Success (LZ‑1)</td>\n",
       "    </tr>\n",
       "    <tr>\n",
       "      <th>3</th>\n",
       "      <td>196</td>\n",
       "      <td>Following the Russian invasion of Ukraine, One...</td>\n",
       "      <td>Following the Russian invasion of Ukraine, One...</td>\n",
       "      <td>Following the Russian invasion of Ukraine, One...</td>\n",
       "      <td>Following the Russian invasion of Ukraine, One...</td>\n",
       "      <td>Following the Russian invasion of Ukraine, One...</td>\n",
       "      <td>Following the Russian invasion of Ukraine, One...</td>\n",
       "      <td>Following the Russian invasion of Ukraine, One...</td>\n",
       "      <td>Following the Russian invasion of Ukraine, One...</td>\n",
       "      <td>Following the Russian invasion of Ukraine, One...</td>\n",
       "    </tr>\n",
       "    <tr>\n",
       "      <th>4</th>\n",
       "      <td>FH 5</td>\n",
       "      <td>January 15, 2023 22:56[29]</td>\n",
       "      <td>Falcon Heavy B5 B1070 (core)</td>\n",
       "      <td>Kennedy, LC‑39A</td>\n",
       "      <td>USSF-67 (CBAS-2 &amp; LDPE-3A)</td>\n",
       "      <td>~3,750 kg (8,270 lb)</td>\n",
       "      <td>GEO</td>\n",
       "      <td>USSF</td>\n",
       "      <td>Success</td>\n",
       "      <td>No attempt</td>\n",
       "    </tr>\n",
       "  </tbody>\n",
       "</table>\n",
       "</div>"
      ],
      "text/plain": [
       "  Flight No.                                Date and time (UTC)  \\\n",
       "0        195                          January 3, 2023 14:56[17]   \n",
       "1        195  Dedicated SmallSat Rideshare mission to Sun-sy...   \n",
       "2        196                         January 10, 2023 04:50[23]   \n",
       "3        196  Following the Russian invasion of Ukraine, One...   \n",
       "4       FH 5                         January 15, 2023 22:56[29]   \n",
       "\n",
       "                                 Version, booster[f]  \\\n",
       "0                                     F9 B5 B1060.15   \n",
       "1  Dedicated SmallSat Rideshare mission to Sun-sy...   \n",
       "2                                      F9 B5 B1076.2   \n",
       "3  Following the Russian invasion of Ukraine, One...   \n",
       "4                       Falcon Heavy B5 B1070 (core)   \n",
       "\n",
       "                                         Launch site  \\\n",
       "0                             Cape Canaveral, SLC‑40   \n",
       "1  Dedicated SmallSat Rideshare mission to Sun-sy...   \n",
       "2                             Cape Canaveral, SLC‑40   \n",
       "3  Following the Russian invasion of Ukraine, One...   \n",
       "4                                    Kennedy, LC‑39A   \n",
       "\n",
       "                                          Payload[g]  \\\n",
       "0     Transporter-6 (115 payload smallsat rideshare)   \n",
       "1  Dedicated SmallSat Rideshare mission to Sun-sy...   \n",
       "2                          OneWeb 16 (40 satellites)   \n",
       "3  Following the Russian invasion of Ukraine, One...   \n",
       "4                         USSF-67 (CBAS-2 & LDPE-3A)   \n",
       "\n",
       "                                        Payload mass  \\\n",
       "0                                         Unknown[h]   \n",
       "1  Dedicated SmallSat Rideshare mission to Sun-sy...   \n",
       "2                               6,000 kg (13,000 lb)   \n",
       "3  Following the Russian invasion of Ukraine, One...   \n",
       "4                               ~3,750 kg (8,270 lb)   \n",
       "\n",
       "                                               Orbit  \\\n",
       "0                                                SSO   \n",
       "1  Dedicated SmallSat Rideshare mission to Sun-sy...   \n",
       "2                                          Polar LEO   \n",
       "3  Following the Russian invasion of Ukraine, One...   \n",
       "4                                                GEO   \n",
       "\n",
       "                                            Customer  \\\n",
       "0                                            Various   \n",
       "1  Dedicated SmallSat Rideshare mission to Sun-sy...   \n",
       "2                                             OneWeb   \n",
       "3  Following the Russian invasion of Ukraine, One...   \n",
       "4                                               USSF   \n",
       "\n",
       "                                      Launch outcome  \\\n",
       "0                                            Success   \n",
       "1  Dedicated SmallSat Rideshare mission to Sun-sy...   \n",
       "2                                            Success   \n",
       "3  Following the Russian invasion of Ukraine, One...   \n",
       "4                                            Success   \n",
       "\n",
       "                                     Booster landing  \n",
       "0                                     Success (LZ‑1)  \n",
       "1  Dedicated SmallSat Rideshare mission to Sun-sy...  \n",
       "2                                     Success (LZ‑1)  \n",
       "3  Following the Russian invasion of Ukraine, One...  \n",
       "4                                         No attempt  "
      ]
     },
     "execution_count": 14,
     "metadata": {},
     "output_type": "execute_result"
    }
   ],
   "source": [
    "# Extract wikipedia's data and load to a dataframe\n",
    "wiki_url = \"https://en.wikipedia.org/wiki/List_of_Falcon_9_and_Falcon_Heavy_launches#Past_launches\"\n",
    "tables = pd.read_html(wiki_url)\n",
    "t2023 = tables[0]\n",
    "t2023.head()"
   ]
  },
  {
   "cell_type": "code",
   "execution_count": 15,
   "id": "56500dd8-8bb8-4505-beac-b129dd799c9d",
   "metadata": {},
   "outputs": [
    {
     "data": {
      "text/plain": [
       "Index(['Flight No.', 'Date and time (UTC)', 'Version, booster[f]',\n",
       "       'Launch site', 'Payload[g]', 'Payload mass', 'Orbit', 'Customer',\n",
       "       'Launch outcome', 'Booster landing'],\n",
       "      dtype='object')"
      ]
     },
     "execution_count": 15,
     "metadata": {},
     "output_type": "execute_result"
    }
   ],
   "source": [
    "t2023.columns"
   ]
  },
  {
   "cell_type": "code",
   "execution_count": 173,
   "id": "8c4cac5b-50f6-4c94-89d4-3c81851aec25",
   "metadata": {},
   "outputs": [
    {
     "data": {
      "text/html": [
       "<div>\n",
       "<style scoped>\n",
       "    .dataframe tbody tr th:only-of-type {\n",
       "        vertical-align: middle;\n",
       "    }\n",
       "\n",
       "    .dataframe tbody tr th {\n",
       "        vertical-align: top;\n",
       "    }\n",
       "\n",
       "    .dataframe thead th {\n",
       "        text-align: right;\n",
       "    }\n",
       "</style>\n",
       "<table border=\"1\" class=\"dataframe\">\n",
       "  <thead>\n",
       "    <tr style=\"text-align: right;\">\n",
       "      <th></th>\n",
       "      <th>Flight No.</th>\n",
       "      <th>Date and time (UTC)</th>\n",
       "      <th>Version, booster[f]</th>\n",
       "      <th>Launch site</th>\n",
       "      <th>Payload[g]</th>\n",
       "      <th>Payload mass</th>\n",
       "      <th>Orbit</th>\n",
       "      <th>Customer</th>\n",
       "      <th>Launch outcome</th>\n",
       "      <th>Booster landing</th>\n",
       "    </tr>\n",
       "  </thead>\n",
       "  <tbody>\n",
       "    <tr>\n",
       "      <th>0</th>\n",
       "      <td>195</td>\n",
       "      <td>January 3, 2023 14:56[17]</td>\n",
       "      <td>F9 B5 B1060.15</td>\n",
       "      <td>Cape Canaveral, SLC‑40</td>\n",
       "      <td>Transporter-6 (115 payload smallsat rideshare)</td>\n",
       "      <td>Unknown[h]</td>\n",
       "      <td>SSO</td>\n",
       "      <td>Various</td>\n",
       "      <td>Success</td>\n",
       "      <td>Success (LZ‑1)</td>\n",
       "    </tr>\n",
       "    <tr>\n",
       "      <th>2</th>\n",
       "      <td>196</td>\n",
       "      <td>January 10, 2023 04:50[23]</td>\n",
       "      <td>F9 B5 B1076.2</td>\n",
       "      <td>Cape Canaveral, SLC‑40</td>\n",
       "      <td>OneWeb 16 (40 satellites)</td>\n",
       "      <td>6,000 kg (13,000 lb)</td>\n",
       "      <td>Polar LEO</td>\n",
       "      <td>OneWeb</td>\n",
       "      <td>Success</td>\n",
       "      <td>Success (LZ‑1)</td>\n",
       "    </tr>\n",
       "    <tr>\n",
       "      <th>4</th>\n",
       "      <td>FH 5</td>\n",
       "      <td>January 15, 2023 22:56[29]</td>\n",
       "      <td>Falcon Heavy B5 B1070 (core)</td>\n",
       "      <td>Kennedy, LC‑39A</td>\n",
       "      <td>USSF-67 (CBAS-2 &amp; LDPE-3A)</td>\n",
       "      <td>~3,750 kg (8,270 lb)</td>\n",
       "      <td>GEO</td>\n",
       "      <td>USSF</td>\n",
       "      <td>Success</td>\n",
       "      <td>No attempt</td>\n",
       "    </tr>\n",
       "    <tr>\n",
       "      <th>5</th>\n",
       "      <td>FH 5</td>\n",
       "      <td>January 15, 2023 22:56[29]</td>\n",
       "      <td>B1064.2 (side)</td>\n",
       "      <td>Kennedy, LC‑39A</td>\n",
       "      <td>USSF-67 (CBAS-2 &amp; LDPE-3A)</td>\n",
       "      <td>~3,750 kg (8,270 lb)</td>\n",
       "      <td>GEO</td>\n",
       "      <td>USSF</td>\n",
       "      <td>Success</td>\n",
       "      <td>Success (LZ‑2)</td>\n",
       "    </tr>\n",
       "    <tr>\n",
       "      <th>6</th>\n",
       "      <td>FH 5</td>\n",
       "      <td>January 15, 2023 22:56[29]</td>\n",
       "      <td>B1065.2 (side)</td>\n",
       "      <td>Kennedy, LC‑39A</td>\n",
       "      <td>USSF-67 (CBAS-2 &amp; LDPE-3A)</td>\n",
       "      <td>~3,750 kg (8,270 lb)</td>\n",
       "      <td>GEO</td>\n",
       "      <td>USSF</td>\n",
       "      <td>Success</td>\n",
       "      <td>Success (LZ‑1)</td>\n",
       "    </tr>\n",
       "  </tbody>\n",
       "</table>\n",
       "</div>"
      ],
      "text/plain": [
       "  Flight No.         Date and time (UTC)           Version, booster[f]  \\\n",
       "0        195   January 3, 2023 14:56[17]                F9 B5 B1060.15   \n",
       "2        196  January 10, 2023 04:50[23]                 F9 B5 B1076.2   \n",
       "4       FH 5  January 15, 2023 22:56[29]  Falcon Heavy B5 B1070 (core)   \n",
       "5       FH 5  January 15, 2023 22:56[29]                B1064.2 (side)   \n",
       "6       FH 5  January 15, 2023 22:56[29]                B1065.2 (side)   \n",
       "\n",
       "              Launch site                                      Payload[g]  \\\n",
       "0  Cape Canaveral, SLC‑40  Transporter-6 (115 payload smallsat rideshare)   \n",
       "2  Cape Canaveral, SLC‑40                       OneWeb 16 (40 satellites)   \n",
       "4         Kennedy, LC‑39A                      USSF-67 (CBAS-2 & LDPE-3A)   \n",
       "5         Kennedy, LC‑39A                      USSF-67 (CBAS-2 & LDPE-3A)   \n",
       "6         Kennedy, LC‑39A                      USSF-67 (CBAS-2 & LDPE-3A)   \n",
       "\n",
       "           Payload mass      Orbit Customer Launch outcome Booster landing  \n",
       "0            Unknown[h]        SSO  Various        Success  Success (LZ‑1)  \n",
       "2  6,000 kg (13,000 lb)  Polar LEO   OneWeb        Success  Success (LZ‑1)  \n",
       "4  ~3,750 kg (8,270 lb)        GEO     USSF        Success      No attempt  \n",
       "5  ~3,750 kg (8,270 lb)        GEO     USSF        Success  Success (LZ‑2)  \n",
       "6  ~3,750 kg (8,270 lb)        GEO     USSF        Success  Success (LZ‑1)  "
      ]
     },
     "execution_count": 173,
     "metadata": {},
     "output_type": "execute_result"
    }
   ],
   "source": [
    "# We keep the rows that start with Month's name\n",
    "mask = t2023['Date and time (UTC)'].astype(str).str.match(r'^[A-Za-z]+\\s+\\d{1,2}')\n",
    "\n",
    "t2023 = t2023[mask].copy()\n",
    "t2023.head()"
   ]
  },
  {
   "cell_type": "code",
   "execution_count": 17,
   "id": "268249a6-a8e7-422c-9afa-fd2b65a9ca64",
   "metadata": {},
   "outputs": [],
   "source": [
    "# Function to get the tables with the annual data\n",
    "tables23_24_25 = []\n",
    "\n",
    "def get_tables(df):\n",
    "    for table in df[0:3]:\n",
    "\n",
    "        # We keep the rows that start with Month's name\n",
    "        date_col = table.columns[1]\n",
    "        mask = table[date_col].astype(str).str.match(r'^[A-Za-z]+\\s+\\d{1,2}')\n",
    "        \n",
    "        table = table[mask].copy()\n",
    "        tables23_24_25.append(table)"
   ]
  },
  {
   "cell_type": "code",
   "execution_count": 18,
   "id": "6a79b4a6-4873-478e-9999-7958b9edecc3",
   "metadata": {},
   "outputs": [],
   "source": [
    "# Implement of the function\n",
    "get_tables(tables)"
   ]
  },
  {
   "cell_type": "code",
   "execution_count": 19,
   "id": "0fd52166-b97d-491d-9371-fb8d7ba76ea9",
   "metadata": {},
   "outputs": [
    {
     "data": {
      "text/html": [
       "<div>\n",
       "<style scoped>\n",
       "    .dataframe tbody tr th:only-of-type {\n",
       "        vertical-align: middle;\n",
       "    }\n",
       "\n",
       "    .dataframe tbody tr th {\n",
       "        vertical-align: top;\n",
       "    }\n",
       "\n",
       "    .dataframe thead th {\n",
       "        text-align: right;\n",
       "    }\n",
       "</style>\n",
       "<table border=\"1\" class=\"dataframe\">\n",
       "  <thead>\n",
       "    <tr style=\"text-align: right;\">\n",
       "      <th></th>\n",
       "      <th>Flight No.</th>\n",
       "      <th>Date and time (UTC)</th>\n",
       "      <th>Version, booster[f]</th>\n",
       "      <th>Launch site</th>\n",
       "      <th>Payload[g]</th>\n",
       "      <th>Payload mass</th>\n",
       "      <th>Orbit</th>\n",
       "      <th>Customer</th>\n",
       "      <th>Launch outcome</th>\n",
       "      <th>Booster landing</th>\n",
       "    </tr>\n",
       "  </thead>\n",
       "  <tbody>\n",
       "    <tr>\n",
       "      <th>0</th>\n",
       "      <td>286</td>\n",
       "      <td>January 3, 2024 03:44[229]</td>\n",
       "      <td>F9 B5 B1082.1</td>\n",
       "      <td>Vandenberg, SLC‑4E</td>\n",
       "      <td>Starlink: Group 7-9 (22 satellites)</td>\n",
       "      <td>~16,800 kg (37,000 lb)</td>\n",
       "      <td>LEO</td>\n",
       "      <td>SpaceX</td>\n",
       "      <td>Success</td>\n",
       "      <td>Success (OCISLY)</td>\n",
       "    </tr>\n",
       "    <tr>\n",
       "      <th>2</th>\n",
       "      <td>287</td>\n",
       "      <td>January 3, 2024 23:04[230]</td>\n",
       "      <td>F9 B5 B1076.10</td>\n",
       "      <td>Cape Canaveral, SLC‑40</td>\n",
       "      <td>Ovzon-3</td>\n",
       "      <td>1,800 kg (4,000 lb)</td>\n",
       "      <td>GTO</td>\n",
       "      <td>Ovzon</td>\n",
       "      <td>Success</td>\n",
       "      <td>Success (LZ‑1)</td>\n",
       "    </tr>\n",
       "    <tr>\n",
       "      <th>4</th>\n",
       "      <td>288</td>\n",
       "      <td>January 7, 2024 22:35[234]</td>\n",
       "      <td>F9 B5 B1067.16</td>\n",
       "      <td>Cape Canaveral, SLC‑40</td>\n",
       "      <td>Starlink: Group 6-35 (23 satellites)</td>\n",
       "      <td>~17,100 kg (37,700 lb)</td>\n",
       "      <td>LEO</td>\n",
       "      <td>SpaceX</td>\n",
       "      <td>Success</td>\n",
       "      <td>Success (ASOG)</td>\n",
       "    </tr>\n",
       "    <tr>\n",
       "      <th>6</th>\n",
       "      <td>289</td>\n",
       "      <td>January 14, 2024 08:59[236]</td>\n",
       "      <td>F9 B5 B1061.18</td>\n",
       "      <td>Vandenberg, SLC‑4E</td>\n",
       "      <td>Starlink: Group 7-10 (22 satellites)</td>\n",
       "      <td>~16,700 kg (36,800 lb)</td>\n",
       "      <td>LEO</td>\n",
       "      <td>SpaceX</td>\n",
       "      <td>Success</td>\n",
       "      <td>Success (OCISLY)</td>\n",
       "    </tr>\n",
       "    <tr>\n",
       "      <th>8</th>\n",
       "      <td>290</td>\n",
       "      <td>January 15, 2024 01:52[237]</td>\n",
       "      <td>F9 B5 B1073.12</td>\n",
       "      <td>Cape Canaveral, SLC‑40</td>\n",
       "      <td>Starlink: Group 6-37 (23 satellites)</td>\n",
       "      <td>~17,100 kg (37,700 lb)</td>\n",
       "      <td>LEO</td>\n",
       "      <td>SpaceX</td>\n",
       "      <td>Success</td>\n",
       "      <td>Success (ASOG)</td>\n",
       "    </tr>\n",
       "  </tbody>\n",
       "</table>\n",
       "</div>"
      ],
      "text/plain": [
       "  Flight No.          Date and time (UTC) Version, booster[f]  \\\n",
       "0        286   January 3, 2024 03:44[229]       F9 B5 B1082.1   \n",
       "2        287   January 3, 2024 23:04[230]      F9 B5 B1076.10   \n",
       "4        288   January 7, 2024 22:35[234]      F9 B5 B1067.16   \n",
       "6        289  January 14, 2024 08:59[236]      F9 B5 B1061.18   \n",
       "8        290  January 15, 2024 01:52[237]      F9 B5 B1073.12   \n",
       "\n",
       "              Launch site                            Payload[g]  \\\n",
       "0      Vandenberg, SLC‑4E   Starlink: Group 7-9 (22 satellites)   \n",
       "2  Cape Canaveral, SLC‑40                               Ovzon-3   \n",
       "4  Cape Canaveral, SLC‑40  Starlink: Group 6-35 (23 satellites)   \n",
       "6      Vandenberg, SLC‑4E  Starlink: Group 7-10 (22 satellites)   \n",
       "8  Cape Canaveral, SLC‑40  Starlink: Group 6-37 (23 satellites)   \n",
       "\n",
       "             Payload mass Orbit Customer Launch outcome   Booster landing  \n",
       "0  ~16,800 kg (37,000 lb)   LEO   SpaceX        Success  Success (OCISLY)  \n",
       "2     1,800 kg (4,000 lb)   GTO    Ovzon        Success    Success (LZ‑1)  \n",
       "4  ~17,100 kg (37,700 lb)   LEO   SpaceX        Success    Success (ASOG)  \n",
       "6  ~16,700 kg (36,800 lb)   LEO   SpaceX        Success  Success (OCISLY)  \n",
       "8  ~17,100 kg (37,700 lb)   LEO   SpaceX        Success    Success (ASOG)  "
      ]
     },
     "execution_count": 19,
     "metadata": {},
     "output_type": "execute_result"
    }
   ],
   "source": [
    "tables23_24_25[1].head()"
   ]
  },
  {
   "cell_type": "code",
   "execution_count": 21,
   "id": "de9517a0-91f4-4c76-b042-ba822b145773",
   "metadata": {},
   "outputs": [
    {
     "data": {
      "text/html": [
       "<div>\n",
       "<style scoped>\n",
       "    .dataframe tbody tr th:only-of-type {\n",
       "        vertical-align: middle;\n",
       "    }\n",
       "\n",
       "    .dataframe tbody tr th {\n",
       "        vertical-align: top;\n",
       "    }\n",
       "\n",
       "    .dataframe thead th {\n",
       "        text-align: right;\n",
       "    }\n",
       "</style>\n",
       "<table border=\"1\" class=\"dataframe\">\n",
       "  <thead>\n",
       "    <tr style=\"text-align: right;\">\n",
       "      <th></th>\n",
       "      <th>Flight No.</th>\n",
       "      <th>Date and time (UTC)</th>\n",
       "      <th>Version, booster[f]</th>\n",
       "      <th>Launch site</th>\n",
       "      <th>Payload[g]</th>\n",
       "      <th>Payload mass</th>\n",
       "      <th>Orbit</th>\n",
       "      <th>Customer</th>\n",
       "      <th>Launch outcome</th>\n",
       "      <th>Booster landing</th>\n",
       "    </tr>\n",
       "  </thead>\n",
       "  <tbody>\n",
       "    <tr>\n",
       "      <th>0</th>\n",
       "      <td>195</td>\n",
       "      <td>January 3, 2023 14:56[17]</td>\n",
       "      <td>F9 B5 B1060.15</td>\n",
       "      <td>Cape Canaveral, SLC‑40</td>\n",
       "      <td>Transporter-6 (115 payload smallsat rideshare)</td>\n",
       "      <td>Unknown[h]</td>\n",
       "      <td>SSO</td>\n",
       "      <td>Various</td>\n",
       "      <td>Success</td>\n",
       "      <td>Success (LZ‑1)</td>\n",
       "    </tr>\n",
       "    <tr>\n",
       "      <th>1</th>\n",
       "      <td>196</td>\n",
       "      <td>January 10, 2023 04:50[23]</td>\n",
       "      <td>F9 B5 B1076.2</td>\n",
       "      <td>Cape Canaveral, SLC‑40</td>\n",
       "      <td>OneWeb 16 (40 satellites)</td>\n",
       "      <td>6,000 kg (13,000 lb)</td>\n",
       "      <td>Polar LEO</td>\n",
       "      <td>OneWeb</td>\n",
       "      <td>Success</td>\n",
       "      <td>Success (LZ‑1)</td>\n",
       "    </tr>\n",
       "    <tr>\n",
       "      <th>2</th>\n",
       "      <td>FH 5</td>\n",
       "      <td>January 15, 2023 22:56[29]</td>\n",
       "      <td>Falcon Heavy B5 B1070 (core)</td>\n",
       "      <td>Kennedy, LC‑39A</td>\n",
       "      <td>USSF-67 (CBAS-2 &amp; LDPE-3A)</td>\n",
       "      <td>~3,750 kg (8,270 lb)</td>\n",
       "      <td>GEO</td>\n",
       "      <td>USSF</td>\n",
       "      <td>Success</td>\n",
       "      <td>No attempt</td>\n",
       "    </tr>\n",
       "    <tr>\n",
       "      <th>3</th>\n",
       "      <td>FH 5</td>\n",
       "      <td>January 15, 2023 22:56[29]</td>\n",
       "      <td>B1064.2 (side)</td>\n",
       "      <td>Kennedy, LC‑39A</td>\n",
       "      <td>USSF-67 (CBAS-2 &amp; LDPE-3A)</td>\n",
       "      <td>~3,750 kg (8,270 lb)</td>\n",
       "      <td>GEO</td>\n",
       "      <td>USSF</td>\n",
       "      <td>Success</td>\n",
       "      <td>Success (LZ‑2)</td>\n",
       "    </tr>\n",
       "    <tr>\n",
       "      <th>4</th>\n",
       "      <td>FH 5</td>\n",
       "      <td>January 15, 2023 22:56[29]</td>\n",
       "      <td>B1065.2 (side)</td>\n",
       "      <td>Kennedy, LC‑39A</td>\n",
       "      <td>USSF-67 (CBAS-2 &amp; LDPE-3A)</td>\n",
       "      <td>~3,750 kg (8,270 lb)</td>\n",
       "      <td>GEO</td>\n",
       "      <td>USSF</td>\n",
       "      <td>Success</td>\n",
       "      <td>Success (LZ‑1)</td>\n",
       "    </tr>\n",
       "    <tr>\n",
       "      <th>...</th>\n",
       "      <td>...</td>\n",
       "      <td>...</td>\n",
       "      <td>...</td>\n",
       "      <td>...</td>\n",
       "      <td>...</td>\n",
       "      <td>...</td>\n",
       "      <td>...</td>\n",
       "      <td>...</td>\n",
       "      <td>...</td>\n",
       "      <td>...</td>\n",
       "    </tr>\n",
       "    <tr>\n",
       "      <th>279</th>\n",
       "      <td>451</td>\n",
       "      <td>March 24, 2025 17:48[511]</td>\n",
       "      <td>F9 B5 B1092.2</td>\n",
       "      <td>Cape Canaveral, SLC‑40</td>\n",
       "      <td>NROL-69</td>\n",
       "      <td>Unknown</td>\n",
       "      <td>LEO</td>\n",
       "      <td>USSF</td>\n",
       "      <td>Success</td>\n",
       "      <td>Success (LZ‑1)</td>\n",
       "    </tr>\n",
       "    <tr>\n",
       "      <th>280</th>\n",
       "      <td>452</td>\n",
       "      <td>March 26, 2025 22:11[514]</td>\n",
       "      <td>F9 B5 B1063.24</td>\n",
       "      <td>Vandenberg, SLC‑4E</td>\n",
       "      <td>Starlink: Group 11-7</td>\n",
       "      <td>~15,500 kg (34,200 lb)</td>\n",
       "      <td>LEO</td>\n",
       "      <td>SpaceX</td>\n",
       "      <td>Success</td>\n",
       "      <td>Success (OCISLY)</td>\n",
       "    </tr>\n",
       "    <tr>\n",
       "      <th>281</th>\n",
       "      <td>453</td>\n",
       "      <td>March 31, 2025 19:52[515]</td>\n",
       "      <td>F9 B5 B1080.17</td>\n",
       "      <td>Cape Canaveral, SLC‑40</td>\n",
       "      <td>Starlink: Group 6-80</td>\n",
       "      <td>~16,100 kg (35,500 lb)</td>\n",
       "      <td>LEO</td>\n",
       "      <td>SpaceX</td>\n",
       "      <td>Success</td>\n",
       "      <td>Success (JRTI)</td>\n",
       "    </tr>\n",
       "    <tr>\n",
       "      <th>282</th>\n",
       "      <td>454</td>\n",
       "      <td>April 1, 2025 01:46[516]</td>\n",
       "      <td>F9 B5 B1085.6</td>\n",
       "      <td>Kennedy, LC‑39A</td>\n",
       "      <td>Fram2 (Crew Dragon C207.4 Resilience)</td>\n",
       "      <td>~13,000 kg (29,000 lb)</td>\n",
       "      <td>Polar (Retrograde)</td>\n",
       "      <td>Chun Wang</td>\n",
       "      <td>Success</td>\n",
       "      <td>Success (ASOG)</td>\n",
       "    </tr>\n",
       "    <tr>\n",
       "      <th>283</th>\n",
       "      <td>455</td>\n",
       "      <td>April 4, 2025 01:02[519]</td>\n",
       "      <td>F9 B5 B1088.5</td>\n",
       "      <td>Vandenberg, SLC‑4E</td>\n",
       "      <td>Starlink: Group 11-13</td>\n",
       "      <td>~15,500 kg (34,200 lb)</td>\n",
       "      <td>LEO</td>\n",
       "      <td>SpaceX</td>\n",
       "      <td>Success</td>\n",
       "      <td>Success (OCISLY)</td>\n",
       "    </tr>\n",
       "  </tbody>\n",
       "</table>\n",
       "<p>284 rows × 10 columns</p>\n",
       "</div>"
      ],
      "text/plain": [
       "    Flight No.         Date and time (UTC)           Version, booster[f]  \\\n",
       "0          195   January 3, 2023 14:56[17]                F9 B5 B1060.15   \n",
       "1          196  January 10, 2023 04:50[23]                 F9 B5 B1076.2   \n",
       "2         FH 5  January 15, 2023 22:56[29]  Falcon Heavy B5 B1070 (core)   \n",
       "3         FH 5  January 15, 2023 22:56[29]                B1064.2 (side)   \n",
       "4         FH 5  January 15, 2023 22:56[29]                B1065.2 (side)   \n",
       "..         ...                         ...                           ...   \n",
       "279        451   March 24, 2025 17:48[511]                 F9 B5 B1092.2   \n",
       "280        452   March 26, 2025 22:11[514]                F9 B5 B1063.24   \n",
       "281        453   March 31, 2025 19:52[515]                F9 B5 B1080.17   \n",
       "282        454    April 1, 2025 01:46[516]                 F9 B5 B1085.6   \n",
       "283        455    April 4, 2025 01:02[519]                 F9 B5 B1088.5   \n",
       "\n",
       "                Launch site                                      Payload[g]  \\\n",
       "0    Cape Canaveral, SLC‑40  Transporter-6 (115 payload smallsat rideshare)   \n",
       "1    Cape Canaveral, SLC‑40                       OneWeb 16 (40 satellites)   \n",
       "2           Kennedy, LC‑39A                      USSF-67 (CBAS-2 & LDPE-3A)   \n",
       "3           Kennedy, LC‑39A                      USSF-67 (CBAS-2 & LDPE-3A)   \n",
       "4           Kennedy, LC‑39A                      USSF-67 (CBAS-2 & LDPE-3A)   \n",
       "..                      ...                                             ...   \n",
       "279  Cape Canaveral, SLC‑40                                         NROL-69   \n",
       "280      Vandenberg, SLC‑4E                            Starlink: Group 11-7   \n",
       "281  Cape Canaveral, SLC‑40                            Starlink: Group 6-80   \n",
       "282         Kennedy, LC‑39A           Fram2 (Crew Dragon C207.4 Resilience)   \n",
       "283      Vandenberg, SLC‑4E                           Starlink: Group 11-13   \n",
       "\n",
       "               Payload mass               Orbit   Customer Launch outcome  \\\n",
       "0                Unknown[h]                 SSO    Various        Success   \n",
       "1      6,000 kg (13,000 lb)           Polar LEO     OneWeb        Success   \n",
       "2      ~3,750 kg (8,270 lb)                 GEO       USSF        Success   \n",
       "3      ~3,750 kg (8,270 lb)                 GEO       USSF        Success   \n",
       "4      ~3,750 kg (8,270 lb)                 GEO       USSF        Success   \n",
       "..                      ...                 ...        ...            ...   \n",
       "279                 Unknown                 LEO       USSF        Success   \n",
       "280  ~15,500 kg (34,200 lb)                 LEO     SpaceX        Success   \n",
       "281  ~16,100 kg (35,500 lb)                 LEO     SpaceX        Success   \n",
       "282  ~13,000 kg (29,000 lb)  Polar (Retrograde)  Chun Wang        Success   \n",
       "283  ~15,500 kg (34,200 lb)                 LEO     SpaceX        Success   \n",
       "\n",
       "      Booster landing  \n",
       "0      Success (LZ‑1)  \n",
       "1      Success (LZ‑1)  \n",
       "2          No attempt  \n",
       "3      Success (LZ‑2)  \n",
       "4      Success (LZ‑1)  \n",
       "..                ...  \n",
       "279    Success (LZ‑1)  \n",
       "280  Success (OCISLY)  \n",
       "281    Success (JRTI)  \n",
       "282    Success (ASOG)  \n",
       "283  Success (OCISLY)  \n",
       "\n",
       "[284 rows x 10 columns]"
      ]
     },
     "execution_count": 21,
     "metadata": {},
     "output_type": "execute_result"
    }
   ],
   "source": [
    "# Merge the tables for the years 2023, 2024, 2025\n",
    "spacex_wiki_23_25 = pd.concat(t232425, ignore_index=True)\n",
    "spacex_wiki_23_25"
   ]
  },
  {
   "cell_type": "markdown",
   "id": "40fa8c91-dfdd-4b69-8d4a-95e58eac5532",
   "metadata": {
    "jp-MarkdownHeadingCollapsed": true
   },
   "source": [
    "## 3. Data Preprocessing"
   ]
  },
  {
   "cell_type": "markdown",
   "id": "e48795f6-09b0-428e-826c-6eb2423de093",
   "metadata": {
    "jp-MarkdownHeadingCollapsed": true
   },
   "source": [
    "### 3.1 Data untill 2022"
   ]
  },
  {
   "cell_type": "code",
   "execution_count": 32,
   "id": "6a802c6b-7f06-4d61-beb4-f0581769f66f",
   "metadata": {},
   "outputs": [],
   "source": [
    "# We keep only launches that attempted to land\n",
    "spacex_api_22 = spacex_api_22[(spacex_api_22['Landing Attempt'] == True) & (spacex_api_22['Landing Type'] != 'Ocean')]"
   ]
  },
  {
   "cell_type": "code",
   "execution_count": 33,
   "id": "6ced8b2b-c770-4c23-984d-314b42ca4b1d",
   "metadata": {},
   "outputs": [
    {
     "data": {
      "text/html": [
       "<div>\n",
       "<style scoped>\n",
       "    .dataframe tbody tr th:only-of-type {\n",
       "        vertical-align: middle;\n",
       "    }\n",
       "\n",
       "    .dataframe tbody tr th {\n",
       "        vertical-align: top;\n",
       "    }\n",
       "\n",
       "    .dataframe thead th {\n",
       "        text-align: right;\n",
       "    }\n",
       "</style>\n",
       "<table border=\"1\" class=\"dataframe\">\n",
       "  <thead>\n",
       "    <tr style=\"text-align: right;\">\n",
       "      <th></th>\n",
       "      <th>Date</th>\n",
       "      <th>Booster Version</th>\n",
       "      <th>Block</th>\n",
       "      <th>Serial</th>\n",
       "      <th>Gridfins</th>\n",
       "      <th>Legs</th>\n",
       "      <th>Reused</th>\n",
       "      <th>Longitude</th>\n",
       "      <th>Latitude</th>\n",
       "      <th>Launch Site</th>\n",
       "      <th>Payload (Kg)</th>\n",
       "      <th>Orbit</th>\n",
       "      <th>Landpad</th>\n",
       "      <th>Landing Type</th>\n",
       "      <th>Landing Attempt</th>\n",
       "      <th>Landing Success</th>\n",
       "    </tr>\n",
       "  </thead>\n",
       "  <tbody>\n",
       "    <tr>\n",
       "      <th>15</th>\n",
       "      <td>2015-01-10</td>\n",
       "      <td>Falcon 9</td>\n",
       "      <td>1.0</td>\n",
       "      <td>B1012</td>\n",
       "      <td>True</td>\n",
       "      <td>True</td>\n",
       "      <td>False</td>\n",
       "      <td>-80.577366</td>\n",
       "      <td>28.561857</td>\n",
       "      <td>CCSFS SLC 40</td>\n",
       "      <td>2395.0</td>\n",
       "      <td>ISS</td>\n",
       "      <td>5e9e3032383ecb761634e7cb</td>\n",
       "      <td>ASDS</td>\n",
       "      <td>True</td>\n",
       "      <td>False</td>\n",
       "    </tr>\n",
       "    <tr>\n",
       "      <th>17</th>\n",
       "      <td>2015-04-14</td>\n",
       "      <td>Falcon 9</td>\n",
       "      <td>1.0</td>\n",
       "      <td>B1015</td>\n",
       "      <td>True</td>\n",
       "      <td>True</td>\n",
       "      <td>False</td>\n",
       "      <td>-80.577366</td>\n",
       "      <td>28.561857</td>\n",
       "      <td>CCSFS SLC 40</td>\n",
       "      <td>1898.0</td>\n",
       "      <td>ISS</td>\n",
       "      <td>5e9e3032383ecb761634e7cb</td>\n",
       "      <td>ASDS</td>\n",
       "      <td>True</td>\n",
       "      <td>False</td>\n",
       "    </tr>\n",
       "    <tr>\n",
       "      <th>19</th>\n",
       "      <td>2015-06-28</td>\n",
       "      <td>Falcon 9</td>\n",
       "      <td>1.0</td>\n",
       "      <td>B1018</td>\n",
       "      <td>True</td>\n",
       "      <td>True</td>\n",
       "      <td>False</td>\n",
       "      <td>-80.577366</td>\n",
       "      <td>28.561857</td>\n",
       "      <td>CCSFS SLC 40</td>\n",
       "      <td>2477.0</td>\n",
       "      <td>ISS</td>\n",
       "      <td>5e9e3032383ecb6bb234e7ca</td>\n",
       "      <td>ASDS</td>\n",
       "      <td>True</td>\n",
       "      <td>None</td>\n",
       "    </tr>\n",
       "    <tr>\n",
       "      <th>20</th>\n",
       "      <td>2015-12-22</td>\n",
       "      <td>Falcon 9</td>\n",
       "      <td>1.0</td>\n",
       "      <td>B1019</td>\n",
       "      <td>True</td>\n",
       "      <td>True</td>\n",
       "      <td>False</td>\n",
       "      <td>-80.577366</td>\n",
       "      <td>28.561857</td>\n",
       "      <td>CCSFS SLC 40</td>\n",
       "      <td>2034.0</td>\n",
       "      <td>LEO</td>\n",
       "      <td>5e9e3032383ecb267a34e7c7</td>\n",
       "      <td>RTLS</td>\n",
       "      <td>True</td>\n",
       "      <td>True</td>\n",
       "    </tr>\n",
       "    <tr>\n",
       "      <th>21</th>\n",
       "      <td>2016-01-17</td>\n",
       "      <td>Falcon 9</td>\n",
       "      <td>1.0</td>\n",
       "      <td>B1017</td>\n",
       "      <td>True</td>\n",
       "      <td>True</td>\n",
       "      <td>False</td>\n",
       "      <td>-120.610829</td>\n",
       "      <td>34.632093</td>\n",
       "      <td>VAFB SLC 4E</td>\n",
       "      <td>553.0</td>\n",
       "      <td>PO</td>\n",
       "      <td>5e9e3033383ecbb9e534e7cc</td>\n",
       "      <td>ASDS</td>\n",
       "      <td>True</td>\n",
       "      <td>False</td>\n",
       "    </tr>\n",
       "  </tbody>\n",
       "</table>\n",
       "</div>"
      ],
      "text/plain": [
       "          Date Booster Version  Block Serial Gridfins  Legs Reused  \\\n",
       "15  2015-01-10        Falcon 9    1.0  B1012     True  True  False   \n",
       "17  2015-04-14        Falcon 9    1.0  B1015     True  True  False   \n",
       "19  2015-06-28        Falcon 9    1.0  B1018     True  True  False   \n",
       "20  2015-12-22        Falcon 9    1.0  B1019     True  True  False   \n",
       "21  2016-01-17        Falcon 9    1.0  B1017     True  True  False   \n",
       "\n",
       "     Longitude   Latitude   Launch Site  Payload (Kg) Orbit  \\\n",
       "15  -80.577366  28.561857  CCSFS SLC 40        2395.0   ISS   \n",
       "17  -80.577366  28.561857  CCSFS SLC 40        1898.0   ISS   \n",
       "19  -80.577366  28.561857  CCSFS SLC 40        2477.0   ISS   \n",
       "20  -80.577366  28.561857  CCSFS SLC 40        2034.0   LEO   \n",
       "21 -120.610829  34.632093   VAFB SLC 4E         553.0    PO   \n",
       "\n",
       "                     Landpad Landing Type Landing Attempt Landing Success  \n",
       "15  5e9e3032383ecb761634e7cb         ASDS            True           False  \n",
       "17  5e9e3032383ecb761634e7cb         ASDS            True           False  \n",
       "19  5e9e3032383ecb6bb234e7ca         ASDS            True            None  \n",
       "20  5e9e3032383ecb267a34e7c7         RTLS            True            True  \n",
       "21  5e9e3033383ecbb9e534e7cc         ASDS            True           False  "
      ]
     },
     "execution_count": 33,
     "metadata": {},
     "output_type": "execute_result"
    }
   ],
   "source": [
    "# We keep only Falcon9 launches as SpaceX ended the Falcon 1 program\n",
    "spacex_api_22 = spacex_api_22[spacex_api_22['Booster Version'] == 'Falcon 9']\n",
    "spacex_api_22.head()"
   ]
  },
  {
   "cell_type": "code",
   "execution_count": 34,
   "id": "0872460e-be41-42af-880d-2ead12deaa97",
   "metadata": {},
   "outputs": [
    {
     "data": {
      "text/plain": [
       "Index(['Date', 'Booster Version', 'Block', 'Serial', 'Gridfins', 'Legs',\n",
       "       'Reused', 'Longitude', 'Latitude', 'Launch Site', 'Payload (Kg)',\n",
       "       'Orbit', 'Landpad', 'Landing Type', 'Landing Attempt',\n",
       "       'Landing Success'],\n",
       "      dtype='object')"
      ]
     },
     "execution_count": 34,
     "metadata": {},
     "output_type": "execute_result"
    }
   ],
   "source": [
    "spacex_api_22.columns"
   ]
  },
  {
   "cell_type": "code",
   "execution_count": 37,
   "id": "b43714d2-68df-4552-a89a-d1e66ad83ce2",
   "metadata": {},
   "outputs": [],
   "source": [
    "# We keep the Features that are important in the prediction\n",
    "spacex22 = spacex_api_22[[\n",
    "    'Date',\n",
    "    'Block', \n",
    "    'Serial', \n",
    "    'Gridfins', \n",
    "    'Legs',\n",
    "    'Reused',\n",
    "    'Launch Site', \n",
    "    'Payload (Kg)',\n",
    "    'Orbit',\n",
    "    'Landing Type', \n",
    "    'Landing Success'\n",
    "]]"
   ]
  },
  {
   "cell_type": "code",
   "execution_count": 38,
   "id": "88bdb85d-82a1-4bb9-9301-1ed453c9c724",
   "metadata": {},
   "outputs": [
    {
     "data": {
      "text/html": [
       "<div>\n",
       "<style scoped>\n",
       "    .dataframe tbody tr th:only-of-type {\n",
       "        vertical-align: middle;\n",
       "    }\n",
       "\n",
       "    .dataframe tbody tr th {\n",
       "        vertical-align: top;\n",
       "    }\n",
       "\n",
       "    .dataframe thead th {\n",
       "        text-align: right;\n",
       "    }\n",
       "</style>\n",
       "<table border=\"1\" class=\"dataframe\">\n",
       "  <thead>\n",
       "    <tr style=\"text-align: right;\">\n",
       "      <th></th>\n",
       "      <th>Date</th>\n",
       "      <th>Block</th>\n",
       "      <th>Serial</th>\n",
       "      <th>Gridfins</th>\n",
       "      <th>Legs</th>\n",
       "      <th>Reused</th>\n",
       "      <th>Launch Site</th>\n",
       "      <th>Payload (Kg)</th>\n",
       "      <th>Orbit</th>\n",
       "      <th>Landing Type</th>\n",
       "      <th>Landing Success</th>\n",
       "    </tr>\n",
       "  </thead>\n",
       "  <tbody>\n",
       "    <tr>\n",
       "      <th>0</th>\n",
       "      <td>2015-01-10</td>\n",
       "      <td>1.0</td>\n",
       "      <td>B1012</td>\n",
       "      <td>True</td>\n",
       "      <td>True</td>\n",
       "      <td>False</td>\n",
       "      <td>CCSFS SLC 40</td>\n",
       "      <td>2395.0</td>\n",
       "      <td>ISS</td>\n",
       "      <td>ASDS</td>\n",
       "      <td>False</td>\n",
       "    </tr>\n",
       "    <tr>\n",
       "      <th>1</th>\n",
       "      <td>2015-04-14</td>\n",
       "      <td>1.0</td>\n",
       "      <td>B1015</td>\n",
       "      <td>True</td>\n",
       "      <td>True</td>\n",
       "      <td>False</td>\n",
       "      <td>CCSFS SLC 40</td>\n",
       "      <td>1898.0</td>\n",
       "      <td>ISS</td>\n",
       "      <td>ASDS</td>\n",
       "      <td>False</td>\n",
       "    </tr>\n",
       "    <tr>\n",
       "      <th>2</th>\n",
       "      <td>2015-06-28</td>\n",
       "      <td>1.0</td>\n",
       "      <td>B1018</td>\n",
       "      <td>True</td>\n",
       "      <td>True</td>\n",
       "      <td>False</td>\n",
       "      <td>CCSFS SLC 40</td>\n",
       "      <td>2477.0</td>\n",
       "      <td>ISS</td>\n",
       "      <td>ASDS</td>\n",
       "      <td>None</td>\n",
       "    </tr>\n",
       "    <tr>\n",
       "      <th>3</th>\n",
       "      <td>2015-12-22</td>\n",
       "      <td>1.0</td>\n",
       "      <td>B1019</td>\n",
       "      <td>True</td>\n",
       "      <td>True</td>\n",
       "      <td>False</td>\n",
       "      <td>CCSFS SLC 40</td>\n",
       "      <td>2034.0</td>\n",
       "      <td>LEO</td>\n",
       "      <td>RTLS</td>\n",
       "      <td>True</td>\n",
       "    </tr>\n",
       "    <tr>\n",
       "      <th>4</th>\n",
       "      <td>2016-01-17</td>\n",
       "      <td>1.0</td>\n",
       "      <td>B1017</td>\n",
       "      <td>True</td>\n",
       "      <td>True</td>\n",
       "      <td>False</td>\n",
       "      <td>VAFB SLC 4E</td>\n",
       "      <td>553.0</td>\n",
       "      <td>PO</td>\n",
       "      <td>ASDS</td>\n",
       "      <td>False</td>\n",
       "    </tr>\n",
       "  </tbody>\n",
       "</table>\n",
       "</div>"
      ],
      "text/plain": [
       "         Date  Block Serial Gridfins  Legs Reused   Launch Site  Payload (Kg)  \\\n",
       "0  2015-01-10    1.0  B1012     True  True  False  CCSFS SLC 40        2395.0   \n",
       "1  2015-04-14    1.0  B1015     True  True  False  CCSFS SLC 40        1898.0   \n",
       "2  2015-06-28    1.0  B1018     True  True  False  CCSFS SLC 40        2477.0   \n",
       "3  2015-12-22    1.0  B1019     True  True  False  CCSFS SLC 40        2034.0   \n",
       "4  2016-01-17    1.0  B1017     True  True  False   VAFB SLC 4E         553.0   \n",
       "\n",
       "  Orbit Landing Type Landing Success  \n",
       "0   ISS         ASDS           False  \n",
       "1   ISS         ASDS           False  \n",
       "2   ISS         ASDS            None  \n",
       "3   LEO         RTLS            True  \n",
       "4    PO         ASDS           False  "
      ]
     },
     "execution_count": 38,
     "metadata": {},
     "output_type": "execute_result"
    }
   ],
   "source": [
    "spacex22.reset_index(drop=True, inplace=True)\n",
    "spacex22.head()"
   ]
  },
  {
   "cell_type": "code",
   "execution_count": 39,
   "id": "c6aa942a-8cf8-462c-bf8f-1208ee0b26c8",
   "metadata": {},
   "outputs": [
    {
     "data": {
      "text/plain": [
       "array([True], dtype=object)"
      ]
     },
     "execution_count": 39,
     "metadata": {},
     "output_type": "execute_result"
    }
   ],
   "source": [
    "spacex22['Gridfins'].unique()"
   ]
  },
  {
   "cell_type": "code",
   "execution_count": 40,
   "id": "a7c02110-5faa-43e1-a199-ea9b441c3423",
   "metadata": {},
   "outputs": [
    {
     "data": {
      "text/plain": [
       "array([True], dtype=object)"
      ]
     },
     "execution_count": 40,
     "metadata": {},
     "output_type": "execute_result"
    }
   ],
   "source": [
    "spacex22['Legs'].unique()"
   ]
  },
  {
   "cell_type": "code",
   "execution_count": 41,
   "id": "363184fc-cdd3-49fb-97d8-3efb04165f2f",
   "metadata": {},
   "outputs": [],
   "source": [
    "# As every booster has these two features in common, there's no reason to keep them\n",
    "spacex22 = spacex22.drop(['Gridfins', 'Legs'], axis=1)"
   ]
  },
  {
   "cell_type": "code",
   "execution_count": 42,
   "id": "9407ab53-e3ff-442d-b374-8575f1855547",
   "metadata": {},
   "outputs": [
    {
     "data": {
      "text/plain": [
       "(142, 9)"
      ]
     },
     "execution_count": 42,
     "metadata": {},
     "output_type": "execute_result"
    }
   ],
   "source": [
    "spacex22.shape"
   ]
  },
  {
   "cell_type": "code",
   "execution_count": 43,
   "id": "61271c47-aa36-4c30-9c43-6b4557f6ccbc",
   "metadata": {},
   "outputs": [],
   "source": [
    "spacex22['Date'] = pd.to_datetime(spacex22['Date'])"
   ]
  },
  {
   "cell_type": "code",
   "execution_count": 44,
   "id": "40aa7bbe-1b78-450f-b6e6-26483518d05f",
   "metadata": {},
   "outputs": [
    {
     "data": {
      "text/plain": [
       "Date               datetime64[ns]\n",
       "Block                     float64\n",
       "Serial                     object\n",
       "Reused                     object\n",
       "Launch Site                object\n",
       "Payload (Kg)              float64\n",
       "Orbit                      object\n",
       "Landing Type               object\n",
       "Landing Success            object\n",
       "dtype: object"
      ]
     },
     "execution_count": 44,
     "metadata": {},
     "output_type": "execute_result"
    }
   ],
   "source": [
    "spacex22.dtypes"
   ]
  },
  {
   "cell_type": "markdown",
   "id": "587f72ac-c901-4187-87ff-20c9984cf36d",
   "metadata": {
    "jp-MarkdownHeadingCollapsed": true
   },
   "source": [
    "### 3.2 Data 2023-2025"
   ]
  },
  {
   "cell_type": "code",
   "execution_count": 47,
   "id": "f2916e68-8c34-40b3-905c-92f7c77eda67",
   "metadata": {},
   "outputs": [
    {
     "data": {
      "text/html": [
       "<div>\n",
       "<style scoped>\n",
       "    .dataframe tbody tr th:only-of-type {\n",
       "        vertical-align: middle;\n",
       "    }\n",
       "\n",
       "    .dataframe tbody tr th {\n",
       "        vertical-align: top;\n",
       "    }\n",
       "\n",
       "    .dataframe thead th {\n",
       "        text-align: right;\n",
       "    }\n",
       "</style>\n",
       "<table border=\"1\" class=\"dataframe\">\n",
       "  <thead>\n",
       "    <tr style=\"text-align: right;\">\n",
       "      <th></th>\n",
       "      <th>Flight No.</th>\n",
       "      <th>Date and time (UTC)</th>\n",
       "      <th>Version, booster[f]</th>\n",
       "      <th>Launch site</th>\n",
       "      <th>Payload[g]</th>\n",
       "      <th>Payload mass</th>\n",
       "      <th>Orbit</th>\n",
       "      <th>Customer</th>\n",
       "      <th>Launch outcome</th>\n",
       "      <th>Booster landing</th>\n",
       "    </tr>\n",
       "  </thead>\n",
       "  <tbody>\n",
       "    <tr>\n",
       "      <th>0</th>\n",
       "      <td>195</td>\n",
       "      <td>January 3, 2023 14:56[17]</td>\n",
       "      <td>F9 B5 B1060.15</td>\n",
       "      <td>Cape Canaveral, SLC‑40</td>\n",
       "      <td>Transporter-6 (115 payload smallsat rideshare)</td>\n",
       "      <td>Unknown[h]</td>\n",
       "      <td>SSO</td>\n",
       "      <td>Various</td>\n",
       "      <td>Success</td>\n",
       "      <td>Success (LZ‑1)</td>\n",
       "    </tr>\n",
       "    <tr>\n",
       "      <th>1</th>\n",
       "      <td>196</td>\n",
       "      <td>January 10, 2023 04:50[23]</td>\n",
       "      <td>F9 B5 B1076.2</td>\n",
       "      <td>Cape Canaveral, SLC‑40</td>\n",
       "      <td>OneWeb 16 (40 satellites)</td>\n",
       "      <td>6,000 kg (13,000 lb)</td>\n",
       "      <td>Polar LEO</td>\n",
       "      <td>OneWeb</td>\n",
       "      <td>Success</td>\n",
       "      <td>Success (LZ‑1)</td>\n",
       "    </tr>\n",
       "    <tr>\n",
       "      <th>2</th>\n",
       "      <td>FH 5</td>\n",
       "      <td>January 15, 2023 22:56[29]</td>\n",
       "      <td>Falcon Heavy B5 B1070 (core)</td>\n",
       "      <td>Kennedy, LC‑39A</td>\n",
       "      <td>USSF-67 (CBAS-2 &amp; LDPE-3A)</td>\n",
       "      <td>~3,750 kg (8,270 lb)</td>\n",
       "      <td>GEO</td>\n",
       "      <td>USSF</td>\n",
       "      <td>Success</td>\n",
       "      <td>No attempt</td>\n",
       "    </tr>\n",
       "    <tr>\n",
       "      <th>3</th>\n",
       "      <td>FH 5</td>\n",
       "      <td>January 15, 2023 22:56[29]</td>\n",
       "      <td>B1064.2 (side)</td>\n",
       "      <td>Kennedy, LC‑39A</td>\n",
       "      <td>USSF-67 (CBAS-2 &amp; LDPE-3A)</td>\n",
       "      <td>~3,750 kg (8,270 lb)</td>\n",
       "      <td>GEO</td>\n",
       "      <td>USSF</td>\n",
       "      <td>Success</td>\n",
       "      <td>Success (LZ‑2)</td>\n",
       "    </tr>\n",
       "    <tr>\n",
       "      <th>4</th>\n",
       "      <td>FH 5</td>\n",
       "      <td>January 15, 2023 22:56[29]</td>\n",
       "      <td>B1065.2 (side)</td>\n",
       "      <td>Kennedy, LC‑39A</td>\n",
       "      <td>USSF-67 (CBAS-2 &amp; LDPE-3A)</td>\n",
       "      <td>~3,750 kg (8,270 lb)</td>\n",
       "      <td>GEO</td>\n",
       "      <td>USSF</td>\n",
       "      <td>Success</td>\n",
       "      <td>Success (LZ‑1)</td>\n",
       "    </tr>\n",
       "  </tbody>\n",
       "</table>\n",
       "</div>"
      ],
      "text/plain": [
       "  Flight No.         Date and time (UTC)           Version, booster[f]  \\\n",
       "0        195   January 3, 2023 14:56[17]                F9 B5 B1060.15   \n",
       "1        196  January 10, 2023 04:50[23]                 F9 B5 B1076.2   \n",
       "2       FH 5  January 15, 2023 22:56[29]  Falcon Heavy B5 B1070 (core)   \n",
       "3       FH 5  January 15, 2023 22:56[29]                B1064.2 (side)   \n",
       "4       FH 5  January 15, 2023 22:56[29]                B1065.2 (side)   \n",
       "\n",
       "              Launch site                                      Payload[g]  \\\n",
       "0  Cape Canaveral, SLC‑40  Transporter-6 (115 payload smallsat rideshare)   \n",
       "1  Cape Canaveral, SLC‑40                       OneWeb 16 (40 satellites)   \n",
       "2         Kennedy, LC‑39A                      USSF-67 (CBAS-2 & LDPE-3A)   \n",
       "3         Kennedy, LC‑39A                      USSF-67 (CBAS-2 & LDPE-3A)   \n",
       "4         Kennedy, LC‑39A                      USSF-67 (CBAS-2 & LDPE-3A)   \n",
       "\n",
       "           Payload mass      Orbit Customer Launch outcome Booster landing  \n",
       "0            Unknown[h]        SSO  Various        Success  Success (LZ‑1)  \n",
       "1  6,000 kg (13,000 lb)  Polar LEO   OneWeb        Success  Success (LZ‑1)  \n",
       "2  ~3,750 kg (8,270 lb)        GEO     USSF        Success      No attempt  \n",
       "3  ~3,750 kg (8,270 lb)        GEO     USSF        Success  Success (LZ‑2)  \n",
       "4  ~3,750 kg (8,270 lb)        GEO     USSF        Success  Success (LZ‑1)  "
      ]
     },
     "execution_count": 47,
     "metadata": {},
     "output_type": "execute_result"
    }
   ],
   "source": [
    "spacex_wiki_23_25.head()"
   ]
  },
  {
   "cell_type": "code",
   "execution_count": 48,
   "id": "b82c568e-c6eb-4ed2-8e2b-c1e13e23b3ef",
   "metadata": {},
   "outputs": [
    {
     "data": {
      "text/html": [
       "<div>\n",
       "<style scoped>\n",
       "    .dataframe tbody tr th:only-of-type {\n",
       "        vertical-align: middle;\n",
       "    }\n",
       "\n",
       "    .dataframe tbody tr th {\n",
       "        vertical-align: top;\n",
       "    }\n",
       "\n",
       "    .dataframe thead th {\n",
       "        text-align: right;\n",
       "    }\n",
       "</style>\n",
       "<table border=\"1\" class=\"dataframe\">\n",
       "  <thead>\n",
       "    <tr style=\"text-align: right;\">\n",
       "      <th></th>\n",
       "      <th>Flight No.</th>\n",
       "      <th>Date and time (UTC)</th>\n",
       "      <th>Version, booster[f]</th>\n",
       "      <th>Launch site</th>\n",
       "      <th>Payload[g]</th>\n",
       "      <th>Payload mass</th>\n",
       "      <th>Orbit</th>\n",
       "      <th>Customer</th>\n",
       "      <th>Launch outcome</th>\n",
       "      <th>Booster landing</th>\n",
       "    </tr>\n",
       "  </thead>\n",
       "  <tbody>\n",
       "    <tr>\n",
       "      <th>0</th>\n",
       "      <td>195</td>\n",
       "      <td>January 3, 2023 14:56[17]</td>\n",
       "      <td>F9 B5 B1060.15</td>\n",
       "      <td>Cape Canaveral, SLC‑40</td>\n",
       "      <td>Transporter-6 (115 payload smallsat rideshare)</td>\n",
       "      <td>Unknown[h]</td>\n",
       "      <td>SSO</td>\n",
       "      <td>Various</td>\n",
       "      <td>Success</td>\n",
       "      <td>Success (LZ‑1)</td>\n",
       "    </tr>\n",
       "    <tr>\n",
       "      <th>1</th>\n",
       "      <td>196</td>\n",
       "      <td>January 10, 2023 04:50[23]</td>\n",
       "      <td>F9 B5 B1076.2</td>\n",
       "      <td>Cape Canaveral, SLC‑40</td>\n",
       "      <td>OneWeb 16 (40 satellites)</td>\n",
       "      <td>6,000 kg (13,000 lb)</td>\n",
       "      <td>Polar LEO</td>\n",
       "      <td>OneWeb</td>\n",
       "      <td>Success</td>\n",
       "      <td>Success (LZ‑1)</td>\n",
       "    </tr>\n",
       "    <tr>\n",
       "      <th>5</th>\n",
       "      <td>197</td>\n",
       "      <td>January 18, 2023 12:24[33]</td>\n",
       "      <td>F9 B5 B1077.2</td>\n",
       "      <td>Cape Canaveral, SLC‑40</td>\n",
       "      <td>USA-343 (GPS-III SV06)</td>\n",
       "      <td>4,352 kg (9,595 lb)</td>\n",
       "      <td>MEO</td>\n",
       "      <td>USSF</td>\n",
       "      <td>Success</td>\n",
       "      <td>Success (JRTI)</td>\n",
       "    </tr>\n",
       "    <tr>\n",
       "      <th>6</th>\n",
       "      <td>198</td>\n",
       "      <td>January 19, 2023 15:43[39]</td>\n",
       "      <td>F9 B5 B1075.1</td>\n",
       "      <td>Vandenberg, SLC‑4E</td>\n",
       "      <td>Starlink: Group 2-4 (51 satellites)</td>\n",
       "      <td>15,000 kg (33,000 lb)</td>\n",
       "      <td>LEO</td>\n",
       "      <td>SpaceX</td>\n",
       "      <td>Success</td>\n",
       "      <td>Success (OCISLY)</td>\n",
       "    </tr>\n",
       "    <tr>\n",
       "      <th>7</th>\n",
       "      <td>199</td>\n",
       "      <td>January 26, 2023 09:32[40]</td>\n",
       "      <td>F9 B5 B1067.9</td>\n",
       "      <td>Cape Canaveral, SLC‑40</td>\n",
       "      <td>Starlink: Group 5-2 (56 satellites)</td>\n",
       "      <td>~17,400 kg (38,400 lb)</td>\n",
       "      <td>LEO</td>\n",
       "      <td>SpaceX</td>\n",
       "      <td>Success</td>\n",
       "      <td>Success (JRTI)</td>\n",
       "    </tr>\n",
       "  </tbody>\n",
       "</table>\n",
       "</div>"
      ],
      "text/plain": [
       "  Flight No.         Date and time (UTC) Version, booster[f]  \\\n",
       "0        195   January 3, 2023 14:56[17]      F9 B5 B1060.15   \n",
       "1        196  January 10, 2023 04:50[23]       F9 B5 B1076.2   \n",
       "5        197  January 18, 2023 12:24[33]       F9 B5 B1077.2   \n",
       "6        198  January 19, 2023 15:43[39]       F9 B5 B1075.1   \n",
       "7        199  January 26, 2023 09:32[40]       F9 B5 B1067.9   \n",
       "\n",
       "              Launch site                                      Payload[g]  \\\n",
       "0  Cape Canaveral, SLC‑40  Transporter-6 (115 payload smallsat rideshare)   \n",
       "1  Cape Canaveral, SLC‑40                       OneWeb 16 (40 satellites)   \n",
       "5  Cape Canaveral, SLC‑40                          USA-343 (GPS-III SV06)   \n",
       "6      Vandenberg, SLC‑4E             Starlink: Group 2-4 (51 satellites)   \n",
       "7  Cape Canaveral, SLC‑40             Starlink: Group 5-2 (56 satellites)   \n",
       "\n",
       "             Payload mass      Orbit Customer Launch outcome   Booster landing  \n",
       "0              Unknown[h]        SSO  Various        Success    Success (LZ‑1)  \n",
       "1    6,000 kg (13,000 lb)  Polar LEO   OneWeb        Success    Success (LZ‑1)  \n",
       "5     4,352 kg (9,595 lb)        MEO     USSF        Success    Success (JRTI)  \n",
       "6   15,000 kg (33,000 lb)        LEO   SpaceX        Success  Success (OCISLY)  \n",
       "7  ~17,400 kg (38,400 lb)        LEO   SpaceX        Success    Success (JRTI)  "
      ]
     },
     "execution_count": 48,
     "metadata": {},
     "output_type": "execute_result"
    }
   ],
   "source": [
    "# We keep launches with only one core\n",
    "spacex_wiki_23_25['Flight No.'] = spacex_wiki_23_25['Flight No.'].astype(str)\n",
    "spacex_wiki_23_25 = spacex_wiki_23_25[~spacex_wiki_23_25['Flight No.'].str.startswith('FH')]\n",
    "spacex_wiki_23_25.head()"
   ]
  },
  {
   "cell_type": "code",
   "execution_count": 49,
   "id": "cda8964a-f9e1-4284-afc8-0fcb89754ea3",
   "metadata": {},
   "outputs": [
    {
     "data": {
      "text/plain": [
       "Index(['Flight No.', 'Date and time (UTC)', 'Version, booster[f]',\n",
       "       'Launch site', 'Payload[g]', 'Payload mass', 'Orbit', 'Customer',\n",
       "       'Launch outcome', 'Booster landing'],\n",
       "      dtype='object')"
      ]
     },
     "execution_count": 49,
     "metadata": {},
     "output_type": "execute_result"
    }
   ],
   "source": [
    "spacex_wiki_23_25.columns"
   ]
  },
  {
   "cell_type": "code",
   "execution_count": 140,
   "id": "f2d295fb-bb05-4262-8f8d-45179024f187",
   "metadata": {},
   "outputs": [],
   "source": [
    "# We keep the Features that are important in the prediction\n",
    "spacex23_25 = spacex_wiki_23_25[[\n",
    "    'Date and time (UTC)', \n",
    "    'Version, booster[f]',\n",
    "    'Launch site', \n",
    "    'Payload mass', \n",
    "    'Orbit', \n",
    "    'Booster landing'\n",
    "]]"
   ]
  },
  {
   "cell_type": "markdown",
   "id": "b2d79e71-c253-4079-a556-5d5e27326b26",
   "metadata": {},
   "source": [
    "We will transform the name of every launch site to match those of spacex22"
   ]
  },
  {
   "cell_type": "code",
   "execution_count": 142,
   "id": "253687ec-9637-43ab-a287-05c7e0b2f0c4",
   "metadata": {},
   "outputs": [
    {
     "data": {
      "text/plain": [
       "array(['Cape Canaveral, SLC‑40', 'Vandenberg, SLC‑4E', 'Kennedy, LC‑39A',\n",
       "       'Vandenberg, SLC-4E',\n",
       "       'Carried 2,762\\xa0kg (6,089\\xa0lb) of cargo and supplies to the International Space Station (ISS).[408] CRS-31 is the first Dragon scheduled to perform a test \"reboost\" of the ISS on November 8, 2024, burning its aft-facing Draco thrusters for 12.5 minutes to counteract atmospheric drag on the station.[409]',\n",
       "       'Kennedy, LC‑39A[494]'], dtype=object)"
      ]
     },
     "execution_count": 142,
     "metadata": {},
     "output_type": "execute_result"
    }
   ],
   "source": [
    "spacex23_25['Launch site'].unique()"
   ]
  },
  {
   "cell_type": "code",
   "execution_count": 143,
   "id": "6ce5ecc3-7a6d-4a04-82fe-4e5e80de6315",
   "metadata": {},
   "outputs": [],
   "source": [
    "# Filter the DataFrame to keep only valid launch site names (exclude non-site text entries)\n",
    "spacex23_25 = spacex23_25[spacex23_25['Launch site'].isin([\n",
    "    'Cape Canaveral, SLC‑40',\n",
    "    'Vandenberg, SLC‑4E',\n",
    "    'Kennedy, LC‑39A',\n",
    "    'Kennedy, LC‑39A[494]'\n",
    "])]"
   ]
  },
  {
   "cell_type": "code",
   "execution_count": 144,
   "id": "b62fbc8e-22de-4be0-a6a9-1431ffb85019",
   "metadata": {},
   "outputs": [
    {
     "data": {
      "text/plain": [
       "array(['CCSFS SLC 40', 'VAFB SLC 4E', 'KSC LC 39A'], dtype=object)"
      ]
     },
     "execution_count": 144,
     "metadata": {},
     "output_type": "execute_result"
    }
   ],
   "source": [
    "spacex22['Launch Site'].unique()"
   ]
  },
  {
   "cell_type": "code",
   "execution_count": 145,
   "id": "5d88ac9d-9f61-43bc-b084-c1d062b2f677",
   "metadata": {},
   "outputs": [],
   "source": [
    "spacex23_25.loc[spacex23_25['Launch site'].str.startswith('Cape'), 'Launch site'] = 'CCSFS SLC 40'\n",
    "spacex23_25.loc[spacex23_25['Launch site'].str.startswith('Vandenberg'), 'Launch site'] = 'VAFB SLC 4E'\n",
    "spacex23_25.loc[spacex23_25['Launch site'].str.startswith('Kennedy'), 'Launch site'] = 'KSC LC 39A'"
   ]
  },
  {
   "cell_type": "code",
   "execution_count": 146,
   "id": "7058f0b8-4db8-44f4-af53-1d7b4c46c8af",
   "metadata": {},
   "outputs": [
    {
     "data": {
      "text/html": [
       "<div>\n",
       "<style scoped>\n",
       "    .dataframe tbody tr th:only-of-type {\n",
       "        vertical-align: middle;\n",
       "    }\n",
       "\n",
       "    .dataframe tbody tr th {\n",
       "        vertical-align: top;\n",
       "    }\n",
       "\n",
       "    .dataframe thead th {\n",
       "        text-align: right;\n",
       "    }\n",
       "</style>\n",
       "<table border=\"1\" class=\"dataframe\">\n",
       "  <thead>\n",
       "    <tr style=\"text-align: right;\">\n",
       "      <th></th>\n",
       "      <th>Date and time (UTC)</th>\n",
       "      <th>Version, booster[f]</th>\n",
       "      <th>Launch site</th>\n",
       "      <th>Payload mass</th>\n",
       "      <th>Orbit</th>\n",
       "      <th>Booster landing</th>\n",
       "    </tr>\n",
       "  </thead>\n",
       "  <tbody>\n",
       "    <tr>\n",
       "      <th>0</th>\n",
       "      <td>January 3, 2023 14:56[17]</td>\n",
       "      <td>F9 B5 B1060.15</td>\n",
       "      <td>CCSFS SLC 40</td>\n",
       "      <td>Unknown[h]</td>\n",
       "      <td>SSO</td>\n",
       "      <td>Success (LZ‑1)</td>\n",
       "    </tr>\n",
       "    <tr>\n",
       "      <th>1</th>\n",
       "      <td>January 10, 2023 04:50[23]</td>\n",
       "      <td>F9 B5 B1076.2</td>\n",
       "      <td>CCSFS SLC 40</td>\n",
       "      <td>6,000 kg (13,000 lb)</td>\n",
       "      <td>Polar LEO</td>\n",
       "      <td>Success (LZ‑1)</td>\n",
       "    </tr>\n",
       "    <tr>\n",
       "      <th>5</th>\n",
       "      <td>January 18, 2023 12:24[33]</td>\n",
       "      <td>F9 B5 B1077.2</td>\n",
       "      <td>CCSFS SLC 40</td>\n",
       "      <td>4,352 kg (9,595 lb)</td>\n",
       "      <td>MEO</td>\n",
       "      <td>Success (JRTI)</td>\n",
       "    </tr>\n",
       "    <tr>\n",
       "      <th>6</th>\n",
       "      <td>January 19, 2023 15:43[39]</td>\n",
       "      <td>F9 B5 B1075.1</td>\n",
       "      <td>VAFB SLC 4E</td>\n",
       "      <td>15,000 kg (33,000 lb)</td>\n",
       "      <td>LEO</td>\n",
       "      <td>Success (OCISLY)</td>\n",
       "    </tr>\n",
       "    <tr>\n",
       "      <th>7</th>\n",
       "      <td>January 26, 2023 09:32[40]</td>\n",
       "      <td>F9 B5 B1067.9</td>\n",
       "      <td>CCSFS SLC 40</td>\n",
       "      <td>~17,400 kg (38,400 lb)</td>\n",
       "      <td>LEO</td>\n",
       "      <td>Success (JRTI)</td>\n",
       "    </tr>\n",
       "  </tbody>\n",
       "</table>\n",
       "</div>"
      ],
      "text/plain": [
       "          Date and time (UTC) Version, booster[f]   Launch site  \\\n",
       "0   January 3, 2023 14:56[17]      F9 B5 B1060.15  CCSFS SLC 40   \n",
       "1  January 10, 2023 04:50[23]       F9 B5 B1076.2  CCSFS SLC 40   \n",
       "5  January 18, 2023 12:24[33]       F9 B5 B1077.2  CCSFS SLC 40   \n",
       "6  January 19, 2023 15:43[39]       F9 B5 B1075.1   VAFB SLC 4E   \n",
       "7  January 26, 2023 09:32[40]       F9 B5 B1067.9  CCSFS SLC 40   \n",
       "\n",
       "             Payload mass      Orbit   Booster landing  \n",
       "0              Unknown[h]        SSO    Success (LZ‑1)  \n",
       "1    6,000 kg (13,000 lb)  Polar LEO    Success (LZ‑1)  \n",
       "5     4,352 kg (9,595 lb)        MEO    Success (JRTI)  \n",
       "6   15,000 kg (33,000 lb)        LEO  Success (OCISLY)  \n",
       "7  ~17,400 kg (38,400 lb)        LEO    Success (JRTI)  "
      ]
     },
     "execution_count": 146,
     "metadata": {},
     "output_type": "execute_result"
    }
   ],
   "source": [
    "spacex23_25.head()"
   ]
  },
  {
   "cell_type": "markdown",
   "id": "44f75d1a-08ba-4a16-a35e-ccfcf64b26e7",
   "metadata": {},
   "source": [
    "We transform 'Date' to be in datetime type"
   ]
  },
  {
   "cell_type": "code",
   "execution_count": 148,
   "id": "5433bd7f-0568-45f5-9d2d-155db870ed68",
   "metadata": {},
   "outputs": [
    {
     "data": {
      "text/html": [
       "<div>\n",
       "<style scoped>\n",
       "    .dataframe tbody tr th:only-of-type {\n",
       "        vertical-align: middle;\n",
       "    }\n",
       "\n",
       "    .dataframe tbody tr th {\n",
       "        vertical-align: top;\n",
       "    }\n",
       "\n",
       "    .dataframe thead th {\n",
       "        text-align: right;\n",
       "    }\n",
       "</style>\n",
       "<table border=\"1\" class=\"dataframe\">\n",
       "  <thead>\n",
       "    <tr style=\"text-align: right;\">\n",
       "      <th></th>\n",
       "      <th>Date</th>\n",
       "    </tr>\n",
       "  </thead>\n",
       "  <tbody>\n",
       "    <tr>\n",
       "      <th>0</th>\n",
       "      <td>January 3, 2023 14:56[17]</td>\n",
       "    </tr>\n",
       "    <tr>\n",
       "      <th>1</th>\n",
       "      <td>January 10, 2023 04:50[23]</td>\n",
       "    </tr>\n",
       "    <tr>\n",
       "      <th>5</th>\n",
       "      <td>January 18, 2023 12:24[33]</td>\n",
       "    </tr>\n",
       "    <tr>\n",
       "      <th>6</th>\n",
       "      <td>January 19, 2023 15:43[39]</td>\n",
       "    </tr>\n",
       "    <tr>\n",
       "      <th>7</th>\n",
       "      <td>January 26, 2023 09:32[40]</td>\n",
       "    </tr>\n",
       "  </tbody>\n",
       "</table>\n",
       "</div>"
      ],
      "text/plain": [
       "                         Date\n",
       "0   January 3, 2023 14:56[17]\n",
       "1  January 10, 2023 04:50[23]\n",
       "5  January 18, 2023 12:24[33]\n",
       "6  January 19, 2023 15:43[39]\n",
       "7  January 26, 2023 09:32[40]"
      ]
     },
     "execution_count": 148,
     "metadata": {},
     "output_type": "execute_result"
    }
   ],
   "source": [
    "spacex23_25.rename(columns={'Date and time (UTC)': 'Date'}, inplace=True)\n",
    "spacex23_25[['Date']].head()"
   ]
  },
  {
   "cell_type": "code",
   "execution_count": 149,
   "id": "3141ce93-6f5e-4d3e-8ba6-a610458fffde",
   "metadata": {},
   "outputs": [
    {
     "data": {
      "text/html": [
       "<div>\n",
       "<style scoped>\n",
       "    .dataframe tbody tr th:only-of-type {\n",
       "        vertical-align: middle;\n",
       "    }\n",
       "\n",
       "    .dataframe tbody tr th {\n",
       "        vertical-align: top;\n",
       "    }\n",
       "\n",
       "    .dataframe thead th {\n",
       "        text-align: right;\n",
       "    }\n",
       "</style>\n",
       "<table border=\"1\" class=\"dataframe\">\n",
       "  <thead>\n",
       "    <tr style=\"text-align: right;\">\n",
       "      <th></th>\n",
       "      <th>Date</th>\n",
       "    </tr>\n",
       "  </thead>\n",
       "  <tbody>\n",
       "    <tr>\n",
       "      <th>0</th>\n",
       "      <td>2023-01-03</td>\n",
       "    </tr>\n",
       "    <tr>\n",
       "      <th>1</th>\n",
       "      <td>2023-01-10</td>\n",
       "    </tr>\n",
       "    <tr>\n",
       "      <th>5</th>\n",
       "      <td>2023-01-18</td>\n",
       "    </tr>\n",
       "    <tr>\n",
       "      <th>6</th>\n",
       "      <td>2023-01-19</td>\n",
       "    </tr>\n",
       "    <tr>\n",
       "      <th>7</th>\n",
       "      <td>2023-01-26</td>\n",
       "    </tr>\n",
       "  </tbody>\n",
       "</table>\n",
       "</div>"
      ],
      "text/plain": [
       "        Date\n",
       "0 2023-01-03\n",
       "1 2023-01-10\n",
       "5 2023-01-18\n",
       "6 2023-01-19\n",
       "7 2023-01-26"
      ]
     },
     "execution_count": 149,
     "metadata": {},
     "output_type": "execute_result"
    }
   ],
   "source": [
    "# We keep only the date part, we exclude the time\n",
    "dates_only = spacex23_25['Date'].str.extract(r'(\\w+\\s+\\d{1,2},\\s+\\d{4})')[0]\n",
    "spacex23_25['Date'] = pd.to_datetime(dates_only)\n",
    "spacex23_25[['Date']].head()"
   ]
  },
  {
   "cell_type": "markdown",
   "id": "61ae476f-e188-4cb3-b919-61a81223fd93",
   "metadata": {},
   "source": [
    "It will be useful to transform 'Payload' in float type"
   ]
  },
  {
   "cell_type": "code",
   "execution_count": 151,
   "id": "daac3b36-4883-4861-87f4-ebfe8564b537",
   "metadata": {},
   "outputs": [
    {
     "data": {
      "text/plain": [
       "0          NaN\n",
       "1       6000.0\n",
       "5       4352.0\n",
       "6      15000.0\n",
       "7      17400.0\n",
       "        ...   \n",
       "279        NaN\n",
       "280    15500.0\n",
       "281    16100.0\n",
       "282    13000.0\n",
       "283    15500.0\n",
       "Name: 0, Length: 242, dtype: float64"
      ]
     },
     "execution_count": 151,
     "metadata": {},
     "output_type": "execute_result"
    }
   ],
   "source": [
    "digits = spacex23_25['Payload mass'].str.extract(r'~?([\\d,]+)')[0]\n",
    "only_digits = digits.str.replace(',', '', regex=False).astype('float')\n",
    "only_digits"
   ]
  },
  {
   "cell_type": "code",
   "execution_count": 152,
   "id": "d18c3ee1-9898-4c1a-bc01-2c93d8897abe",
   "metadata": {},
   "outputs": [],
   "source": [
    "spacex23_25.rename(columns={'Payload mass':'Payload (Kg)'}, inplace=True)"
   ]
  },
  {
   "cell_type": "code",
   "execution_count": 153,
   "id": "ebeebaa6-8557-45e3-856c-97a1cd53e46b",
   "metadata": {},
   "outputs": [],
   "source": [
    "spacex23_25['Payload (Kg)'] = only_digits"
   ]
  },
  {
   "cell_type": "code",
   "execution_count": 154,
   "id": "304a9853-5f7b-43f9-bd6f-0636c02610f5",
   "metadata": {},
   "outputs": [
    {
     "data": {
      "text/html": [
       "<div>\n",
       "<style scoped>\n",
       "    .dataframe tbody tr th:only-of-type {\n",
       "        vertical-align: middle;\n",
       "    }\n",
       "\n",
       "    .dataframe tbody tr th {\n",
       "        vertical-align: top;\n",
       "    }\n",
       "\n",
       "    .dataframe thead th {\n",
       "        text-align: right;\n",
       "    }\n",
       "</style>\n",
       "<table border=\"1\" class=\"dataframe\">\n",
       "  <thead>\n",
       "    <tr style=\"text-align: right;\">\n",
       "      <th></th>\n",
       "      <th>Date</th>\n",
       "      <th>Version, booster[f]</th>\n",
       "      <th>Launch site</th>\n",
       "      <th>Payload (Kg)</th>\n",
       "      <th>Orbit</th>\n",
       "      <th>Booster landing</th>\n",
       "    </tr>\n",
       "  </thead>\n",
       "  <tbody>\n",
       "    <tr>\n",
       "      <th>0</th>\n",
       "      <td>2023-01-03</td>\n",
       "      <td>F9 B5 B1060.15</td>\n",
       "      <td>CCSFS SLC 40</td>\n",
       "      <td>NaN</td>\n",
       "      <td>SSO</td>\n",
       "      <td>Success (LZ‑1)</td>\n",
       "    </tr>\n",
       "    <tr>\n",
       "      <th>1</th>\n",
       "      <td>2023-01-10</td>\n",
       "      <td>F9 B5 B1076.2</td>\n",
       "      <td>CCSFS SLC 40</td>\n",
       "      <td>6000.0</td>\n",
       "      <td>Polar LEO</td>\n",
       "      <td>Success (LZ‑1)</td>\n",
       "    </tr>\n",
       "    <tr>\n",
       "      <th>5</th>\n",
       "      <td>2023-01-18</td>\n",
       "      <td>F9 B5 B1077.2</td>\n",
       "      <td>CCSFS SLC 40</td>\n",
       "      <td>4352.0</td>\n",
       "      <td>MEO</td>\n",
       "      <td>Success (JRTI)</td>\n",
       "    </tr>\n",
       "    <tr>\n",
       "      <th>6</th>\n",
       "      <td>2023-01-19</td>\n",
       "      <td>F9 B5 B1075.1</td>\n",
       "      <td>VAFB SLC 4E</td>\n",
       "      <td>15000.0</td>\n",
       "      <td>LEO</td>\n",
       "      <td>Success (OCISLY)</td>\n",
       "    </tr>\n",
       "    <tr>\n",
       "      <th>7</th>\n",
       "      <td>2023-01-26</td>\n",
       "      <td>F9 B5 B1067.9</td>\n",
       "      <td>CCSFS SLC 40</td>\n",
       "      <td>17400.0</td>\n",
       "      <td>LEO</td>\n",
       "      <td>Success (JRTI)</td>\n",
       "    </tr>\n",
       "  </tbody>\n",
       "</table>\n",
       "</div>"
      ],
      "text/plain": [
       "        Date Version, booster[f]   Launch site  Payload (Kg)      Orbit  \\\n",
       "0 2023-01-03      F9 B5 B1060.15  CCSFS SLC 40           NaN        SSO   \n",
       "1 2023-01-10       F9 B5 B1076.2  CCSFS SLC 40        6000.0  Polar LEO   \n",
       "5 2023-01-18       F9 B5 B1077.2  CCSFS SLC 40        4352.0        MEO   \n",
       "6 2023-01-19       F9 B5 B1075.1   VAFB SLC 4E       15000.0        LEO   \n",
       "7 2023-01-26       F9 B5 B1067.9  CCSFS SLC 40       17400.0        LEO   \n",
       "\n",
       "    Booster landing  \n",
       "0    Success (LZ‑1)  \n",
       "1    Success (LZ‑1)  \n",
       "5    Success (JRTI)  \n",
       "6  Success (OCISLY)  \n",
       "7    Success (JRTI)  "
      ]
     },
     "execution_count": 154,
     "metadata": {},
     "output_type": "execute_result"
    }
   ],
   "source": [
    "spacex23_25.head()"
   ]
  },
  {
   "cell_type": "code",
   "execution_count": 155,
   "id": "9d8d239d-2b04-413c-ac23-af31a40159d8",
   "metadata": {},
   "outputs": [
    {
     "data": {
      "text/plain": [
       "array(['B5'], dtype=object)"
      ]
     },
     "execution_count": 155,
     "metadata": {},
     "output_type": "execute_result"
    }
   ],
   "source": [
    "# We extract Block's part\n",
    "spacex23_25['Block'] = spacex23_25['Version, booster[f]'].str.extract(r'\\b(B[1-5])\\b')[0]\n",
    "spacex23_25['Block'].unique()"
   ]
  },
  {
   "cell_type": "code",
   "execution_count": 156,
   "id": "89c49efa-18ff-469d-aaf8-e7de69c4fd30",
   "metadata": {},
   "outputs": [
    {
     "data": {
      "text/plain": [
       "array(['B1060.15', 'B1076.2', 'B1077.2', 'B1075.1', 'B1067.9', 'B1071.7',\n",
       "       'B1069.5', 'B1073.6', 'B1062.12', 'B1063.9'], dtype=object)"
      ]
     },
     "execution_count": 156,
     "metadata": {},
     "output_type": "execute_result"
    }
   ],
   "source": [
    "# We extract Serial's part\n",
    "spacex23_25['Serial'] = spacex23_25['Version, booster[f]'].str.extract(r'\\b(B\\d{2}[,\\d\\.]*)')[0]\n",
    "spacex23_25['Serial'].unique()[0:10]"
   ]
  },
  {
   "cell_type": "code",
   "execution_count": 157,
   "id": "0122ff62-425a-4f65-af06-8d2f28c97c6d",
   "metadata": {},
   "outputs": [],
   "source": [
    "# We seperated the features, so we don't need the 'Version, booster[f]' column\n",
    "spacex23_25.drop('Version, booster[f]', axis=1, inplace=True)"
   ]
  },
  {
   "cell_type": "code",
   "execution_count": 159,
   "id": "0d7c94de-d6bb-445c-8085-b3b09143b2aa",
   "metadata": {},
   "outputs": [
    {
     "data": {
      "text/plain": [
       "array(['Success (LZ‑1)', 'Success (JRTI)', 'Success (OCISLY)',\n",
       "       'Success (ASOG)', 'Success (LZ‑4)', 'Partial failure (JRTI)',\n",
       "       'Success (LZ‑2)', 'No attempt', 'Failure (ASOG)', 'Failure (JRTI)'],\n",
       "      dtype=object)"
      ]
     },
     "execution_count": 159,
     "metadata": {},
     "output_type": "execute_result"
    }
   ],
   "source": [
    "# We will split Booster landing column in two different features\n",
    "spacex23_25['Booster landing'].unique()"
   ]
  },
  {
   "cell_type": "code",
   "execution_count": 160,
   "id": "0a27bb2e-afd8-4dc4-87ea-f68632312b9a",
   "metadata": {},
   "outputs": [],
   "source": [
    "# Landing Success feature\n",
    "landing_success = []\n",
    "\n",
    "for row in spacex23_25['Booster landing'].tolist():\n",
    "    if row.startswith('Success'):\n",
    "        landing_success.append(True)\n",
    "    elif row.startswith('No attempt'):\n",
    "        landing_success.append(np.nan)\n",
    "    else:\n",
    "        landing_success.append(False)\n",
    "\n",
    "spacex23_25['Landing Success'] = landing_success"
   ]
  },
  {
   "cell_type": "code",
   "execution_count": 161,
   "id": "2d2d9e6a-c348-4b83-bac7-fcf603a2b164",
   "metadata": {},
   "outputs": [
    {
     "data": {
      "text/plain": [
       "array(['ASDS', 'RTLS'], dtype=object)"
      ]
     },
     "execution_count": 161,
     "metadata": {},
     "output_type": "execute_result"
    }
   ],
   "source": [
    "# Landing type's values from 2022's data\n",
    "spacex22['Landing Type'].unique()"
   ]
  },
  {
   "cell_type": "code",
   "execution_count": 162,
   "id": "fddb8f76-30b4-4e42-93fc-b61283289c24",
   "metadata": {},
   "outputs": [],
   "source": [
    "# 'ASDS' type contains 'JRTI', 'OCISLY', 'ASOG'\n",
    "# 'RTLS' type contains 'LZ‑1', 'LZ‑2', 'LZ‑4'"
   ]
  },
  {
   "cell_type": "code",
   "execution_count": 163,
   "id": "87ea8121-2f9d-4470-9214-a0d9e65e9d3a",
   "metadata": {},
   "outputs": [],
   "source": [
    "# We get the Landing Type values\n",
    "landing_type = []\n",
    "\n",
    "for row in spacex23_25['Booster landing'].tolist():\n",
    "    if isinstance(row, str):\n",
    "        if any(x in row for x in ['JRTI', 'OCISLY', 'ASOG']):\n",
    "            landing_type.append('ASDS')\n",
    "        elif any(x in row for x in ['LZ‑1', 'LZ‑2', 'LZ‑4']):\n",
    "            landing_type.append('RTLS')\n",
    "        else:\n",
    "            landing_type.append(np.nan)\n",
    "    else:\n",
    "        landing_type.append(np.nan)\n",
    "\n",
    "spacex23_25['Landing Type'] = landing_type"
   ]
  },
  {
   "cell_type": "code",
   "execution_count": 164,
   "id": "65c411b9-8648-446f-8e8b-6ce65033b35e",
   "metadata": {},
   "outputs": [],
   "source": [
    "# We seperated the 'Booster landing' column in two different columns, so we don't need it\n",
    "spacex23_25.drop('Booster landing', axis=1, inplace=True)"
   ]
  },
  {
   "cell_type": "markdown",
   "id": "3d5f2f9b-4fc4-4ba6-8d69-43505db86a11",
   "metadata": {},
   "source": [
    "\n",
    "The Serial's decimal part is the number of times that a booster has reused. So, if the decimal part is greater than 1, the booster has been reused:"
   ]
  },
  {
   "cell_type": "code",
   "execution_count": 166,
   "id": "81e8817f-dbfe-4ee1-a3bc-02fe07af0f66",
   "metadata": {},
   "outputs": [],
   "source": [
    "def is_reused(serial):\n",
    "\n",
    "    if isinstance(serial, str) and '.' in serial:\n",
    "        try:\n",
    "            decimal_part = float(serial.split('.')[1])\n",
    "            return decimal_part > 1\n",
    "        except ValueError:\n",
    "            return False\n",
    "    return False\n",
    "\n",
    "spacex23_25['Reused'] = spacex23_25['Serial'].apply(is_reused)"
   ]
  },
  {
   "cell_type": "code",
   "execution_count": 167,
   "id": "17d79d8b-4c9a-436c-992a-8219d0bbf482",
   "metadata": {},
   "outputs": [],
   "source": [
    "# Serial's number is the first 4 digits\n",
    "spacex23_25['Serial'] = spacex23_25['Serial'].str.extract(r'(B\\d{4})')[0]"
   ]
  },
  {
   "cell_type": "code",
   "execution_count": 168,
   "id": "b698eb59-37e6-4942-977a-2185b3ab8c37",
   "metadata": {},
   "outputs": [],
   "source": [
    "spacex23_25.rename(columns={'Launch site': 'Launch Site'}, inplace=True)"
   ]
  },
  {
   "cell_type": "code",
   "execution_count": 169,
   "id": "fba79149-5bdc-48f6-ad05-19951ad383f6",
   "metadata": {},
   "outputs": [],
   "source": [
    "# Reorder columns to match those of spacex22 dataframe\n",
    "spacex23_25 = spacex23_25[['Date', 'Block', 'Serial', 'Reused', 'Launch Site', 'Payload (Kg)', 'Orbit', 'Landing Type', 'Landing Success']]"
   ]
  },
  {
   "cell_type": "code",
   "execution_count": 170,
   "id": "58c49439-52b9-41ee-9968-d03130197335",
   "metadata": {},
   "outputs": [],
   "source": [
    "# It's useful to have Block's values as numericals rather than in the form of 'B5'\n",
    "spacex23_25['Block'] = spacex23_25['Block'].str.extract(r'B(\\d+)')[0]"
   ]
  },
  {
   "cell_type": "code",
   "execution_count": 22,
   "id": "db8de4fd-ea61-47f9-bca8-75f7c030585b",
   "metadata": {},
   "outputs": [
    {
     "data": {
      "text/plain": [
       "array(['SSO', 'Polar LEO', 'MEO', 'LEO', 'GTO', 'LEO (ISS)',\n",
       "       'Sun–Earth L2 injection', 'TLI', 'Molniya', 'Heliocentric',\n",
       "       'Polar (Retrograde)'], dtype=object)"
      ]
     },
     "execution_count": 22,
     "metadata": {},
     "output_type": "execute_result"
    }
   ],
   "source": [
    "spacex23_25['Orbit'].unique()"
   ]
  },
  {
   "cell_type": "code",
   "execution_count": 23,
   "id": "94e25a99-44ec-475b-804d-e9a2e2f35955",
   "metadata": {},
   "outputs": [
    {
     "data": {
      "text/plain": [
       "array(['ISS', 'LEO', 'PO', 'GTO', 'SSO', 'HEO', 'VLEO', 'MEO', 'GEO',\n",
       "       None, 'TLI'], dtype=object)"
      ]
     },
     "execution_count": 23,
     "metadata": {},
     "output_type": "execute_result"
    }
   ],
   "source": [
    "spacex22['Orbit'].unique()"
   ]
  },
  {
   "cell_type": "code",
   "execution_count": 48,
   "id": "b583849f-2a65-4793-9bec-6b9e07d9edec",
   "metadata": {},
   "outputs": [],
   "source": [
    "# Some Orbits are the same but present with different names in the two datasets, so we have to match them\n",
    "spacex23_25.loc[spacex23_25['Orbit'].str.startswith('LEO (ISS)'), 'Orbit'] = 'ISS'\n",
    "spacex23_25.loc[spacex23_25['Orbit'].str.startswith('LEO'), 'Orbit'] = 'LEO'\n",
    "spacex23_25.loc[spacex23_25['Orbit'].str.startswith('Polar LEO'), 'Orbit'] = 'PO'\n",
    "spacex23_25.loc[spacex23_25['Orbit'].str.startswith('Molniya'), 'Orbit'] = 'HEO'\n",
    "spacex23_25.loc[spacex23_25['Orbit'].str.startswith('Polar (Retrograde)'), 'Orbit'] = 'PO'\n",
    "spacex23_25.loc[spacex23_25['Orbit'].str.startswith('Sun–Earth L2 injection'), 'Orbit'] = 'GEO'\n",
    "spacex23_25.loc[spacex23_25['Orbit'].str.startswith('Heliocentric'), 'Orbit'] = 'HEO'"
   ]
  },
  {
   "cell_type": "markdown",
   "id": "8f7cb155-17d2-4f39-a895-91ca6da30edd",
   "metadata": {
    "jp-MarkdownHeadingCollapsed": true
   },
   "source": [
    "### 3.3 Merging Datasets"
   ]
  },
  {
   "cell_type": "code",
   "execution_count": 99,
   "id": "85f0a92f-ef55-48e0-8343-9fbce69dfc11",
   "metadata": {},
   "outputs": [
    {
     "name": "stdout",
     "output_type": "stream",
     "text": [
      "23-25:  (242, 9)\n",
      "22:  (142, 9)\n"
     ]
    }
   ],
   "source": [
    "print('23-25: ', spacex23_25.shape)\n",
    "print('22: ', spacex22.shape)"
   ]
  },
  {
   "cell_type": "code",
   "execution_count": 100,
   "id": "b11c9171-4dd1-4f32-b1d4-793c97f87929",
   "metadata": {},
   "outputs": [
    {
     "data": {
      "text/html": [
       "<div>\n",
       "<style scoped>\n",
       "    .dataframe tbody tr th:only-of-type {\n",
       "        vertical-align: middle;\n",
       "    }\n",
       "\n",
       "    .dataframe tbody tr th {\n",
       "        vertical-align: top;\n",
       "    }\n",
       "\n",
       "    .dataframe thead th {\n",
       "        text-align: right;\n",
       "    }\n",
       "</style>\n",
       "<table border=\"1\" class=\"dataframe\">\n",
       "  <thead>\n",
       "    <tr style=\"text-align: right;\">\n",
       "      <th></th>\n",
       "      <th>Date</th>\n",
       "      <th>Block</th>\n",
       "      <th>Serial</th>\n",
       "      <th>Reused</th>\n",
       "      <th>Launch Site</th>\n",
       "      <th>Payload (Kg)</th>\n",
       "      <th>Orbit</th>\n",
       "      <th>Landing Type</th>\n",
       "      <th>Landing Success</th>\n",
       "    </tr>\n",
       "  </thead>\n",
       "  <tbody>\n",
       "    <tr>\n",
       "      <th>0</th>\n",
       "      <td>2015-01-10</td>\n",
       "      <td>1.0</td>\n",
       "      <td>B1012</td>\n",
       "      <td>False</td>\n",
       "      <td>CCSFS SLC 40</td>\n",
       "      <td>2395.0</td>\n",
       "      <td>ISS</td>\n",
       "      <td>ASDS</td>\n",
       "      <td>False</td>\n",
       "    </tr>\n",
       "    <tr>\n",
       "      <th>1</th>\n",
       "      <td>2015-04-14</td>\n",
       "      <td>1.0</td>\n",
       "      <td>B1015</td>\n",
       "      <td>False</td>\n",
       "      <td>CCSFS SLC 40</td>\n",
       "      <td>1898.0</td>\n",
       "      <td>ISS</td>\n",
       "      <td>ASDS</td>\n",
       "      <td>False</td>\n",
       "    </tr>\n",
       "    <tr>\n",
       "      <th>2</th>\n",
       "      <td>2015-06-28</td>\n",
       "      <td>1.0</td>\n",
       "      <td>B1018</td>\n",
       "      <td>False</td>\n",
       "      <td>CCSFS SLC 40</td>\n",
       "      <td>2477.0</td>\n",
       "      <td>ISS</td>\n",
       "      <td>ASDS</td>\n",
       "      <td>None</td>\n",
       "    </tr>\n",
       "    <tr>\n",
       "      <th>3</th>\n",
       "      <td>2015-12-22</td>\n",
       "      <td>1.0</td>\n",
       "      <td>B1019</td>\n",
       "      <td>False</td>\n",
       "      <td>CCSFS SLC 40</td>\n",
       "      <td>2034.0</td>\n",
       "      <td>LEO</td>\n",
       "      <td>RTLS</td>\n",
       "      <td>True</td>\n",
       "    </tr>\n",
       "    <tr>\n",
       "      <th>4</th>\n",
       "      <td>2016-01-17</td>\n",
       "      <td>1.0</td>\n",
       "      <td>B1017</td>\n",
       "      <td>False</td>\n",
       "      <td>VAFB SLC 4E</td>\n",
       "      <td>553.0</td>\n",
       "      <td>PO</td>\n",
       "      <td>ASDS</td>\n",
       "      <td>False</td>\n",
       "    </tr>\n",
       "  </tbody>\n",
       "</table>\n",
       "</div>"
      ],
      "text/plain": [
       "        Date Block Serial Reused   Launch Site  Payload (Kg) Orbit  \\\n",
       "0 2015-01-10   1.0  B1012  False  CCSFS SLC 40        2395.0   ISS   \n",
       "1 2015-04-14   1.0  B1015  False  CCSFS SLC 40        1898.0   ISS   \n",
       "2 2015-06-28   1.0  B1018  False  CCSFS SLC 40        2477.0   ISS   \n",
       "3 2015-12-22   1.0  B1019  False  CCSFS SLC 40        2034.0   LEO   \n",
       "4 2016-01-17   1.0  B1017  False   VAFB SLC 4E         553.0    PO   \n",
       "\n",
       "  Landing Type Landing Success  \n",
       "0         ASDS           False  \n",
       "1         ASDS           False  \n",
       "2         ASDS            None  \n",
       "3         RTLS            True  \n",
       "4         ASDS           False  "
      ]
     },
     "execution_count": 100,
     "metadata": {},
     "output_type": "execute_result"
    }
   ],
   "source": [
    "# Finally, the dataframe will be\n",
    "df_spacex = pd.concat([spacex22, spacex23_25], ignore_index=True)\n",
    "df_spacex.head()"
   ]
  },
  {
   "cell_type": "markdown",
   "id": "0751aa8b-60e2-488c-8289-7d91c899d16a",
   "metadata": {
    "jp-MarkdownHeadingCollapsed": true
   },
   "source": [
    "## 4. Data Cleaning"
   ]
  },
  {
   "cell_type": "code",
   "execution_count": 101,
   "id": "d014a8c4-fe3a-4b7a-8c0e-bf4b9c1606fe",
   "metadata": {},
   "outputs": [
    {
     "data": {
      "text/html": [
       "<div>\n",
       "<style scoped>\n",
       "    .dataframe tbody tr th:only-of-type {\n",
       "        vertical-align: middle;\n",
       "    }\n",
       "\n",
       "    .dataframe tbody tr th {\n",
       "        vertical-align: top;\n",
       "    }\n",
       "\n",
       "    .dataframe thead th {\n",
       "        text-align: right;\n",
       "    }\n",
       "</style>\n",
       "<table border=\"1\" class=\"dataframe\">\n",
       "  <thead>\n",
       "    <tr style=\"text-align: right;\">\n",
       "      <th></th>\n",
       "      <th>Date</th>\n",
       "      <th>Block</th>\n",
       "      <th>Serial</th>\n",
       "      <th>Reused</th>\n",
       "      <th>Launch Site</th>\n",
       "      <th>Payload (Kg)</th>\n",
       "      <th>Orbit</th>\n",
       "      <th>Landing Type</th>\n",
       "      <th>Landing Success</th>\n",
       "    </tr>\n",
       "  </thead>\n",
       "  <tbody>\n",
       "    <tr>\n",
       "      <th>0</th>\n",
       "      <td>2015-01-10</td>\n",
       "      <td>1.0</td>\n",
       "      <td>B1012</td>\n",
       "      <td>False</td>\n",
       "      <td>CCSFS SLC 40</td>\n",
       "      <td>2395.0</td>\n",
       "      <td>ISS</td>\n",
       "      <td>ASDS</td>\n",
       "      <td>False</td>\n",
       "    </tr>\n",
       "    <tr>\n",
       "      <th>1</th>\n",
       "      <td>2015-04-14</td>\n",
       "      <td>1.0</td>\n",
       "      <td>B1015</td>\n",
       "      <td>False</td>\n",
       "      <td>CCSFS SLC 40</td>\n",
       "      <td>1898.0</td>\n",
       "      <td>ISS</td>\n",
       "      <td>ASDS</td>\n",
       "      <td>False</td>\n",
       "    </tr>\n",
       "  </tbody>\n",
       "</table>\n",
       "</div>"
      ],
      "text/plain": [
       "        Date Block Serial Reused   Launch Site  Payload (Kg) Orbit  \\\n",
       "0 2015-01-10   1.0  B1012  False  CCSFS SLC 40        2395.0   ISS   \n",
       "1 2015-04-14   1.0  B1015  False  CCSFS SLC 40        1898.0   ISS   \n",
       "\n",
       "  Landing Type Landing Success  \n",
       "0         ASDS           False  \n",
       "1         ASDS           False  "
      ]
     },
     "execution_count": 101,
     "metadata": {},
     "output_type": "execute_result"
    }
   ],
   "source": [
    "df_spacex.head(2)"
   ]
  },
  {
   "cell_type": "code",
   "execution_count": 102,
   "id": "36d09faa-9c0b-40a2-996a-347bb6b0cdc0",
   "metadata": {},
   "outputs": [
    {
     "data": {
      "text/html": [
       "<div>\n",
       "<style scoped>\n",
       "    .dataframe tbody tr th:only-of-type {\n",
       "        vertical-align: middle;\n",
       "    }\n",
       "\n",
       "    .dataframe tbody tr th {\n",
       "        vertical-align: top;\n",
       "    }\n",
       "\n",
       "    .dataframe thead th {\n",
       "        text-align: right;\n",
       "    }\n",
       "</style>\n",
       "<table border=\"1\" class=\"dataframe\">\n",
       "  <thead>\n",
       "    <tr style=\"text-align: right;\">\n",
       "      <th></th>\n",
       "      <th>Date</th>\n",
       "      <th>Block</th>\n",
       "      <th>Serial</th>\n",
       "      <th>Reused</th>\n",
       "      <th>Launch Site</th>\n",
       "      <th>Payload (Kg)</th>\n",
       "      <th>Orbit</th>\n",
       "      <th>Landing Type</th>\n",
       "      <th>Landing Success</th>\n",
       "    </tr>\n",
       "  </thead>\n",
       "  <tbody>\n",
       "    <tr>\n",
       "      <th>382</th>\n",
       "      <td>2025-04-01</td>\n",
       "      <td>5</td>\n",
       "      <td>B1085</td>\n",
       "      <td>True</td>\n",
       "      <td>KSC LC 39A</td>\n",
       "      <td>13000.0</td>\n",
       "      <td>PO</td>\n",
       "      <td>ASDS</td>\n",
       "      <td>True</td>\n",
       "    </tr>\n",
       "    <tr>\n",
       "      <th>383</th>\n",
       "      <td>2025-04-04</td>\n",
       "      <td>5</td>\n",
       "      <td>B1088</td>\n",
       "      <td>True</td>\n",
       "      <td>VAFB SLC 4E</td>\n",
       "      <td>15500.0</td>\n",
       "      <td>LEO</td>\n",
       "      <td>ASDS</td>\n",
       "      <td>True</td>\n",
       "    </tr>\n",
       "  </tbody>\n",
       "</table>\n",
       "</div>"
      ],
      "text/plain": [
       "          Date Block Serial Reused  Launch Site  Payload (Kg) Orbit  \\\n",
       "382 2025-04-01     5  B1085   True   KSC LC 39A       13000.0    PO   \n",
       "383 2025-04-04     5  B1088   True  VAFB SLC 4E       15500.0   LEO   \n",
       "\n",
       "    Landing Type Landing Success  \n",
       "382         ASDS            True  \n",
       "383         ASDS            True  "
      ]
     },
     "execution_count": 102,
     "metadata": {},
     "output_type": "execute_result"
    }
   ],
   "source": [
    "df_spacex.tail(2)"
   ]
  },
  {
   "cell_type": "code",
   "execution_count": 103,
   "id": "90a78941-97c6-4eed-b1c0-f886bffd1866",
   "metadata": {},
   "outputs": [
    {
     "data": {
      "text/plain": [
       "Date                0\n",
       "Block               0\n",
       "Serial              0\n",
       "Reused              0\n",
       "Launch Site         0\n",
       "Payload (Kg)       38\n",
       "Orbit               1\n",
       "Landing Type        3\n",
       "Landing Success     3\n",
       "dtype: int64"
      ]
     },
     "execution_count": 103,
     "metadata": {},
     "output_type": "execute_result"
    }
   ],
   "source": [
    "df_spacex.isnull().sum()"
   ]
  },
  {
   "cell_type": "code",
   "execution_count": 104,
   "id": "b65d282e-2892-4fe9-9a85-d7f890ee8920",
   "metadata": {},
   "outputs": [],
   "source": [
    "# Payload mass is a continuous variable, so the missing values will be replaced by the mean\n",
    "payload_avg = df_spacex['Payload (Kg)'].mean(axis=0)\n",
    "df_spacex['Payload (Kg)'] = df_spacex['Payload (Kg)'].replace(np.nan, payload_avg)"
   ]
  },
  {
   "cell_type": "code",
   "execution_count": 105,
   "id": "555905ce-a00e-4a00-993e-5a93a4379956",
   "metadata": {},
   "outputs": [],
   "source": [
    "# We will drop the row that includes Orbit's missing value\n",
    "df_spacex.dropna(axis=0, subset=['Orbit'], ignore_index=True, inplace=True)"
   ]
  },
  {
   "cell_type": "code",
   "execution_count": 106,
   "id": "ded34ad2-951b-4f9f-a0da-f6f301ac728c",
   "metadata": {},
   "outputs": [
    {
     "data": {
      "text/plain": [
       "array(['False', 'None', 'True', True, False, nan], dtype=object)"
      ]
     },
     "execution_count": 106,
     "metadata": {},
     "output_type": "execute_result"
    }
   ],
   "source": [
    "df_spacex['Landing Success'].unique()"
   ]
  },
  {
   "cell_type": "code",
   "execution_count": 107,
   "id": "efa40edc-b294-4f72-a075-5725e872f82a",
   "metadata": {},
   "outputs": [
    {
     "data": {
      "text/plain": [
       "array([False, True], dtype=object)"
      ]
     },
     "execution_count": 107,
     "metadata": {},
     "output_type": "execute_result"
    }
   ],
   "source": [
    "# Transform to boolean\n",
    "df_spacex['Landing Success'] = df_spacex['Landing Success'].map({'True': True, 'False': False}).fillna(df_spacex['Landing Success'])\n",
    "\n",
    "# We keep True/False values\n",
    "df_spacex = df_spacex[df_spacex['Landing Success'].isin([True, False])]\n",
    "\n",
    "df_spacex['Landing Success'].unique()"
   ]
  },
  {
   "cell_type": "code",
   "execution_count": 108,
   "id": "3dae275c-f654-4872-91b4-f55aa0dbdf05",
   "metadata": {},
   "outputs": [
    {
     "data": {
      "text/plain": [
       "array([False, True], dtype=object)"
      ]
     },
     "execution_count": 108,
     "metadata": {},
     "output_type": "execute_result"
    }
   ],
   "source": [
    "df_spacex['Reused'].unique()"
   ]
  },
  {
   "cell_type": "code",
   "execution_count": 109,
   "id": "4af53f3c-aa7a-4bcc-9f66-446158cfe74f",
   "metadata": {},
   "outputs": [],
   "source": [
    "# Transform booleans to 0/1 values\n",
    "df_spacex[['Reused', 'Landing Success']] = df_spacex[['Reused', 'Landing Success']].astype(int)"
   ]
  },
  {
   "cell_type": "code",
   "execution_count": 110,
   "id": "68666304-716e-48c8-9c90-0b118cef7db1",
   "metadata": {},
   "outputs": [
    {
     "data": {
      "text/plain": [
       "Date               datetime64[ns]\n",
       "Block                      object\n",
       "Serial                     object\n",
       "Reused                      int32\n",
       "Launch Site                object\n",
       "Payload (Kg)              float64\n",
       "Orbit                      object\n",
       "Landing Type               object\n",
       "Landing Success             int32\n",
       "dtype: object"
      ]
     },
     "execution_count": 110,
     "metadata": {},
     "output_type": "execute_result"
    }
   ],
   "source": [
    "df_spacex.dtypes"
   ]
  },
  {
   "cell_type": "code",
   "execution_count": 111,
   "id": "a901789e-204c-4dc4-a1fa-f6910078efaf",
   "metadata": {},
   "outputs": [
    {
     "data": {
      "text/plain": [
       "Date               0\n",
       "Block              0\n",
       "Serial             0\n",
       "Reused             0\n",
       "Launch Site        0\n",
       "Payload (Kg)       0\n",
       "Orbit              0\n",
       "Landing Type       0\n",
       "Landing Success    0\n",
       "dtype: int64"
      ]
     },
     "execution_count": 111,
     "metadata": {},
     "output_type": "execute_result"
    }
   ],
   "source": [
    "df_spacex.isnull().sum()"
   ]
  },
  {
   "cell_type": "code",
   "execution_count": 112,
   "id": "4df75209-4911-4e90-82a0-644a964437bb",
   "metadata": {},
   "outputs": [
    {
     "data": {
      "text/html": [
       "<div>\n",
       "<style scoped>\n",
       "    .dataframe tbody tr th:only-of-type {\n",
       "        vertical-align: middle;\n",
       "    }\n",
       "\n",
       "    .dataframe tbody tr th {\n",
       "        vertical-align: top;\n",
       "    }\n",
       "\n",
       "    .dataframe thead th {\n",
       "        text-align: right;\n",
       "    }\n",
       "</style>\n",
       "<table border=\"1\" class=\"dataframe\">\n",
       "  <thead>\n",
       "    <tr style=\"text-align: right;\">\n",
       "      <th></th>\n",
       "      <th>Date</th>\n",
       "      <th>Block</th>\n",
       "      <th>Serial</th>\n",
       "      <th>Reused</th>\n",
       "      <th>Launch Site</th>\n",
       "      <th>Payload (Kg)</th>\n",
       "      <th>Orbit</th>\n",
       "      <th>Landing Type</th>\n",
       "      <th>Landing Success</th>\n",
       "    </tr>\n",
       "  </thead>\n",
       "  <tbody>\n",
       "    <tr>\n",
       "      <th>0</th>\n",
       "      <td>2015-01-10</td>\n",
       "      <td>1.0</td>\n",
       "      <td>B1012</td>\n",
       "      <td>0</td>\n",
       "      <td>CCSFS SLC 40</td>\n",
       "      <td>2395.0</td>\n",
       "      <td>ISS</td>\n",
       "      <td>ASDS</td>\n",
       "      <td>0</td>\n",
       "    </tr>\n",
       "    <tr>\n",
       "      <th>1</th>\n",
       "      <td>2015-04-14</td>\n",
       "      <td>1.0</td>\n",
       "      <td>B1015</td>\n",
       "      <td>0</td>\n",
       "      <td>CCSFS SLC 40</td>\n",
       "      <td>1898.0</td>\n",
       "      <td>ISS</td>\n",
       "      <td>ASDS</td>\n",
       "      <td>0</td>\n",
       "    </tr>\n",
       "    <tr>\n",
       "      <th>3</th>\n",
       "      <td>2015-12-22</td>\n",
       "      <td>1.0</td>\n",
       "      <td>B1019</td>\n",
       "      <td>0</td>\n",
       "      <td>CCSFS SLC 40</td>\n",
       "      <td>2034.0</td>\n",
       "      <td>LEO</td>\n",
       "      <td>RTLS</td>\n",
       "      <td>1</td>\n",
       "    </tr>\n",
       "    <tr>\n",
       "      <th>4</th>\n",
       "      <td>2016-01-17</td>\n",
       "      <td>1.0</td>\n",
       "      <td>B1017</td>\n",
       "      <td>0</td>\n",
       "      <td>VAFB SLC 4E</td>\n",
       "      <td>553.0</td>\n",
       "      <td>PO</td>\n",
       "      <td>ASDS</td>\n",
       "      <td>0</td>\n",
       "    </tr>\n",
       "    <tr>\n",
       "      <th>5</th>\n",
       "      <td>2016-03-04</td>\n",
       "      <td>1.0</td>\n",
       "      <td>B1020</td>\n",
       "      <td>0</td>\n",
       "      <td>CCSFS SLC 40</td>\n",
       "      <td>5271.0</td>\n",
       "      <td>GTO</td>\n",
       "      <td>ASDS</td>\n",
       "      <td>0</td>\n",
       "    </tr>\n",
       "  </tbody>\n",
       "</table>\n",
       "</div>"
      ],
      "text/plain": [
       "        Date Block Serial  Reused   Launch Site  Payload (Kg) Orbit  \\\n",
       "0 2015-01-10   1.0  B1012       0  CCSFS SLC 40        2395.0   ISS   \n",
       "1 2015-04-14   1.0  B1015       0  CCSFS SLC 40        1898.0   ISS   \n",
       "3 2015-12-22   1.0  B1019       0  CCSFS SLC 40        2034.0   LEO   \n",
       "4 2016-01-17   1.0  B1017       0   VAFB SLC 4E         553.0    PO   \n",
       "5 2016-03-04   1.0  B1020       0  CCSFS SLC 40        5271.0   GTO   \n",
       "\n",
       "  Landing Type  Landing Success  \n",
       "0         ASDS                0  \n",
       "1         ASDS                0  \n",
       "3         RTLS                1  \n",
       "4         ASDS                0  \n",
       "5         ASDS                0  "
      ]
     },
     "execution_count": 112,
     "metadata": {},
     "output_type": "execute_result"
    }
   ],
   "source": [
    "df_spacex.head()"
   ]
  },
  {
   "cell_type": "code",
   "execution_count": 113,
   "id": "a3212167-d4d6-4ea4-b3df-9a5d831ee264",
   "metadata": {},
   "outputs": [
    {
     "data": {
      "text/html": [
       "<div>\n",
       "<style scoped>\n",
       "    .dataframe tbody tr th:only-of-type {\n",
       "        vertical-align: middle;\n",
       "    }\n",
       "\n",
       "    .dataframe tbody tr th {\n",
       "        vertical-align: top;\n",
       "    }\n",
       "\n",
       "    .dataframe thead th {\n",
       "        text-align: right;\n",
       "    }\n",
       "</style>\n",
       "<table border=\"1\" class=\"dataframe\">\n",
       "  <thead>\n",
       "    <tr style=\"text-align: right;\">\n",
       "      <th></th>\n",
       "      <th>Date</th>\n",
       "      <th>Block</th>\n",
       "      <th>Serial</th>\n",
       "      <th>Reused</th>\n",
       "      <th>Launch Site</th>\n",
       "      <th>Payload (Kg)</th>\n",
       "      <th>Orbit</th>\n",
       "      <th>Landing Type</th>\n",
       "      <th>Landing Success</th>\n",
       "    </tr>\n",
       "  </thead>\n",
       "  <tbody>\n",
       "    <tr>\n",
       "      <th>381</th>\n",
       "      <td>2025-04-01</td>\n",
       "      <td>5</td>\n",
       "      <td>B1085</td>\n",
       "      <td>1</td>\n",
       "      <td>KSC LC 39A</td>\n",
       "      <td>13000.0</td>\n",
       "      <td>PO</td>\n",
       "      <td>ASDS</td>\n",
       "      <td>1</td>\n",
       "    </tr>\n",
       "    <tr>\n",
       "      <th>382</th>\n",
       "      <td>2025-04-04</td>\n",
       "      <td>5</td>\n",
       "      <td>B1088</td>\n",
       "      <td>1</td>\n",
       "      <td>VAFB SLC 4E</td>\n",
       "      <td>15500.0</td>\n",
       "      <td>LEO</td>\n",
       "      <td>ASDS</td>\n",
       "      <td>1</td>\n",
       "    </tr>\n",
       "  </tbody>\n",
       "</table>\n",
       "</div>"
      ],
      "text/plain": [
       "          Date Block Serial  Reused  Launch Site  Payload (Kg) Orbit  \\\n",
       "381 2025-04-01     5  B1085       1   KSC LC 39A       13000.0    PO   \n",
       "382 2025-04-04     5  B1088       1  VAFB SLC 4E       15500.0   LEO   \n",
       "\n",
       "    Landing Type  Landing Success  \n",
       "381         ASDS                1  \n",
       "382         ASDS                1  "
      ]
     },
     "execution_count": 113,
     "metadata": {},
     "output_type": "execute_result"
    }
   ],
   "source": [
    "df_spacex.tail(2)"
   ]
  },
  {
   "cell_type": "markdown",
   "id": "03f235f3-7f0f-41da-bc67-38b09937f72c",
   "metadata": {
    "jp-MarkdownHeadingCollapsed": true
   },
   "source": [
    "## 5. Exploratory Data Analysis"
   ]
  },
  {
   "cell_type": "code",
   "execution_count": 114,
   "id": "d49fbe5f-b99a-45f1-85a5-4909a0550a1f",
   "metadata": {},
   "outputs": [
    {
     "data": {
      "text/plain": [
       "(378, 9)"
      ]
     },
     "execution_count": 114,
     "metadata": {},
     "output_type": "execute_result"
    }
   ],
   "source": [
    "df_spacex.shape"
   ]
  },
  {
   "cell_type": "code",
   "execution_count": 115,
   "id": "e9e55fa8-a432-4ede-a84a-2c895c6f5315",
   "metadata": {},
   "outputs": [
    {
     "data": {
      "text/html": [
       "<div>\n",
       "<style scoped>\n",
       "    .dataframe tbody tr th:only-of-type {\n",
       "        vertical-align: middle;\n",
       "    }\n",
       "\n",
       "    .dataframe tbody tr th {\n",
       "        vertical-align: top;\n",
       "    }\n",
       "\n",
       "    .dataframe thead th {\n",
       "        text-align: right;\n",
       "    }\n",
       "</style>\n",
       "<table border=\"1\" class=\"dataframe\">\n",
       "  <thead>\n",
       "    <tr style=\"text-align: right;\">\n",
       "      <th></th>\n",
       "      <th>Date</th>\n",
       "      <th>Block</th>\n",
       "      <th>Serial</th>\n",
       "      <th>Reused</th>\n",
       "      <th>Launch Site</th>\n",
       "      <th>Payload (Kg)</th>\n",
       "      <th>Orbit</th>\n",
       "      <th>Landing Type</th>\n",
       "      <th>Landing Success</th>\n",
       "    </tr>\n",
       "  </thead>\n",
       "  <tbody>\n",
       "    <tr>\n",
       "      <th>0</th>\n",
       "      <td>2015-01-10</td>\n",
       "      <td>1.0</td>\n",
       "      <td>B1012</td>\n",
       "      <td>0</td>\n",
       "      <td>CCSFS SLC 40</td>\n",
       "      <td>2395.000000</td>\n",
       "      <td>ISS</td>\n",
       "      <td>ASDS</td>\n",
       "      <td>0</td>\n",
       "    </tr>\n",
       "    <tr>\n",
       "      <th>1</th>\n",
       "      <td>2015-04-14</td>\n",
       "      <td>1.0</td>\n",
       "      <td>B1015</td>\n",
       "      <td>0</td>\n",
       "      <td>CCSFS SLC 40</td>\n",
       "      <td>1898.000000</td>\n",
       "      <td>ISS</td>\n",
       "      <td>ASDS</td>\n",
       "      <td>0</td>\n",
       "    </tr>\n",
       "    <tr>\n",
       "      <th>2</th>\n",
       "      <td>2015-12-22</td>\n",
       "      <td>1.0</td>\n",
       "      <td>B1019</td>\n",
       "      <td>0</td>\n",
       "      <td>CCSFS SLC 40</td>\n",
       "      <td>2034.000000</td>\n",
       "      <td>LEO</td>\n",
       "      <td>RTLS</td>\n",
       "      <td>1</td>\n",
       "    </tr>\n",
       "    <tr>\n",
       "      <th>3</th>\n",
       "      <td>2016-01-17</td>\n",
       "      <td>1.0</td>\n",
       "      <td>B1017</td>\n",
       "      <td>0</td>\n",
       "      <td>VAFB SLC 4E</td>\n",
       "      <td>553.000000</td>\n",
       "      <td>PO</td>\n",
       "      <td>ASDS</td>\n",
       "      <td>0</td>\n",
       "    </tr>\n",
       "    <tr>\n",
       "      <th>4</th>\n",
       "      <td>2016-03-04</td>\n",
       "      <td>1.0</td>\n",
       "      <td>B1020</td>\n",
       "      <td>0</td>\n",
       "      <td>CCSFS SLC 40</td>\n",
       "      <td>5271.000000</td>\n",
       "      <td>GTO</td>\n",
       "      <td>ASDS</td>\n",
       "      <td>0</td>\n",
       "    </tr>\n",
       "    <tr>\n",
       "      <th>...</th>\n",
       "      <td>...</td>\n",
       "      <td>...</td>\n",
       "      <td>...</td>\n",
       "      <td>...</td>\n",
       "      <td>...</td>\n",
       "      <td>...</td>\n",
       "      <td>...</td>\n",
       "      <td>...</td>\n",
       "      <td>...</td>\n",
       "    </tr>\n",
       "    <tr>\n",
       "      <th>373</th>\n",
       "      <td>2025-03-24</td>\n",
       "      <td>5</td>\n",
       "      <td>B1092</td>\n",
       "      <td>1</td>\n",
       "      <td>CCSFS SLC 40</td>\n",
       "      <td>11861.666763</td>\n",
       "      <td>LEO</td>\n",
       "      <td>RTLS</td>\n",
       "      <td>1</td>\n",
       "    </tr>\n",
       "    <tr>\n",
       "      <th>374</th>\n",
       "      <td>2025-03-26</td>\n",
       "      <td>5</td>\n",
       "      <td>B1063</td>\n",
       "      <td>1</td>\n",
       "      <td>VAFB SLC 4E</td>\n",
       "      <td>15500.000000</td>\n",
       "      <td>LEO</td>\n",
       "      <td>ASDS</td>\n",
       "      <td>1</td>\n",
       "    </tr>\n",
       "    <tr>\n",
       "      <th>375</th>\n",
       "      <td>2025-03-31</td>\n",
       "      <td>5</td>\n",
       "      <td>B1080</td>\n",
       "      <td>1</td>\n",
       "      <td>CCSFS SLC 40</td>\n",
       "      <td>16100.000000</td>\n",
       "      <td>LEO</td>\n",
       "      <td>ASDS</td>\n",
       "      <td>1</td>\n",
       "    </tr>\n",
       "    <tr>\n",
       "      <th>376</th>\n",
       "      <td>2025-04-01</td>\n",
       "      <td>5</td>\n",
       "      <td>B1085</td>\n",
       "      <td>1</td>\n",
       "      <td>KSC LC 39A</td>\n",
       "      <td>13000.000000</td>\n",
       "      <td>PO</td>\n",
       "      <td>ASDS</td>\n",
       "      <td>1</td>\n",
       "    </tr>\n",
       "    <tr>\n",
       "      <th>377</th>\n",
       "      <td>2025-04-04</td>\n",
       "      <td>5</td>\n",
       "      <td>B1088</td>\n",
       "      <td>1</td>\n",
       "      <td>VAFB SLC 4E</td>\n",
       "      <td>15500.000000</td>\n",
       "      <td>LEO</td>\n",
       "      <td>ASDS</td>\n",
       "      <td>1</td>\n",
       "    </tr>\n",
       "  </tbody>\n",
       "</table>\n",
       "<p>378 rows × 9 columns</p>\n",
       "</div>"
      ],
      "text/plain": [
       "          Date Block Serial  Reused   Launch Site  Payload (Kg) Orbit  \\\n",
       "0   2015-01-10   1.0  B1012       0  CCSFS SLC 40   2395.000000   ISS   \n",
       "1   2015-04-14   1.0  B1015       0  CCSFS SLC 40   1898.000000   ISS   \n",
       "2   2015-12-22   1.0  B1019       0  CCSFS SLC 40   2034.000000   LEO   \n",
       "3   2016-01-17   1.0  B1017       0   VAFB SLC 4E    553.000000    PO   \n",
       "4   2016-03-04   1.0  B1020       0  CCSFS SLC 40   5271.000000   GTO   \n",
       "..         ...   ...    ...     ...           ...           ...   ...   \n",
       "373 2025-03-24     5  B1092       1  CCSFS SLC 40  11861.666763   LEO   \n",
       "374 2025-03-26     5  B1063       1   VAFB SLC 4E  15500.000000   LEO   \n",
       "375 2025-03-31     5  B1080       1  CCSFS SLC 40  16100.000000   LEO   \n",
       "376 2025-04-01     5  B1085       1    KSC LC 39A  13000.000000    PO   \n",
       "377 2025-04-04     5  B1088       1   VAFB SLC 4E  15500.000000   LEO   \n",
       "\n",
       "    Landing Type  Landing Success  \n",
       "0           ASDS                0  \n",
       "1           ASDS                0  \n",
       "2           RTLS                1  \n",
       "3           ASDS                0  \n",
       "4           ASDS                0  \n",
       "..           ...              ...  \n",
       "373         RTLS                1  \n",
       "374         ASDS                1  \n",
       "375         ASDS                1  \n",
       "376         ASDS                1  \n",
       "377         ASDS                1  \n",
       "\n",
       "[378 rows x 9 columns]"
      ]
     },
     "execution_count": 115,
     "metadata": {},
     "output_type": "execute_result"
    }
   ],
   "source": [
    "df_spacex.reset_index(drop=True, inplace=True)\n",
    "df_spacex"
   ]
  },
  {
   "cell_type": "code",
   "execution_count": 116,
   "id": "9de742b2-bf9f-4c14-8f89-4efe60c96c8c",
   "metadata": {},
   "outputs": [
    {
     "data": {
      "text/plain": [
       "Date               datetime64[ns]\n",
       "Block                      object\n",
       "Serial                     object\n",
       "Reused                      int32\n",
       "Launch Site                object\n",
       "Payload (Kg)              float64\n",
       "Orbit                      object\n",
       "Landing Type               object\n",
       "Landing Success             int32\n",
       "dtype: object"
      ]
     },
     "execution_count": 116,
     "metadata": {},
     "output_type": "execute_result"
    }
   ],
   "source": [
    "df_spacex.dtypes"
   ]
  },
  {
   "cell_type": "code",
   "execution_count": 117,
   "id": "2ae4c4c7-790b-42b0-b84e-2eb838f14c7d",
   "metadata": {},
   "outputs": [
    {
     "data": {
      "text/plain": [
       "array([1.0, 2.0, 3.0, 4.0, 5.0, '5'], dtype=object)"
      ]
     },
     "execution_count": 117,
     "metadata": {},
     "output_type": "execute_result"
    }
   ],
   "source": [
    "df_spacex['Block'].unique()"
   ]
  },
  {
   "cell_type": "code",
   "execution_count": 120,
   "id": "0fa8a09e-cc86-49d0-8161-01f80c7d2e0c",
   "metadata": {},
   "outputs": [],
   "source": [
    "df_spacex['Block'] = df_spacex['Block'].astype('int')"
   ]
  },
  {
   "cell_type": "code",
   "execution_count": 121,
   "id": "455ee682-38e7-4ef7-90dd-259367b54d39",
   "metadata": {},
   "outputs": [
    {
     "data": {
      "text/plain": [
       "array([1, 2, 3, 4, 5])"
      ]
     },
     "execution_count": 121,
     "metadata": {},
     "output_type": "execute_result"
    }
   ],
   "source": [
    "df_spacex['Block'].unique()"
   ]
  },
  {
   "cell_type": "code",
   "execution_count": 94,
   "id": "446ad691-3ebb-4f45-b91d-1fddcef355d0",
   "metadata": {},
   "outputs": [
    {
     "data": {
      "text/html": [
       "<div>\n",
       "<style scoped>\n",
       "    .dataframe tbody tr th:only-of-type {\n",
       "        vertical-align: middle;\n",
       "    }\n",
       "\n",
       "    .dataframe tbody tr th {\n",
       "        vertical-align: top;\n",
       "    }\n",
       "\n",
       "    .dataframe thead th {\n",
       "        text-align: right;\n",
       "    }\n",
       "</style>\n",
       "<table border=\"1\" class=\"dataframe\">\n",
       "  <thead>\n",
       "    <tr style=\"text-align: right;\">\n",
       "      <th></th>\n",
       "      <th>Date</th>\n",
       "      <th>Reused</th>\n",
       "      <th>Payload (Kg)</th>\n",
       "      <th>Landing Success</th>\n",
       "    </tr>\n",
       "  </thead>\n",
       "  <tbody>\n",
       "    <tr>\n",
       "      <th>count</th>\n",
       "      <td>378</td>\n",
       "      <td>378.000000</td>\n",
       "      <td>378.000000</td>\n",
       "      <td>378.000000</td>\n",
       "    </tr>\n",
       "    <tr>\n",
       "      <th>mean</th>\n",
       "      <td>2022-10-29 08:34:17.142856960</td>\n",
       "      <td>0.870370</td>\n",
       "      <td>11974.162355</td>\n",
       "      <td>0.970899</td>\n",
       "    </tr>\n",
       "    <tr>\n",
       "      <th>min</th>\n",
       "      <td>2015-01-10 00:00:00</td>\n",
       "      <td>0.000000</td>\n",
       "      <td>330.000000</td>\n",
       "      <td>0.000000</td>\n",
       "    </tr>\n",
       "    <tr>\n",
       "      <th>25%</th>\n",
       "      <td>2021-12-18 06:00:00</td>\n",
       "      <td>1.000000</td>\n",
       "      <td>7000.000000</td>\n",
       "      <td>1.000000</td>\n",
       "    </tr>\n",
       "    <tr>\n",
       "      <th>50%</th>\n",
       "      <td>2023-08-05 00:00:00</td>\n",
       "      <td>1.000000</td>\n",
       "      <td>13260.000000</td>\n",
       "      <td>1.000000</td>\n",
       "    </tr>\n",
       "    <tr>\n",
       "      <th>75%</th>\n",
       "      <td>2024-05-23 18:00:00</td>\n",
       "      <td>1.000000</td>\n",
       "      <td>16500.000000</td>\n",
       "      <td>1.000000</td>\n",
       "    </tr>\n",
       "    <tr>\n",
       "      <th>max</th>\n",
       "      <td>2025-04-04 00:00:00</td>\n",
       "      <td>1.000000</td>\n",
       "      <td>17500.000000</td>\n",
       "      <td>1.000000</td>\n",
       "    </tr>\n",
       "    <tr>\n",
       "      <th>std</th>\n",
       "      <td>NaN</td>\n",
       "      <td>0.336341</td>\n",
       "      <td>5551.769116</td>\n",
       "      <td>0.168311</td>\n",
       "    </tr>\n",
       "  </tbody>\n",
       "</table>\n",
       "</div>"
      ],
      "text/plain": [
       "                                Date      Reused  Payload (Kg)  \\\n",
       "count                            378  378.000000    378.000000   \n",
       "mean   2022-10-29 08:34:17.142856960    0.870370  11974.162355   \n",
       "min              2015-01-10 00:00:00    0.000000    330.000000   \n",
       "25%              2021-12-18 06:00:00    1.000000   7000.000000   \n",
       "50%              2023-08-05 00:00:00    1.000000  13260.000000   \n",
       "75%              2024-05-23 18:00:00    1.000000  16500.000000   \n",
       "max              2025-04-04 00:00:00    1.000000  17500.000000   \n",
       "std                              NaN    0.336341   5551.769116   \n",
       "\n",
       "       Landing Success  \n",
       "count       378.000000  \n",
       "mean          0.970899  \n",
       "min           0.000000  \n",
       "25%           1.000000  \n",
       "50%           1.000000  \n",
       "75%           1.000000  \n",
       "max           1.000000  \n",
       "std           0.168311  "
      ]
     },
     "execution_count": 94,
     "metadata": {},
     "output_type": "execute_result"
    }
   ],
   "source": [
    "df_spacex.describe()"
   ]
  },
  {
   "cell_type": "markdown",
   "id": "22a325fa-7d4d-48eb-942e-153014a2a22e",
   "metadata": {},
   "source": [
    "Let's see if there are outliers for Payload:"
   ]
  },
  {
   "cell_type": "code",
   "execution_count": 74,
   "id": "8dc91759-eccf-442f-a384-f9b5c32fc4f5",
   "metadata": {},
   "outputs": [
    {
     "data": {
      "text/plain": [
       "<Axes: ylabel='Payload (Kg)'>"
      ]
     },
     "execution_count": 74,
     "metadata": {},
     "output_type": "execute_result"
    },
    {
     "data": {
      "image/png": "[encoded data removed]",
      "text/plain": [
       "<Figure size 640x480 with 1 Axes>"
      ]
     },
     "metadata": {},
     "output_type": "display_data"
    }
   ],
   "source": [
    "sns.boxplot(df_spacex, y='Payload (Kg)')"
   ]
  },
  {
   "cell_type": "code",
   "execution_count": 128,
   "id": "39cfd29a-8e0f-45d4-9a19-4752edbe991d",
   "metadata": {},
   "outputs": [
    {
     "data": {
      "text/plain": [
       "Text(0, 0.5, 'Number of Launches')"
      ]
     },
     "execution_count": 128,
     "metadata": {},
     "output_type": "execute_result"
    },
    {
     "data": {
      "image/png": "[encoded data removed]",
      "text/plain": [
       "<Figure size 640x480 with 1 Axes>"
      ]
     },
     "metadata": {},
     "output_type": "display_data"
    }
   ],
   "source": [
    "sns.histplot(df_spacex, x='Payload (Kg)', binwidth=300)\n",
    "plt.ylabel('Number of Launches')"
   ]
  },
  {
   "cell_type": "markdown",
   "id": "4b2589ec-470d-4b8f-8328-7d8cb1b6dcb7",
   "metadata": {},
   "source": [
    "There are not outlier values, so we keep the feature as it is."
   ]
  },
  {
   "cell_type": "markdown",
   "id": "3f64e680-bdb6-439b-883f-5f0689cac234",
   "metadata": {},
   "source": [
    "Let's do some visualizations to understand our data:"
   ]
  },
  {
   "cell_type": "code",
   "execution_count": 129,
   "id": "351ae890-666f-4006-a5de-a312fa882cf0",
   "metadata": {},
   "outputs": [
    {
     "data": {
      "text/plain": [
       "Text(0.5, 1.0, 'Payload Distribution')"
      ]
     },
     "execution_count": 129,
     "metadata": {},
     "output_type": "execute_result"
    },
    {
     "data": {
      "image/png": "[encoded data removed]",
      "text/plain": [
       "<Figure size 640x480 with 1 Axes>"
      ]
     },
     "metadata": {},
     "output_type": "display_data"
    }
   ],
   "source": [
    "sns.histplot(df_spacex, x='Payload (Kg)', bins=30, kde=True)\n",
    "plt.ylabel('Number of Launches')\n",
    "plt.title('Payload Distribution')"
   ]
  },
  {
   "cell_type": "code",
   "execution_count": 68,
   "id": "c31cb868-f001-4e7d-bff4-157a57dd3507",
   "metadata": {},
   "outputs": [
    {
     "data": {
      "text/plain": [
       "Text(0.5, 1.0, 'Payload Mass vs Landing Success')"
      ]
     },
     "execution_count": 68,
     "metadata": {},
     "output_type": "execute_result"
    },
    {
     "data": {
      "image/png": "[encoded data removed]",
      "text/plain": [
       "<Figure size 640x480 with 1 Axes>"
      ]
     },
     "metadata": {},
     "output_type": "display_data"
    }
   ],
   "source": [
    "sns.boxplot(x='Landing Success', y='Payload (Kg)', data=df_spacex)\n",
    "plt.title('Payload Mass vs Landing Success')"
   ]
  },
  {
   "cell_type": "code",
   "execution_count": 18,
   "id": "68b3622e-fae3-4321-8351-cdb90b1bf1d6",
   "metadata": {},
   "outputs": [
    {
     "data": {
      "text/plain": [
       "Text(0.5, 0, 'Payload Mass (Kg)')"
      ]
     },
     "execution_count": 18,
     "metadata": {},
     "output_type": "execute_result"
    },
    {
     "data": {
      "image/png": "[encoded data removed]",
      "text/plain": [
       "<Figure size 640x480 with 1 Axes>"
      ]
     },
     "metadata": {},
     "output_type": "display_data"
    }
   ],
   "source": [
    "sns.scatterplot(x='Payload (Kg)', y='Landing Success', data=df_spacex)\n",
    "plt.title('Landing Success vs Payload Mass (Kg)')\n",
    "plt.xlabel('Payload Mass (Kg)')"
   ]
  },
  {
   "cell_type": "code",
   "execution_count": 19,
   "id": "4d0b2984-c063-4be6-b028-5c7d94b44cb0",
   "metadata": {},
   "outputs": [
    {
     "data": {
      "text/plain": [
       "Text(0.5, 1.0, 'Payload Mass per Orbit')"
      ]
     },
     "execution_count": 19,
     "metadata": {},
     "output_type": "execute_result"
    },
    {
     "data": {
      "image/png": "[encoded data removed]",
      "text/plain": [
       "<Figure size 640x480 with 1 Axes>"
      ]
     },
     "metadata": {},
     "output_type": "display_data"
    }
   ],
   "source": [
    "sns.boxplot(x='Orbit', y='Payload (Kg)', data=df_spacex)\n",
    "plt.xticks(rotation=45)\n",
    "plt.title('Payload Mass per Orbit')"
   ]
  },
  {
   "cell_type": "markdown",
   "id": "15a19ea7-73a6-4483-9ec1-a87805a5c00d",
   "metadata": {},
   "source": [
    "From the above graphs we can extract some useful information:\n",
    "\n",
    "a) At the first graph we see the distribution of the Payload Mass.\n",
    "The majority of the boosters weighs more than 12,000 Kg.\n",
    "\n",
    "b) At the second graph, we see that failure have more probabilities to happen in lighter payload masses.\n",
    "\n",
    "c) At the third graph, we see that failures tend to occur at the extreme values of the Payload Mass,\n",
    "either at very low or very high payloads.\n",
    "\n",
    "d) At the fourth graph, we see that for some orbits have been used more tight weight ranges (either light or heavy),\n",
    "while in others the weight range was wider."
   ]
  },
  {
   "cell_type": "markdown",
   "id": "7688b5ee-5473-4e60-bdc5-600b92e0be23",
   "metadata": {},
   "source": [
    "Does Orbit relate with Success?"
   ]
  },
  {
   "cell_type": "code",
   "execution_count": 125,
   "id": "f273b5f8-8f68-4619-9f43-ba84c24d685c",
   "metadata": {},
   "outputs": [
    {
     "data": {
      "text/plain": [
       "<matplotlib.legend.Legend at 0x1e3840323c0>"
      ]
     },
     "execution_count": 125,
     "metadata": {},
     "output_type": "execute_result"
    },
    {
     "data": {
      "image/png": "[encoded data removed]",
      "text/plain": [
       "<Figure size 640x480 with 1 Axes>"
      ]
     },
     "metadata": {},
     "output_type": "display_data"
    }
   ],
   "source": [
    "order = df_spacex['Orbit'].value_counts().sort_values().index\n",
    "sns.countplot(df_spacex, x='Orbit', hue='Landing Success', order=order)\n",
    "plt.ylabel('Number of Launches')\n",
    "plt.title('Number of Launches per Orbit (Success/Failure)')\n",
    "plt.legend(['Failure', 'Success'])"
   ]
  },
  {
   "cell_type": "code",
   "execution_count": 54,
   "id": "fe1a3edc-a55f-4c36-b3ef-9a361143495b",
   "metadata": {},
   "outputs": [
    {
     "name": "stderr",
     "output_type": "stream",
     "text": [
      "C:\\Users\\George\\anaconda3\\Lib\\site-packages\\seaborn\\categorical.py:3399: UserWarning: 9.8% of the points cannot be placed; you may want to decrease the size of the markers or use stripplot.\n",
      "  warnings.warn(msg, UserWarning)\n"
     ]
    },
    {
     "data": {
      "text/plain": [
       "<matplotlib.legend.Legend at 0x2560c0cc290>"
      ]
     },
     "execution_count": 54,
     "metadata": {},
     "output_type": "execute_result"
    },
    {
     "name": "stderr",
     "output_type": "stream",
     "text": [
      "C:\\Users\\George\\anaconda3\\Lib\\site-packages\\seaborn\\categorical.py:3399: UserWarning: 8.7% of the points cannot be placed; you may want to decrease the size of the markers or use stripplot.\n",
      "  warnings.warn(msg, UserWarning)\n"
     ]
    },
    {
     "data": {
      "image/png": "[encoded data removed]",
      "text/plain": [
       "<Figure size 2000x1000 with 1 Axes>"
      ]
     },
     "metadata": {},
     "output_type": "display_data"
    }
   ],
   "source": [
    "plt.figure(figsize=(20,10))\n",
    "sns.swarmplot(\n",
    "    data=df_spacex,\n",
    "    x='Orbit',\n",
    "    y='Payload (Kg)',\n",
    "    hue='Landing Success',\n",
    "    size=3,\n",
    "    dodge=True\n",
    ")\n",
    "\n",
    "plt.title('Payload Mass by Orbit and Landing Outcome')\n",
    "plt.xticks(rotation=45)\n",
    "plt.legend(title='Landing Success', labels=['Failure', 'Success'])\n"
   ]
  },
  {
   "cell_type": "markdown",
   "id": "99df6075-171b-4bc2-a0e4-d0c7afa3d61a",
   "metadata": {},
   "source": [
    "As we expected, launches for orbits like LEO or VLEO carried heavier payloads, while orbits like GTO or MEO carried lighter payloads. "
   ]
  },
  {
   "cell_type": "code",
   "execution_count": 10,
   "id": "16f7bad0-0742-4616-8edd-1a9f65a60887",
   "metadata": {},
   "outputs": [
    {
     "name": "stdout",
     "output_type": "stream",
     "text": [
      "Success Rate per Orbit is: \n",
      "Orbit\n",
      "PO      0.923077\n",
      "ISS     0.925000\n",
      "VLEO    0.944444\n",
      "GTO     0.971429\n",
      "LEO     0.983957\n",
      "GEO     1.000000\n",
      "HEO     1.000000\n",
      "MEO     1.000000\n",
      "SSO     1.000000\n",
      "TLI     1.000000\n",
      "Name: Landing Success, dtype: float64\n"
     ]
    }
   ],
   "source": [
    "orb_success = df_spacex.groupby('Orbit')['Landing Success'].mean().sort_values()\n",
    "print('Success Rate per Orbit is: ')\n",
    "print(orb_success)"
   ]
  },
  {
   "cell_type": "markdown",
   "id": "42e3bc6f-3751-464b-8303-7225747d7a2b",
   "metadata": {},
   "source": [
    "So we see that Orbit influences the outcome and this because for some orbits, SpaceX has to use more fuel (failed outcomes happen most likely when the booster is out of fuel) or some orbits are used for more difficult missions or different payloads."
   ]
  },
  {
   "cell_type": "markdown",
   "id": "065a8cc9-d596-4ca4-ac63-21039996ebc4",
   "metadata": {},
   "source": [
    "Let's see if landpad is related with landing outcome:"
   ]
  },
  {
   "cell_type": "code",
   "execution_count": 127,
   "id": "406a8937-0a9d-4db8-8661-17f1453d4f72",
   "metadata": {},
   "outputs": [
    {
     "data": {
      "image/png": "[encoded data removed]",
      "text/plain": [
       "<Figure size 640x480 with 1 Axes>"
      ]
     },
     "metadata": {},
     "output_type": "display_data"
    }
   ],
   "source": [
    "order = df_spacex['Landing Type'].value_counts().sort_values().index\n",
    "sns.countplot(df_spacex, x='Landing Type', hue='Landing Success', order=order)\n",
    "plt.xlabel('Landing Type')\n",
    "plt.ylabel('Number of Launches')\n",
    "plt.title('Number of Launches per Landpad (Success vs Failure)')\n",
    "plt.legend(['Failure', 'Success'])\n",
    "plt.show()"
   ]
  },
  {
   "cell_type": "code",
   "execution_count": 144,
   "id": "24055690-4db5-47df-aa60-9c414a51d475",
   "metadata": {},
   "outputs": [
    {
     "name": "stdout",
     "output_type": "stream",
     "text": [
      "Landing Type\n",
      "ASDS    0.968454\n",
      "RTLS    0.983607\n",
      "Name: Landing Success, dtype: float64\n"
     ]
    }
   ],
   "source": [
    "# Success Rate for each Land Type\n",
    "success_rate = df_spacex.groupby('Landing Type')['Landing Success'].mean()\n",
    "print(success_rate)"
   ]
  },
  {
   "cell_type": "markdown",
   "id": "41d2485b-fd72-449b-b747-d2875539ddcd",
   "metadata": {},
   "source": [
    "So we see that even if the ASDS is used more often, te RTLS has slightly better success rate."
   ]
  },
  {
   "cell_type": "markdown",
   "id": "e095fe0c-a1d0-4b45-b638-a1b99d311e2a",
   "metadata": {},
   "source": [
    "Let's see if Launch Sites have any relationship with Landing Success:"
   ]
  },
  {
   "cell_type": "code",
   "execution_count": 20,
   "id": "6e6411b1-309f-449e-b5ac-dc0f7d84c20f",
   "metadata": {},
   "outputs": [
    {
     "data": {
      "text/plain": [
       "<matplotlib.legend.Legend at 0x25606d8ec00>"
      ]
     },
     "execution_count": 20,
     "metadata": {},
     "output_type": "execute_result"
    },
    {
     "data": {
      "image/png": "[encoded data removed]",
      "text/plain": [
       "<Figure size 640x480 with 1 Axes>"
      ]
     },
     "metadata": {},
     "output_type": "display_data"
    }
   ],
   "source": [
    "order = df_spacex['Launch Site'].value_counts().sort_values().index\n",
    "plt.figure()\n",
    "sns.countplot(df_spacex, x='Launch Site', hue='Landing Success', order=order)\n",
    "plt.ylabel('Number of Launches')\n",
    "plt.title('Number of Launches per Launch Site (Success/Failure)')\n",
    "plt.legend(['Failure', 'Success'])"
   ]
  },
  {
   "cell_type": "code",
   "execution_count": 146,
   "id": "23e62ae8-646b-470d-a2c0-a4226f4163ac",
   "metadata": {},
   "outputs": [
    {
     "name": "stdout",
     "output_type": "stream",
     "text": [
      "Launch Site\n",
      "CCSFS SLC 40    0.956311\n",
      "KSC LC 39A      0.987805\n",
      "VAFB SLC 4E     0.988889\n",
      "Name: Landing Success, dtype: float64\n"
     ]
    }
   ],
   "source": [
    "succ_rate = df_spacex.groupby('Launch Site')['Landing Success'].mean()\n",
    "print(succ_rate)"
   ]
  },
  {
   "cell_type": "markdown",
   "id": "77974d37-72ae-484e-90a6-cf13508d3fdd",
   "metadata": {},
   "source": [
    "So, as we see from the results, landing success seems to depend on the launch type. Even if CCSFS SLC 40 is the most used site, the other two have a better outcome"
   ]
  },
  {
   "cell_type": "code",
   "execution_count": 152,
   "id": "9d7468bf-b1f5-465f-8229-a5d43418a413",
   "metadata": {},
   "outputs": [
    {
     "data": {
      "image/png": "[encoded data removed]",
      "text/plain": [
       "<Figure size 1100x400 with 2 Axes>"
      ]
     },
     "metadata": {},
     "output_type": "display_data"
    }
   ],
   "source": [
    "block_success= df_spacex.groupby('Block')['Landing Success'].mean()\n",
    "\n",
    "fig, axes = plt.subplots(1, 2, figsize=(11,4))\n",
    "\n",
    "# Left: Launches per Block plot\n",
    "sns.countplot(df_spacex, x='Block',hue='Landing Success', ax=axes[0])\n",
    "axes[0].set_ylabel('Number of Launches')\n",
    "axes[0].set_title('Number of Launches per Block (Success vs Failure)')\n",
    "axes[0].legend_.texts[0].set_text('Failure')\n",
    "axes[0].legend_.texts[1].set_text('Success')\n",
    "\n",
    "# Right: Success rate barplot\n",
    "sns.barplot(block_success, ax=axes[1])\n",
    "axes[1].set_title('Success Rate per Block')\n",
    "axes[1].set_ylabel('Success Rate')\n",
    "plt.subplots_adjust(wspace=0.4)\n",
    "\n",
    "# Add percentage labels inside the bars (white text)\n",
    "for i, val in enumerate(block_success.values):\n",
    "    axes[1].text(i, val - 0.05, f\"{val:.0%}\", color='white', ha='center', va='center', fontweight='bold')"
   ]
  },
  {
   "cell_type": "markdown",
   "id": "c9f5b80c-54a9-49fc-aa78-0cc8279d9144",
   "metadata": {},
   "source": [
    "What about the relationship between Launch Sites and Landing Types:"
   ]
  },
  {
   "cell_type": "code",
   "execution_count": 23,
   "id": "151f6493-1edc-4f52-acc0-7bb53680b236",
   "metadata": {},
   "outputs": [
    {
     "data": {
      "text/plain": [
       "<Axes: xlabel='Landing Type', ylabel='Launch Site'>"
      ]
     },
     "execution_count": 23,
     "metadata": {},
     "output_type": "execute_result"
    },
    {
     "data": {
      "image/png": "[encoded data removed]",
      "text/plain": [
       "<Figure size 640x480 with 1 Axes>"
      ]
     },
     "metadata": {},
     "output_type": "display_data"
    }
   ],
   "source": [
    "sns.boxplot(df_spacex, y='Launch Site', x='Landing Type')"
   ]
  },
  {
   "cell_type": "code",
   "execution_count": 150,
   "id": "3ad8e288-bf0b-448b-a829-9c732352187d",
   "metadata": {},
   "outputs": [
    {
     "data": {
      "image/png": "[encoded data removed]",
      "text/plain": [
       "<Figure size 1100x400 with 2 Axes>"
      ]
     },
     "metadata": {},
     "output_type": "display_data"
    }
   ],
   "source": [
    "# Replace 0/1 with 'No'/'Yes'\n",
    "yn = df_spacex\n",
    "yn['Reused Label'] = df_spacex['Reused'].map({0: 'No', 1: 'Yes'})\n",
    "reused_success = yn.groupby('Reused Label')['Landing Success'].mean()\n",
    "\n",
    "fig, axes = plt.subplots(1, 2, figsize=(11, 4))\n",
    "\n",
    "# Left: Launch count plot\n",
    "sns.countplot(data=yn, x='Reused Label', hue='Landing Success', ax=axes[0])\n",
    "axes[0].set_ylabel('Number of Launches')\n",
    "axes[0].set_xlabel('Reused')\n",
    "axes[0].set_title('Number of Launches per Reused and Non-reused Boosters')\n",
    "axes[0].legend_.texts[0].set_text('Failure')\n",
    "axes[0].legend_.texts[1].set_text('Success')\n",
    "\n",
    "# Right: Success rate barplot\n",
    "sns.barplot(x=reused_success.index, y=reused_success.values, ax=axes[1])\n",
    "axes[1].set_ylabel('Success Rate')\n",
    "axes[1].set_xlabel('Reused')\n",
    "axes[1].set_title('Success Rate per Reused and Non-reused Boosters')\n",
    "\n",
    "# Add percentage labels inside the bars (white text)\n",
    "for i, val in enumerate(reused_success.values):\n",
    "    axes[1].text(i, val - 0.05, f\"{val:.0%}\", color='white', ha='center', va='center', fontweight='bold')\n",
    "\n",
    "plt.subplots_adjust(wspace=0.4)\n",
    "plt.show()"
   ]
  },
  {
   "cell_type": "markdown",
   "id": "2bf0b7c3-cb4f-480d-aea4-881c1e0ee73e",
   "metadata": {},
   "source": [
    "Maybe there is some relation between Launch Sites and Landing Types:"
   ]
  },
  {
   "cell_type": "code",
   "execution_count": 56,
   "id": "e17bf4c0-e856-459d-a779-279be84162b2",
   "metadata": {},
   "outputs": [
    {
     "data": {
      "text/plain": [
       "Text(0.5, 1.0, 'Landing Success Rate by Launch Site and Landing Type')"
      ]
     },
     "execution_count": 56,
     "metadata": {},
     "output_type": "execute_result"
    },
    {
     "data": {
      "image/png": "[encoded data removed]",
      "text/plain": [
       "<Figure size 640x480 with 2 Axes>"
      ]
     },
     "metadata": {},
     "output_type": "display_data"
    }
   ],
   "source": [
    "# Create Heatmap\n",
    "pivot = df_spacex.pivot_table(\n",
    "    values='Landing Success',\n",
    "    index='Launch Site',\n",
    "    columns='Landing Type',\n",
    "    aggfunc='mean'\n",
    ")\n",
    "\n",
    "sns.heatmap(pivot, annot=True, cmap='YlGnBu', fmt='.2f')\n",
    "plt.title('Landing Success Rate by Launch Site and Landing Type')\n"
   ]
  },
  {
   "cell_type": "markdown",
   "id": "0d8a2fb5-a336-4392-8aa9-438966d2683e",
   "metadata": {},
   "source": [
    "So, we see that launches from VAFB SLC 4E and KSC LC 39A, return to launch site (RTLS) with 100% success, while returns to the ocean pads (ASDS) and launches from CCSFS SLC 40 failed some times."
   ]
  },
  {
   "cell_type": "markdown",
   "id": "ef52c568-0480-4a90-b16c-f4424df01f75",
   "metadata": {},
   "source": [
    "Finally, let's see the fluctuation of Success Rate per Year:"
   ]
  },
  {
   "cell_type": "code",
   "execution_count": 57,
   "id": "0c90ad5a-470c-450a-a1c0-53a085dbb87b",
   "metadata": {},
   "outputs": [
    {
     "data": {
      "text/plain": [
       "Text(0, 0.5, 'Success Rate')"
      ]
     },
     "execution_count": 57,
     "metadata": {},
     "output_type": "execute_result"
    },
    {
     "data": {
      "image/png": "[encoded data removed]",
      "text/plain": [
       "<Figure size 1400x500 with 1 Axes>"
      ]
     },
     "metadata": {},
     "output_type": "display_data"
    }
   ],
   "source": [
    "success_date = df_spacex[['Date', 'Landing Success']].copy()\n",
    "success_date['Year'] = success_date['Date'].dt.year\n",
    "success_date_rate = success_date.groupby('Year')['Landing Success'].mean()\n",
    "success_df = pd.DataFrame(success_date_rate)\n",
    "\n",
    "plt.figure(figsize=(14,5))\n",
    "sns.scatterplot(success_df, x=success_df.index, y='Landing Success')\n",
    "plt.ylabel('Success Rate')"
   ]
  },
  {
   "cell_type": "markdown",
   "id": "80bed4ff-44a1-43b6-b097-23cc4f0cf939",
   "metadata": {},
   "source": [
    "After a sharp rise in 2017, successful landing rates plateau at over 90%, maintaining remarkable consistency."
   ]
  },
  {
   "cell_type": "markdown",
   "id": "181208d7-bdb9-4a85-a78f-5a6b66b9e309",
   "metadata": {},
   "source": [
    "In the next phase, we will use statistical modeling (logistic regression, decision trees, random forest) to evaluate whether the above correlations retain significance when controlling for multiple concurrent factors."
   ]
  },
  {
   "cell_type": "markdown",
   "id": "1079035a-a7e5-46dc-9524-d8ed10386542",
   "metadata": {},
   "source": [
    "## Modeling"
   ]
  },
  {
   "cell_type": "markdown",
   "id": "9aa5d170-4e3a-48f6-a6dd-903d8f68c534",
   "metadata": {},
   "source": [
    "## Save/Load All"
   ]
  },
  {
   "cell_type": "code",
   "execution_count": 177,
   "id": "1d659e7e-15ee-4333-bda1-113e4efdc698",
   "metadata": {},
   "outputs": [
    {
     "data": {
      "text/plain": [
       "['spacex_prj.joblib']"
      ]
     },
     "execution_count": 177,
     "metadata": {},
     "output_type": "execute_result"
    }
   ],
   "source": [
    "variables_dict = {\n",
    "    'data': data,\n",
    "    'data_dict': data_dict,\n",
    "    'df': df,\n",
    "    'df_spacex': df_spacex,\n",
    "    'spacex_api_22': spacex_api_22,\n",
    "    'spacex_wiki_23_25': spacex_wiki_23_25,\n",
    "    'spacex22': spacex22,\n",
    "    'spacex23_25': spacex23_25,\n",
    "    't2023': t2023,\n",
    "    't232425': t232425,\n",
    "    'tables23_24_25': tables23_24_25,\n",
    "}\n",
    "\n",
    "joblib.dump(variables_dict, 'spacex_prj.joblib')"
   ]
  },
  {
   "cell_type": "code",
   "execution_count": 1,
   "id": "c829f355-5e2e-4c6c-bd70-03431057d27a",
   "metadata": {},
   "outputs": [],
   "source": [
    "# Required libraries\n",
    "import requests\n",
    "import pandas as pd\n",
    "import numpy as np\n",
    "import seaborn as sns\n",
    "import matplotlib.pyplot as plt\n",
    "import joblib\n",
    "\n",
    "loaded_objects = joblib.load('spacex_prj.joblib')\n",
    "\n",
    "data = loaded_objects['data']\n",
    "data_dict = loaded_objects['data_dict']\n",
    "df = loaded_objects['df']\n",
    "df_spacex = loaded_objects['df_spacex']\n",
    "spacex_api_22 = loaded_objects['spacex_api_22']\n",
    "spacex_wiki_23_25 = loaded_objects['spacex_wiki_23_25']\n",
    "spacex22 = loaded_objects['spacex22']\n",
    "spacex23_25 = loaded_objects['spacex23_25']\n",
    "t2023 = loaded_objects['t2023']\n",
    "t232425 = loaded_objects['t232425']\n",
    "tables23_24_25 = loaded_objects['tables23_24_25']"
   ]
  },
  {
   "cell_type": "code",
   "execution_count": null,
   "id": "c19a4226-623f-4bdb-826a-653f9507e8bd",
   "metadata": {},
   "outputs": [],
   "source": []
  }
 ],
 "metadata": {
  "kernelspec": {
   "display_name": "Python [conda env:base] *",
   "language": "python",
   "name": "conda-base-py"
  },
  "language_info": {
   "codemirror_mode": {
    "name": "ipython",
    "version": 3
   },
   "file_extension": ".py",
   "mimetype": "text/x-python",
   "name": "python",
   "nbconvert_exporter": "python",
   "pygments_lexer": "ipython3",
   "version": "3.12.7"
  }
 },
 "nbformat": 4,
 "nbformat_minor": 5
}
